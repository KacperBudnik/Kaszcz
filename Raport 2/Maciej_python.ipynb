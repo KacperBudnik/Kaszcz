{
 "cells": [
  {
   "cell_type": "code",
   "execution_count": 83,
   "metadata": {},
   "outputs": [],
   "source": [
    "import numpy as np\n",
    "import pandas as pd\n",
    "import matplotlib.pyplot as plt\n",
    "import seaborn as sns\n",
    "#sns.set_style('darkgrid')\n",
    "import random \n",
    "from statsmodels.tsa.stattools import pacf , acf\n",
    "from statsmodels.graphics.tsaplots import plot_acf, plot_pacf\n",
    "from statsmodels.tsa.arima_process import ArmaProcess, arma_generate_sample\n",
    "from statsmodels.tsa.arima.model import ARIMA\n",
    "\n",
    "from statsmodels.tsa.stattools import adfuller"
   ]
  },
  {
   "cell_type": "code",
   "execution_count": 84,
   "metadata": {},
   "outputs": [],
   "source": [
    "np.random.seed(1410)"
   ]
  },
  {
   "cell_type": "code",
   "execution_count": 85,
   "metadata": {},
   "outputs": [
    {
     "data": {
      "text/html": [
       "<div>\n",
       "<style scoped>\n",
       "    .dataframe tbody tr th:only-of-type {\n",
       "        vertical-align: middle;\n",
       "    }\n",
       "\n",
       "    .dataframe tbody tr th {\n",
       "        vertical-align: top;\n",
       "    }\n",
       "\n",
       "    .dataframe thead th {\n",
       "        text-align: right;\n",
       "    }\n",
       "</style>\n",
       "<table border=\"1\" class=\"dataframe\">\n",
       "  <thead>\n",
       "    <tr style=\"text-align: right;\">\n",
       "      <th></th>\n",
       "      <th>X</th>\n",
       "    </tr>\n",
       "  </thead>\n",
       "  <tbody>\n",
       "    <tr>\n",
       "      <th>0</th>\n",
       "      <td>-5.426634</td>\n",
       "    </tr>\n",
       "    <tr>\n",
       "      <th>1</th>\n",
       "      <td>-6.881817</td>\n",
       "    </tr>\n",
       "    <tr>\n",
       "      <th>2</th>\n",
       "      <td>-0.386337</td>\n",
       "    </tr>\n",
       "    <tr>\n",
       "      <th>3</th>\n",
       "      <td>1.278708</td>\n",
       "    </tr>\n",
       "    <tr>\n",
       "      <th>4</th>\n",
       "      <td>9.995283</td>\n",
       "    </tr>\n",
       "    <tr>\n",
       "      <th>...</th>\n",
       "      <td>...</td>\n",
       "    </tr>\n",
       "    <tr>\n",
       "      <th>2552</th>\n",
       "      <td>-23.547124</td>\n",
       "    </tr>\n",
       "    <tr>\n",
       "      <th>2553</th>\n",
       "      <td>-38.422111</td>\n",
       "    </tr>\n",
       "    <tr>\n",
       "      <th>2554</th>\n",
       "      <td>-25.483648</td>\n",
       "    </tr>\n",
       "    <tr>\n",
       "      <th>2555</th>\n",
       "      <td>-18.703719</td>\n",
       "    </tr>\n",
       "    <tr>\n",
       "      <th>2556</th>\n",
       "      <td>-12.729692</td>\n",
       "    </tr>\n",
       "  </tbody>\n",
       "</table>\n",
       "<p>2557 rows × 1 columns</p>\n",
       "</div>"
      ],
      "text/plain": [
       "              X\n",
       "0     -5.426634\n",
       "1     -6.881817\n",
       "2     -0.386337\n",
       "3      1.278708\n",
       "4      9.995283\n",
       "...         ...\n",
       "2552 -23.547124\n",
       "2553 -38.422111\n",
       "2554 -25.483648\n",
       "2555 -18.703719\n",
       "2556 -12.729692\n",
       "\n",
       "[2557 rows x 1 columns]"
      ]
     },
     "execution_count": 85,
     "metadata": {},
     "output_type": "execute_result"
    }
   ],
   "source": [
    "data = pd.read_csv('w.csv')\n",
    "data"
   ]
  },
  {
   "cell_type": "code",
   "execution_count": 86,
   "metadata": {},
   "outputs": [
    {
     "name": "stderr",
     "output_type": "stream",
     "text": [
      "c:\\Users\\mkarc\\AppData\\Local\\Programs\\Python\\Python37\\lib\\site-packages\\statsmodels\\tsa\\statespace\\sarimax.py:966: UserWarning: Non-stationary starting autoregressive parameters found. Using zeros as starting parameters.\n",
      "  warn('Non-stationary starting autoregressive parameters'\n"
     ]
    }
   ],
   "source": [
    "model = ARIMA(data['X'],order=(2,0,2)).fit()"
   ]
  },
  {
   "cell_type": "code",
   "execution_count": 87,
   "metadata": {},
   "outputs": [
    {
     "data": {
      "text/html": [
       "<table class=\"simpletable\">\n",
       "<caption>SARIMAX Results</caption>\n",
       "<tr>\n",
       "  <th>Dep. Variable:</th>           <td>X</td>        <th>  No. Observations:  </th>    <td>2557</td>   \n",
       "</tr>\n",
       "<tr>\n",
       "  <th>Model:</th>            <td>ARIMA(2, 0, 2)</td>  <th>  Log Likelihood     </th> <td>-10277.483</td>\n",
       "</tr>\n",
       "<tr>\n",
       "  <th>Date:</th>            <td>Tue, 07 Feb 2023</td> <th>  AIC                </th>  <td>20566.966</td>\n",
       "</tr>\n",
       "<tr>\n",
       "  <th>Time:</th>                <td>17:12:55</td>     <th>  BIC                </th>  <td>20602.046</td>\n",
       "</tr>\n",
       "<tr>\n",
       "  <th>Sample:</th>                  <td>0</td>        <th>  HQIC               </th>  <td>20579.687</td>\n",
       "</tr>\n",
       "<tr>\n",
       "  <th></th>                      <td> - 2557</td>     <th>                     </th>      <td> </td>    \n",
       "</tr>\n",
       "<tr>\n",
       "  <th>Covariance Type:</th>        <td>opg</td>       <th>                     </th>      <td> </td>    \n",
       "</tr>\n",
       "</table>\n",
       "<table class=\"simpletable\">\n",
       "<tr>\n",
       "     <td></td>       <th>coef</th>     <th>std err</th>      <th>z</th>      <th>P>|z|</th>  <th>[0.025</th>    <th>0.975]</th>  \n",
       "</tr>\n",
       "<tr>\n",
       "  <th>const</th>  <td>   -0.4262</td> <td>    1.687</td> <td>   -0.253</td> <td> 0.801</td> <td>   -3.732</td> <td>    2.880</td>\n",
       "</tr>\n",
       "<tr>\n",
       "  <th>ar.L1</th>  <td>    1.5957</td> <td>    0.040</td> <td>   40.382</td> <td> 0.000</td> <td>    1.518</td> <td>    1.673</td>\n",
       "</tr>\n",
       "<tr>\n",
       "  <th>ar.L2</th>  <td>   -0.6069</td> <td>    0.035</td> <td>  -17.324</td> <td> 0.000</td> <td>   -0.676</td> <td>   -0.538</td>\n",
       "</tr>\n",
       "<tr>\n",
       "  <th>ma.L1</th>  <td>   -0.8447</td> <td>    0.042</td> <td>  -20.309</td> <td> 0.000</td> <td>   -0.926</td> <td>   -0.763</td>\n",
       "</tr>\n",
       "<tr>\n",
       "  <th>ma.L2</th>  <td>   -0.0847</td> <td>    0.026</td> <td>   -3.291</td> <td> 0.001</td> <td>   -0.135</td> <td>   -0.034</td>\n",
       "</tr>\n",
       "<tr>\n",
       "  <th>sigma2</th> <td>  181.3597</td> <td>    4.085</td> <td>   44.398</td> <td> 0.000</td> <td>  173.353</td> <td>  189.366</td>\n",
       "</tr>\n",
       "</table>\n",
       "<table class=\"simpletable\">\n",
       "<tr>\n",
       "  <th>Ljung-Box (L1) (Q):</th>     <td>0.00</td> <th>  Jarque-Bera (JB):  </th> <td>144.70</td>\n",
       "</tr>\n",
       "<tr>\n",
       "  <th>Prob(Q):</th>                <td>0.99</td> <th>  Prob(JB):          </th>  <td>0.00</td> \n",
       "</tr>\n",
       "<tr>\n",
       "  <th>Heteroskedasticity (H):</th> <td>1.12</td> <th>  Skew:              </th>  <td>0.12</td> \n",
       "</tr>\n",
       "<tr>\n",
       "  <th>Prob(H) (two-sided):</th>    <td>0.09</td> <th>  Kurtosis:          </th>  <td>4.14</td> \n",
       "</tr>\n",
       "</table><br/><br/>Warnings:<br/>[1] Covariance matrix calculated using the outer product of gradients (complex-step)."
      ],
      "text/plain": [
       "<class 'statsmodels.iolib.summary.Summary'>\n",
       "\"\"\"\n",
       "                               SARIMAX Results                                \n",
       "==============================================================================\n",
       "Dep. Variable:                      X   No. Observations:                 2557\n",
       "Model:                 ARIMA(2, 0, 2)   Log Likelihood              -10277.483\n",
       "Date:                Tue, 07 Feb 2023   AIC                          20566.966\n",
       "Time:                        17:12:55   BIC                          20602.046\n",
       "Sample:                             0   HQIC                         20579.687\n",
       "                               - 2557                                         \n",
       "Covariance Type:                  opg                                         \n",
       "==============================================================================\n",
       "                 coef    std err          z      P>|z|      [0.025      0.975]\n",
       "------------------------------------------------------------------------------\n",
       "const         -0.4262      1.687     -0.253      0.801      -3.732       2.880\n",
       "ar.L1          1.5957      0.040     40.382      0.000       1.518       1.673\n",
       "ar.L2         -0.6069      0.035    -17.324      0.000      -0.676      -0.538\n",
       "ma.L1         -0.8447      0.042    -20.309      0.000      -0.926      -0.763\n",
       "ma.L2         -0.0847      0.026     -3.291      0.001      -0.135      -0.034\n",
       "sigma2       181.3597      4.085     44.398      0.000     173.353     189.366\n",
       "===================================================================================\n",
       "Ljung-Box (L1) (Q):                   0.00   Jarque-Bera (JB):               144.70\n",
       "Prob(Q):                              0.99   Prob(JB):                         0.00\n",
       "Heteroskedasticity (H):               1.12   Skew:                             0.12\n",
       "Prob(H) (two-sided):                  0.09   Kurtosis:                         4.14\n",
       "===================================================================================\n",
       "\n",
       "Warnings:\n",
       "[1] Covariance matrix calculated using the outer product of gradients (complex-step).\n",
       "\"\"\""
      ]
     },
     "execution_count": 87,
     "metadata": {},
     "output_type": "execute_result"
    }
   ],
   "source": [
    "model.summary()"
   ]
  },
  {
   "cell_type": "code",
   "execution_count": 88,
   "metadata": {},
   "outputs": [
    {
     "data": {
      "text/plain": [
       "array([[ 13.57480873,  14.78673038,   1.46636377, ...,  10.63895189,\n",
       "         25.46151753,  11.15730319],\n",
       "       [ -0.3888557 ,  23.09937743,  -4.65947238, ..., -21.52855538,\n",
       "         35.35845886,  11.56069369],\n",
       "       [  8.95899308,  35.8992646 ,   4.01645805, ...,   4.56726244,\n",
       "         37.2234137 ,  19.3828416 ],\n",
       "       ...,\n",
       "       [-12.52352032,  16.23829224,  -2.87978728, ...,  -7.63808078,\n",
       "         19.8666056 , -29.86768462],\n",
       "       [-18.43861595, -12.98283618,   3.18344656, ..., -23.17702583,\n",
       "          7.93439238, -18.5373442 ],\n",
       "       [-25.56939722,  -8.20187463, -17.50256789, ..., -16.00535809,\n",
       "        -12.10586415, -12.12166867]])"
      ]
     },
     "execution_count": 88,
     "metadata": {},
     "output_type": "execute_result"
    }
   ],
   "source": [
    "const, phi1, phi2 , theta1, theta2, sigma2 =  model.params\n",
    "samples = arma_generate_sample(np.array([1,-phi1, -phi2]), np.array([1, theta1, theta2]),(len(data),1000),np.sqrt(sigma2)) + const\n",
    "samples"
   ]
  },
  {
   "cell_type": "code",
   "execution_count": 118,
   "metadata": {},
   "outputs": [
    {
     "data": {
      "text/plain": [
       "181.35971631951247"
      ]
     },
     "execution_count": 118,
     "metadata": {},
     "output_type": "execute_result"
    },
    {
     "ename": "",
     "evalue": "",
     "output_type": "error",
     "traceback": [
      "\u001b[1;31mThe Kernel crashed while executing code in the the current cell or a previous cell. Please review the code in the cell(s) to identify a possible cause of the failure. Click <a href='https://aka.ms/vscodeJupyterKernelCrash'>here</a> for more info. View Jupyter <a href='command:jupyter.viewOutput'>log</a> for further details."
     ]
    }
   ],
   "source": [
    "sigma2"
   ]
  },
  {
   "cell_type": "code",
   "execution_count": 89,
   "metadata": {},
   "outputs": [],
   "source": [
    "pacf_values = np.apply_along_axis(pacf,0,samples)\n",
    "up_quantail_pacf =np.apply_along_axis(np.quantile,1,pacf_values,0.9)\n",
    "down_quantail_pacf =np.apply_along_axis(np.quantile,1,pacf_values,0.1)\n",
    "acf_values = np.apply_along_axis(pacf,0,samples)\n",
    "up_quantail_acf =np.apply_along_axis(np.quantile,1,acf_values,0.9)\n",
    "down_quantail_acf =np.apply_along_axis(np.quantile,1,acf_values,0.1)"
   ]
  },
  {
   "cell_type": "code",
   "execution_count": 90,
   "metadata": {},
   "outputs": [
    {
     "data": {
      "text/plain": [
       "<matplotlib.axes._subplots.AxesSubplot at 0x1b77067f288>"
      ]
     },
     "execution_count": 90,
     "metadata": {},
     "output_type": "execute_result"
    },
    {
     "data": {
      "image/png": "[encoded data removed]",
      "text/plain": [
       "<Figure size 432x288 with 1 Axes>"
      ]
     },
     "metadata": {
      "needs_background": "light"
     },
     "output_type": "display_data"
    }
   ],
   "source": [
    "sns.lineplot(x=np.arange(len(up_quantail_pacf)), y=up_quantail_pacf,label=\"Górny przedział\")\n",
    "sns.lineplot(x=np.arange(len(down_quantail_pacf)), y=down_quantail_pacf,label=\"Dolny przedział\")"
   ]
  },
  {
   "cell_type": "code",
   "execution_count": 104,
   "metadata": {},
   "outputs": [],
   "source": [
    "df_acf_pcf =pd.DataFrame({\"lag\": np.arange(len(up_quantail_pacf)),\n",
    "                            \"up_acf\":up_quantail_acf,\n",
    "                             \"down_acf\":down_quantail_acf,\n",
    "                             \"up_pacf\":up_quantail_pacf,\n",
    "                             \"down_pacf\":down_quantail_pacf})\n",
    "\n",
    "df_acf_pcf.to_csv(\"data/acf_pacf_data.csv\",index=False)"
   ]
  },
  {
   "cell_type": "code",
   "execution_count": 91,
   "metadata": {},
   "outputs": [
    {
     "data": {
      "text/plain": [
       "<matplotlib.axes._subplots.AxesSubplot at 0x1b7705de248>"
      ]
     },
     "execution_count": 91,
     "metadata": {},
     "output_type": "execute_result"
    },
    {
     "data": {
      "image/png": "[encoded data removed]",
      "text/plain": [
       "<Figure size 432x288 with 1 Axes>"
      ]
     },
     "metadata": {
      "needs_background": "light"
     },
     "output_type": "display_data"
    }
   ],
   "source": [
    "sns.lineplot(x=np.arange(len(up_quantail_acf)), y=up_quantail_acf,label=\"Górny przedział\")\n",
    "sns.lineplot(x=np.arange(len(down_quantail_acf)), y=down_quantail_acf,label=\"Dolny przedział\")"
   ]
  },
  {
   "cell_type": "code",
   "execution_count": 111,
   "metadata": {},
   "outputs": [],
   "source": [
    "quantail_samples_09 =np.apply_along_axis(np.quantile,1,samples,0.9)\n",
    "quantail_samples_01 =np.apply_along_axis(np.quantile,1,samples,0.1)\n",
    "quantail_samples_095 =np.apply_along_axis(np.quantile,1,samples,0.95)\n",
    "quantail_samples_005 =np.apply_along_axis(np.quantile,1,samples,0.05)"
   ]
  },
  {
   "cell_type": "code",
   "execution_count": 112,
   "metadata": {},
   "outputs": [],
   "source": [
    "df_sample_quantails = pd.DataFrame({\"orginal\": data[\"X\"],\n",
    "                                    \"sample_09\":quantail_samples_09,\n",
    "                                    \"sample_01\":quantail_samples_01,\n",
    "                                    \"sample_095\":quantail_samples_095,\n",
    "                                    \"sample_005\":quantail_samples_005 })\n",
    "df_sample_quantails.to_csv(\"data/samples_quantails.csv\",index=False)"
   ]
  },
  {
   "cell_type": "code",
   "execution_count": 106,
   "metadata": {},
   "outputs": [
    {
     "name": "stderr",
     "output_type": "stream",
     "text": [
      "c:\\Users\\mkarc\\AppData\\Local\\Programs\\Python\\Python37\\lib\\site-packages\\seaborn\\_decorators.py:43: FutureWarning: Pass the following variables as keyword args: x, y. From version 0.12, the only valid positional argument will be `data`, and passing other arguments without an explicit keyword will result in an error or misinterpretation.\n",
      "  FutureWarning\n",
      "c:\\Users\\mkarc\\AppData\\Local\\Programs\\Python\\Python37\\lib\\site-packages\\seaborn\\_decorators.py:43: FutureWarning: Pass the following variables as keyword args: x, y. From version 0.12, the only valid positional argument will be `data`, and passing other arguments without an explicit keyword will result in an error or misinterpretation.\n",
      "  FutureWarning\n",
      "c:\\Users\\mkarc\\AppData\\Local\\Programs\\Python\\Python37\\lib\\site-packages\\seaborn\\_decorators.py:43: FutureWarning: Pass the following variables as keyword args: x, y. From version 0.12, the only valid positional argument will be `data`, and passing other arguments without an explicit keyword will result in an error or misinterpretation.\n",
      "  FutureWarning\n"
     ]
    },
    {
     "data": {
      "text/plain": [
       "<matplotlib.axes._subplots.AxesSubplot at 0x1b7718af988>"
      ]
     },
     "execution_count": 106,
     "metadata": {},
     "output_type": "execute_result"
    },
    {
     "data": {
      "image/png": "[encoded data removed]",
      "text/plain": [
       "<Figure size 432x288 with 1 Axes>"
      ]
     },
     "metadata": {
      "needs_background": "light"
     },
     "output_type": "display_data"
    }
   ],
   "source": [
    "sns.lineplot(np.arange(len(data)), quantail_samples_09)\n",
    "sns.lineplot(np.arange(len(data)), quantail_samples_01)\n",
    "sns.lineplot(np.arange(len(data)), data[\"X\"])"
   ]
  },
  {
   "cell_type": "code",
   "execution_count": 96,
   "metadata": {},
   "outputs": [],
   "source": [
    "df = pd.DataFrame(model.resid,columns=[\"Residua\"])\n",
    "df.to_csv('data/residua.csv',index=False)"
   ]
  },
  {
   "cell_type": "code",
   "execution_count": 115,
   "metadata": {},
   "outputs": [],
   "source": [
    "residua_acf = acf(model.resid)\n",
    "residua_pacf = pacf(model.resid)\n"
   ]
  },
  {
   "cell_type": "code",
   "execution_count": 116,
   "metadata": {},
   "outputs": [],
   "source": [
    "df_residua_acf_pacf = pd.DataFrame({\"lag\": np.arange(len(residua_acf)),\n",
    "                                    \"acf\": residua_acf,\n",
    "                                    \"pacf\": residua_pacf})\n",
    "df_residua_acf_pacf.to_csv('data/residua_acf_pacf.csv',index=False)"
   ]
  },
  {
   "cell_type": "code",
   "execution_count": 117,
   "metadata": {},
   "outputs": [
    {
     "data": {
      "text/html": [
       "<div>\n",
       "<style scoped>\n",
       "    .dataframe tbody tr th:only-of-type {\n",
       "        vertical-align: middle;\n",
       "    }\n",
       "\n",
       "    .dataframe tbody tr th {\n",
       "        vertical-align: top;\n",
       "    }\n",
       "\n",
       "    .dataframe thead th {\n",
       "        text-align: right;\n",
       "    }\n",
       "</style>\n",
       "<table border=\"1\" class=\"dataframe\">\n",
       "  <thead>\n",
       "    <tr style=\"text-align: right;\">\n",
       "      <th></th>\n",
       "      <th>lag</th>\n",
       "      <th>acf</th>\n",
       "      <th>pacf</th>\n",
       "    </tr>\n",
       "  </thead>\n",
       "  <tbody>\n",
       "    <tr>\n",
       "      <th>0</th>\n",
       "      <td>0</td>\n",
       "      <td>1.000000</td>\n",
       "      <td>1.000000</td>\n",
       "    </tr>\n",
       "    <tr>\n",
       "      <th>1</th>\n",
       "      <td>1</td>\n",
       "      <td>-0.000167</td>\n",
       "      <td>-0.000167</td>\n",
       "    </tr>\n",
       "    <tr>\n",
       "      <th>2</th>\n",
       "      <td>2</td>\n",
       "      <td>-0.004424</td>\n",
       "      <td>-0.004428</td>\n",
       "    </tr>\n",
       "    <tr>\n",
       "      <th>3</th>\n",
       "      <td>3</td>\n",
       "      <td>0.007418</td>\n",
       "      <td>0.007426</td>\n",
       "    </tr>\n",
       "    <tr>\n",
       "      <th>4</th>\n",
       "      <td>4</td>\n",
       "      <td>-0.011046</td>\n",
       "      <td>-0.011082</td>\n",
       "    </tr>\n",
       "    <tr>\n",
       "      <th>5</th>\n",
       "      <td>5</td>\n",
       "      <td>0.022180</td>\n",
       "      <td>0.022291</td>\n",
       "    </tr>\n",
       "    <tr>\n",
       "      <th>6</th>\n",
       "      <td>6</td>\n",
       "      <td>-0.005006</td>\n",
       "      <td>-0.005179</td>\n",
       "    </tr>\n",
       "    <tr>\n",
       "      <th>7</th>\n",
       "      <td>7</td>\n",
       "      <td>-0.011020</td>\n",
       "      <td>-0.010688</td>\n",
       "    </tr>\n",
       "    <tr>\n",
       "      <th>8</th>\n",
       "      <td>8</td>\n",
       "      <td>0.031198</td>\n",
       "      <td>0.030825</td>\n",
       "    </tr>\n",
       "    <tr>\n",
       "      <th>9</th>\n",
       "      <td>9</td>\n",
       "      <td>0.000279</td>\n",
       "      <td>0.000726</td>\n",
       "    </tr>\n",
       "    <tr>\n",
       "      <th>10</th>\n",
       "      <td>10</td>\n",
       "      <td>-0.003967</td>\n",
       "      <td>-0.004163</td>\n",
       "    </tr>\n",
       "    <tr>\n",
       "      <th>11</th>\n",
       "      <td>11</td>\n",
       "      <td>0.000810</td>\n",
       "      <td>0.000368</td>\n",
       "    </tr>\n",
       "    <tr>\n",
       "      <th>12</th>\n",
       "      <td>12</td>\n",
       "      <td>-0.018526</td>\n",
       "      <td>-0.017556</td>\n",
       "    </tr>\n",
       "    <tr>\n",
       "      <th>13</th>\n",
       "      <td>13</td>\n",
       "      <td>0.008328</td>\n",
       "      <td>0.006993</td>\n",
       "    </tr>\n",
       "    <tr>\n",
       "      <th>14</th>\n",
       "      <td>14</td>\n",
       "      <td>0.028037</td>\n",
       "      <td>0.028167</td>\n",
       "    </tr>\n",
       "    <tr>\n",
       "      <th>15</th>\n",
       "      <td>15</td>\n",
       "      <td>-0.018306</td>\n",
       "      <td>-0.017319</td>\n",
       "    </tr>\n",
       "    <tr>\n",
       "      <th>16</th>\n",
       "      <td>16</td>\n",
       "      <td>-0.038113</td>\n",
       "      <td>-0.039732</td>\n",
       "    </tr>\n",
       "    <tr>\n",
       "      <th>17</th>\n",
       "      <td>17</td>\n",
       "      <td>-0.019225</td>\n",
       "      <td>-0.019070</td>\n",
       "    </tr>\n",
       "    <tr>\n",
       "      <th>18</th>\n",
       "      <td>18</td>\n",
       "      <td>-0.008586</td>\n",
       "      <td>-0.008379</td>\n",
       "    </tr>\n",
       "    <tr>\n",
       "      <th>19</th>\n",
       "      <td>19</td>\n",
       "      <td>0.019956</td>\n",
       "      <td>0.018686</td>\n",
       "    </tr>\n",
       "    <tr>\n",
       "      <th>20</th>\n",
       "      <td>20</td>\n",
       "      <td>0.007256</td>\n",
       "      <td>0.009130</td>\n",
       "    </tr>\n",
       "    <tr>\n",
       "      <th>21</th>\n",
       "      <td>21</td>\n",
       "      <td>-0.019022</td>\n",
       "      <td>-0.017836</td>\n",
       "    </tr>\n",
       "    <tr>\n",
       "      <th>22</th>\n",
       "      <td>22</td>\n",
       "      <td>-0.005279</td>\n",
       "      <td>-0.007699</td>\n",
       "    </tr>\n",
       "    <tr>\n",
       "      <th>23</th>\n",
       "      <td>23</td>\n",
       "      <td>-0.065601</td>\n",
       "      <td>-0.065893</td>\n",
       "    </tr>\n",
       "    <tr>\n",
       "      <th>24</th>\n",
       "      <td>24</td>\n",
       "      <td>-0.001030</td>\n",
       "      <td>0.000321</td>\n",
       "    </tr>\n",
       "    <tr>\n",
       "      <th>25</th>\n",
       "      <td>25</td>\n",
       "      <td>-0.016648</td>\n",
       "      <td>-0.016569</td>\n",
       "    </tr>\n",
       "    <tr>\n",
       "      <th>26</th>\n",
       "      <td>26</td>\n",
       "      <td>0.025380</td>\n",
       "      <td>0.029338</td>\n",
       "    </tr>\n",
       "    <tr>\n",
       "      <th>27</th>\n",
       "      <td>27</td>\n",
       "      <td>0.047726</td>\n",
       "      <td>0.045194</td>\n",
       "    </tr>\n",
       "    <tr>\n",
       "      <th>28</th>\n",
       "      <td>28</td>\n",
       "      <td>-0.032353</td>\n",
       "      <td>-0.032816</td>\n",
       "    </tr>\n",
       "    <tr>\n",
       "      <th>29</th>\n",
       "      <td>29</td>\n",
       "      <td>0.036318</td>\n",
       "      <td>0.037900</td>\n",
       "    </tr>\n",
       "    <tr>\n",
       "      <th>30</th>\n",
       "      <td>30</td>\n",
       "      <td>0.001054</td>\n",
       "      <td>0.002025</td>\n",
       "    </tr>\n",
       "    <tr>\n",
       "      <th>31</th>\n",
       "      <td>31</td>\n",
       "      <td>0.027308</td>\n",
       "      <td>0.032991</td>\n",
       "    </tr>\n",
       "    <tr>\n",
       "      <th>32</th>\n",
       "      <td>32</td>\n",
       "      <td>-0.006738</td>\n",
       "      <td>-0.011593</td>\n",
       "    </tr>\n",
       "    <tr>\n",
       "      <th>33</th>\n",
       "      <td>33</td>\n",
       "      <td>0.009660</td>\n",
       "      <td>0.010251</td>\n",
       "    </tr>\n",
       "    <tr>\n",
       "      <th>34</th>\n",
       "      <td>34</td>\n",
       "      <td>-0.007077</td>\n",
       "      <td>-0.011188</td>\n",
       "    </tr>\n",
       "  </tbody>\n",
       "</table>\n",
       "</div>"
      ],
      "text/plain": [
       "    lag       acf      pacf\n",
       "0     0  1.000000  1.000000\n",
       "1     1 -0.000167 -0.000167\n",
       "2     2 -0.004424 -0.004428\n",
       "3     3  0.007418  0.007426\n",
       "4     4 -0.011046 -0.011082\n",
       "5     5  0.022180  0.022291\n",
       "6     6 -0.005006 -0.005179\n",
       "7     7 -0.011020 -0.010688\n",
       "8     8  0.031198  0.030825\n",
       "9     9  0.000279  0.000726\n",
       "10   10 -0.003967 -0.004163\n",
       "11   11  0.000810  0.000368\n",
       "12   12 -0.018526 -0.017556\n",
       "13   13  0.008328  0.006993\n",
       "14   14  0.028037  0.028167\n",
       "15   15 -0.018306 -0.017319\n",
       "16   16 -0.038113 -0.039732\n",
       "17   17 -0.019225 -0.019070\n",
       "18   18 -0.008586 -0.008379\n",
       "19   19  0.019956  0.018686\n",
       "20   20  0.007256  0.009130\n",
       "21   21 -0.019022 -0.017836\n",
       "22   22 -0.005279 -0.007699\n",
       "23   23 -0.065601 -0.065893\n",
       "24   24 -0.001030  0.000321\n",
       "25   25 -0.016648 -0.016569\n",
       "26   26  0.025380  0.029338\n",
       "27   27  0.047726  0.045194\n",
       "28   28 -0.032353 -0.032816\n",
       "29   29  0.036318  0.037900\n",
       "30   30  0.001054  0.002025\n",
       "31   31  0.027308  0.032991\n",
       "32   32 -0.006738 -0.011593\n",
       "33   33  0.009660  0.010251\n",
       "34   34 -0.007077 -0.011188"
      ]
     },
     "execution_count": 117,
     "metadata": {},
     "output_type": "execute_result"
    }
   ],
   "source": [
    "df_residua_acf_pacf"
   ]
  },
  {
   "cell_type": "code",
   "execution_count": null,
   "metadata": {},
   "outputs": [],
   "source": []
  }
 ],
 "metadata": {
  "kernelspec": {
   "display_name": "Python 3",
   "language": "python",
   "name": "python3"
  },
  "language_info": {
   "codemirror_mode": {
    "name": "ipython",
    "version": 3
   },
   "file_extension": ".py",
   "mimetype": "text/x-python",
   "name": "python",
   "nbconvert_exporter": "python",
   "pygments_lexer": "ipython3",
   "version": "3.7.9"
  },
  "orig_nbformat": 4,
  "vscode": {
   "interpreter": {
    "hash": "6fe1c782b1ce644a7249b60894882dc712170c605cbe70c487a65803b7cd19d5"
   }
  }
 },
 "nbformat": 4,
 "nbformat_minor": 2
}
