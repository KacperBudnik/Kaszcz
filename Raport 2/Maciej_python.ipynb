{
 "cells": [
  {
   "cell_type": "code",
   "execution_count": 1,
   "metadata": {},
   "outputs": [],
   "source": [
    "import numpy as np\n",
    "import pandas as pd\n",
    "import matplotlib.pyplot as plt\n",
    "import seaborn as sns\n",
    "#sns.set_style('darkgrid')\n",
    "import random \n",
    "from statsmodels.tsa.stattools import pacf , acf\n",
    "from statsmodels.graphics.tsaplots import plot_acf, plot_pacf\n",
    "from statsmodels.tsa.arima_process import ArmaProcess, arma_generate_sample\n",
    "from statsmodels.tsa.arima.model import ARIMA\n",
    "\n",
    "from statsmodels.tsa.stattools import adfuller"
   ]
  },
  {
   "cell_type": "code",
   "execution_count": null,
   "metadata": {},
   "outputs": [],
   "source": []
  },
  {
   "cell_type": "code",
   "execution_count": 2,
   "metadata": {},
   "outputs": [],
   "source": [
    "np.random.seed(1410)"
   ]
  },
  {
   "cell_type": "code",
   "execution_count": 3,
   "metadata": {},
   "outputs": [
    {
     "data": {
      "text/html": [
       "<div>\n",
       "<style scoped>\n",
       "    .dataframe tbody tr th:only-of-type {\n",
       "        vertical-align: middle;\n",
       "    }\n",
       "\n",
       "    .dataframe tbody tr th {\n",
       "        vertical-align: top;\n",
       "    }\n",
       "\n",
       "    .dataframe thead th {\n",
       "        text-align: right;\n",
       "    }\n",
       "</style>\n",
       "<table border=\"1\" class=\"dataframe\">\n",
       "  <thead>\n",
       "    <tr style=\"text-align: right;\">\n",
       "      <th></th>\n",
       "      <th>X</th>\n",
       "    </tr>\n",
       "  </thead>\n",
       "  <tbody>\n",
       "    <tr>\n",
       "      <th>0</th>\n",
       "      <td>-1.250000</td>\n",
       "    </tr>\n",
       "    <tr>\n",
       "      <th>1</th>\n",
       "      <td>-1.625000</td>\n",
       "    </tr>\n",
       "    <tr>\n",
       "      <th>2</th>\n",
       "      <td>-0.089286</td>\n",
       "    </tr>\n",
       "    <tr>\n",
       "      <th>3</th>\n",
       "      <td>0.291667</td>\n",
       "    </tr>\n",
       "    <tr>\n",
       "      <th>4</th>\n",
       "      <td>2.071429</td>\n",
       "    </tr>\n",
       "    <tr>\n",
       "      <th>...</th>\n",
       "      <td>...</td>\n",
       "    </tr>\n",
       "    <tr>\n",
       "      <th>2552</th>\n",
       "      <td>-5.000000</td>\n",
       "    </tr>\n",
       "    <tr>\n",
       "      <th>2553</th>\n",
       "      <td>-8.125000</td>\n",
       "    </tr>\n",
       "    <tr>\n",
       "      <th>2554</th>\n",
       "      <td>-5.250000</td>\n",
       "    </tr>\n",
       "    <tr>\n",
       "      <th>2555</th>\n",
       "      <td>-3.875000</td>\n",
       "    </tr>\n",
       "    <tr>\n",
       "      <th>2556</th>\n",
       "      <td>-2.625000</td>\n",
       "    </tr>\n",
       "  </tbody>\n",
       "</table>\n",
       "<p>2557 rows × 1 columns</p>\n",
       "</div>"
      ],
      "text/plain": [
       "             X\n",
       "0    -1.250000\n",
       "1    -1.625000\n",
       "2    -0.089286\n",
       "3     0.291667\n",
       "4     2.071429\n",
       "...        ...\n",
       "2552 -5.000000\n",
       "2553 -8.125000\n",
       "2554 -5.250000\n",
       "2555 -3.875000\n",
       "2556 -2.625000\n",
       "\n",
       "[2557 rows x 1 columns]"
      ]
     },
     "execution_count": 3,
     "metadata": {},
     "output_type": "execute_result"
    }
   ],
   "source": [
    "data = pd.read_csv('Y.csv')\n",
    "data"
   ]
  },
  {
   "cell_type": "code",
   "execution_count": 4,
   "metadata": {},
   "outputs": [],
   "source": [
    "model = ARIMA(data['X'],order=(2,0,2)).fit()"
   ]
  },
  {
   "cell_type": "code",
   "execution_count": 5,
   "metadata": {},
   "outputs": [
    {
     "data": {
      "text/html": [
       "<table class=\"simpletable\">\n",
       "<caption>SARIMAX Results</caption>\n",
       "<tr>\n",
       "  <th>Dep. Variable:</th>           <td>X</td>        <th>  No. Observations:  </th>   <td>2557</td>   \n",
       "</tr>\n",
       "<tr>\n",
       "  <th>Model:</th>            <td>ARIMA(2, 0, 2)</td>  <th>  Log Likelihood     </th> <td>-5507.634</td>\n",
       "</tr>\n",
       "<tr>\n",
       "  <th>Date:</th>            <td>Wed, 08 Feb 2023</td> <th>  AIC                </th> <td>11027.268</td>\n",
       "</tr>\n",
       "<tr>\n",
       "  <th>Time:</th>                <td>14:37:36</td>     <th>  BIC                </th> <td>11062.348</td>\n",
       "</tr>\n",
       "<tr>\n",
       "  <th>Sample:</th>                  <td>0</td>        <th>  HQIC               </th> <td>11039.989</td>\n",
       "</tr>\n",
       "<tr>\n",
       "  <th></th>                      <td> - 2557</td>     <th>                     </th>     <td> </td>    \n",
       "</tr>\n",
       "<tr>\n",
       "  <th>Covariance Type:</th>        <td>opg</td>       <th>                     </th>     <td> </td>    \n",
       "</tr>\n",
       "</table>\n",
       "<table class=\"simpletable\">\n",
       "<tr>\n",
       "     <td></td>       <th>coef</th>     <th>std err</th>      <th>z</th>      <th>P>|z|</th>  <th>[0.025</th>    <th>0.975]</th>  \n",
       "</tr>\n",
       "<tr>\n",
       "  <th>const</th>  <td>   -0.0946</td> <td>    0.244</td> <td>   -0.388</td> <td> 0.698</td> <td>   -0.573</td> <td>    0.384</td>\n",
       "</tr>\n",
       "<tr>\n",
       "  <th>ar.L1</th>  <td>    1.6118</td> <td>    0.044</td> <td>   36.528</td> <td> 0.000</td> <td>    1.525</td> <td>    1.698</td>\n",
       "</tr>\n",
       "<tr>\n",
       "  <th>ar.L2</th>  <td>   -0.6232</td> <td>    0.038</td> <td>  -16.204</td> <td> 0.000</td> <td>   -0.699</td> <td>   -0.548</td>\n",
       "</tr>\n",
       "<tr>\n",
       "  <th>ma.L1</th>  <td>   -0.8640</td> <td>    0.046</td> <td>  -18.626</td> <td> 0.000</td> <td>   -0.955</td> <td>   -0.773</td>\n",
       "</tr>\n",
       "<tr>\n",
       "  <th>ma.L2</th>  <td>   -0.0688</td> <td>    0.027</td> <td>   -2.548</td> <td> 0.011</td> <td>   -0.122</td> <td>   -0.016</td>\n",
       "</tr>\n",
       "<tr>\n",
       "  <th>sigma2</th> <td>    4.3478</td> <td>    0.105</td> <td>   41.241</td> <td> 0.000</td> <td>    4.141</td> <td>    4.554</td>\n",
       "</tr>\n",
       "</table>\n",
       "<table class=\"simpletable\">\n",
       "<tr>\n",
       "  <th>Ljung-Box (L1) (Q):</th>     <td>0.00</td> <th>  Jarque-Bera (JB):  </th> <td>59.65</td>\n",
       "</tr>\n",
       "<tr>\n",
       "  <th>Prob(Q):</th>                <td>0.98</td> <th>  Prob(JB):          </th> <td>0.00</td> \n",
       "</tr>\n",
       "<tr>\n",
       "  <th>Heteroskedasticity (H):</th> <td>1.15</td> <th>  Skew:              </th> <td>0.11</td> \n",
       "</tr>\n",
       "<tr>\n",
       "  <th>Prob(H) (two-sided):</th>    <td>0.04</td> <th>  Kurtosis:          </th> <td>3.71</td> \n",
       "</tr>\n",
       "</table><br/><br/>Warnings:<br/>[1] Covariance matrix calculated using the outer product of gradients (complex-step)."
      ],
      "text/plain": [
       "<class 'statsmodels.iolib.summary.Summary'>\n",
       "\"\"\"\n",
       "                               SARIMAX Results                                \n",
       "==============================================================================\n",
       "Dep. Variable:                      X   No. Observations:                 2557\n",
       "Model:                 ARIMA(2, 0, 2)   Log Likelihood               -5507.634\n",
       "Date:                Wed, 08 Feb 2023   AIC                          11027.268\n",
       "Time:                        14:37:36   BIC                          11062.348\n",
       "Sample:                             0   HQIC                         11039.989\n",
       "                               - 2557                                         \n",
       "Covariance Type:                  opg                                         \n",
       "==============================================================================\n",
       "                 coef    std err          z      P>|z|      [0.025      0.975]\n",
       "------------------------------------------------------------------------------\n",
       "const         -0.0946      0.244     -0.388      0.698      -0.573       0.384\n",
       "ar.L1          1.6118      0.044     36.528      0.000       1.525       1.698\n",
       "ar.L2         -0.6232      0.038    -16.204      0.000      -0.699      -0.548\n",
       "ma.L1         -0.8640      0.046    -18.626      0.000      -0.955      -0.773\n",
       "ma.L2         -0.0688      0.027     -2.548      0.011      -0.122      -0.016\n",
       "sigma2         4.3478      0.105     41.241      0.000       4.141       4.554\n",
       "===================================================================================\n",
       "Ljung-Box (L1) (Q):                   0.00   Jarque-Bera (JB):                59.65\n",
       "Prob(Q):                              0.98   Prob(JB):                         0.00\n",
       "Heteroskedasticity (H):               1.15   Skew:                             0.11\n",
       "Prob(H) (two-sided):                  0.04   Kurtosis:                         3.71\n",
       "===================================================================================\n",
       "\n",
       "Warnings:\n",
       "[1] Covariance matrix calculated using the outer product of gradients (complex-step).\n",
       "\"\"\""
      ]
     },
     "execution_count": 5,
     "metadata": {},
     "output_type": "execute_result"
    }
   ],
   "source": [
    "model.summary()"
   ]
  },
  {
   "cell_type": "code",
   "execution_count": 19,
   "metadata": {},
   "outputs": [
    {
     "data": {
      "text/plain": [
       "array([[-1.61660518,  1.1883142 ,  2.51973878, ..., -3.54149826,\n",
       "         0.12880258,  2.68519625],\n",
       "       [ 0.0335332 , -0.37694594,  2.44854066, ..., -1.62086506,\n",
       "         0.94373302,  5.46226601],\n",
       "       [ 2.09043693,  0.24220909, -0.71783967, ...,  0.22080339,\n",
       "         0.64307591,  4.6698709 ],\n",
       "       ...,\n",
       "       [-1.59250327,  0.89008066, -2.36091264, ..., -0.04175429,\n",
       "         4.81954836,  1.03765521],\n",
       "       [-1.12442587,  1.58894657, -3.58505063, ..., -0.86578121,\n",
       "         7.13166574,  4.04765019],\n",
       "       [ 0.18632332, -4.36378007, -4.9556159 , ..., -4.72386277,\n",
       "         3.30570206,  5.28566572]])"
      ]
     },
     "execution_count": 19,
     "metadata": {},
     "output_type": "execute_result"
    }
   ],
   "source": [
    "const, phi1, phi2 , theta1, theta2, sigma2 =  model.params\n",
    "samples = arma_generate_sample(np.array([1,-phi1, -phi2]), np.array([1, theta1, theta2]),(len(data),10000),np.sqrt(sigma2)) + const\n",
    "samples"
   ]
  },
  {
   "cell_type": "code",
   "execution_count": 20,
   "metadata": {},
   "outputs": [
    {
     "data": {
      "text/plain": [
       "4.347806205478562"
      ]
     },
     "execution_count": 20,
     "metadata": {},
     "output_type": "execute_result"
    }
   ],
   "source": [
    "sigma2"
   ]
  },
  {
   "cell_type": "code",
   "execution_count": 21,
   "metadata": {},
   "outputs": [],
   "source": [
    "pacf_values = np.apply_along_axis(pacf,0,samples)\n",
    "up_quantail_pacf =np.apply_along_axis(np.quantile,1,pacf_values,0.9)\n",
    "down_quantail_pacf =np.apply_along_axis(np.quantile,1,pacf_values,0.1)\n",
    "acf_values = np.apply_along_axis(pacf,0,samples)\n",
    "up_quantail_acf =np.apply_along_axis(np.quantile,1,acf_values,0.9)\n",
    "down_quantail_acf =np.apply_along_axis(np.quantile,1,acf_values,0.1)"
   ]
  },
  {
   "cell_type": "code",
   "execution_count": 22,
   "metadata": {},
   "outputs": [
    {
     "data": {
      "text/plain": [
       "<matplotlib.axes._subplots.AxesSubplot at 0x2287bec2d88>"
      ]
     },
     "execution_count": 22,
     "metadata": {},
     "output_type": "execute_result"
    },
    {
     "data": {
      "image/png": "[encoded data removed]",
      "text/plain": [
       "<Figure size 432x288 with 1 Axes>"
      ]
     },
     "metadata": {
      "needs_background": "light"
     },
     "output_type": "display_data"
    }
   ],
   "source": [
    "sns.lineplot(x=np.arange(len(up_quantail_pacf)), y=up_quantail_pacf,label=\"Górny przedział\")\n",
    "sns.lineplot(x=np.arange(len(down_quantail_pacf)), y=down_quantail_pacf,label=\"Dolny przedział\")"
   ]
  },
  {
   "cell_type": "code",
   "execution_count": 23,
   "metadata": {},
   "outputs": [],
   "source": [
    "df_acf_pcf =pd.DataFrame({\"lag\": np.arange(len(up_quantail_pacf)),\n",
    "                            \"up_acf\":up_quantail_acf,\n",
    "                             \"down_acf\":down_quantail_acf,\n",
    "                             \"up_pacf\":up_quantail_pacf,\n",
    "                             \"down_pacf\":down_quantail_pacf})\n",
    "\n",
    "df_acf_pcf.to_csv(\"data/acf_pacf_data.csv\",index=False)"
   ]
  },
  {
   "cell_type": "code",
   "execution_count": 24,
   "metadata": {},
   "outputs": [
    {
     "data": {
      "text/plain": [
       "<matplotlib.axes._subplots.AxesSubplot at 0x2287bc4ac48>"
      ]
     },
     "execution_count": 24,
     "metadata": {},
     "output_type": "execute_result"
    },
    {
     "data": {
      "image/png": "[encoded data removed]",
      "text/plain": [
       "<Figure size 432x288 with 1 Axes>"
      ]
     },
     "metadata": {
      "needs_background": "light"
     },
     "output_type": "display_data"
    }
   ],
   "source": [
    "sns.lineplot(x=np.arange(len(up_quantail_acf)), y=up_quantail_acf,label=\"Górny przedział\")\n",
    "sns.lineplot(x=np.arange(len(down_quantail_acf)), y=down_quantail_acf,label=\"Dolny przedział\")"
   ]
  },
  {
   "cell_type": "code",
   "execution_count": 25,
   "metadata": {},
   "outputs": [],
   "source": [
    "quantail_samples_09 =np.apply_along_axis(np.quantile,1,samples,0.9)\n",
    "quantail_samples_01 =np.apply_along_axis(np.quantile,1,samples,0.1)\n",
    "quantail_samples_095 =np.apply_along_axis(np.quantile,1,samples,0.95)\n",
    "quantail_samples_005 =np.apply_along_axis(np.quantile,1,samples,0.05)"
   ]
  },
  {
   "cell_type": "code",
   "execution_count": 26,
   "metadata": {},
   "outputs": [],
   "source": [
    "df_sample_quantails = pd.DataFrame({\"orginal\": data[\"X\"],\n",
    "                                    \"sample_09\":quantail_samples_09,\n",
    "                                    \"sample_01\":quantail_samples_01,\n",
    "                                    \"sample_095\":quantail_samples_095,\n",
    "                                    \"sample_005\":quantail_samples_005 })\n",
    "df_sample_quantails.to_csv(\"data/samples_quantails.csv\",index=False)"
   ]
  },
  {
   "cell_type": "code",
   "execution_count": 27,
   "metadata": {},
   "outputs": [
    {
     "name": "stderr",
     "output_type": "stream",
     "text": [
      "c:\\Users\\mkarc\\AppData\\Local\\Programs\\Python\\Python37\\lib\\site-packages\\seaborn\\_decorators.py:43: FutureWarning: Pass the following variables as keyword args: x, y. From version 0.12, the only valid positional argument will be `data`, and passing other arguments without an explicit keyword will result in an error or misinterpretation.\n",
      "  FutureWarning\n",
      "c:\\Users\\mkarc\\AppData\\Local\\Programs\\Python\\Python37\\lib\\site-packages\\seaborn\\_decorators.py:43: FutureWarning: Pass the following variables as keyword args: x, y. From version 0.12, the only valid positional argument will be `data`, and passing other arguments without an explicit keyword will result in an error or misinterpretation.\n",
      "  FutureWarning\n",
      "c:\\Users\\mkarc\\AppData\\Local\\Programs\\Python\\Python37\\lib\\site-packages\\seaborn\\_decorators.py:43: FutureWarning: Pass the following variables as keyword args: x, y. From version 0.12, the only valid positional argument will be `data`, and passing other arguments without an explicit keyword will result in an error or misinterpretation.\n",
      "  FutureWarning\n"
     ]
    },
    {
     "data": {
      "text/plain": [
       "<matplotlib.axes._subplots.AxesSubplot at 0x2280c95a888>"
      ]
     },
     "execution_count": 27,
     "metadata": {},
     "output_type": "execute_result"
    },
    {
     "data": {
      "image/png": "[encoded data removed]",
      "text/plain": [
       "<Figure size 432x288 with 1 Axes>"
      ]
     },
     "metadata": {
      "needs_background": "light"
     },
     "output_type": "display_data"
    }
   ],
   "source": [
    "sns.lineplot(np.arange(len(data)), quantail_samples_09)\n",
    "sns.lineplot(np.arange(len(data)), quantail_samples_01)\n",
    "sns.lineplot(np.arange(len(data)), data[\"X\"])"
   ]
  },
  {
   "cell_type": "code",
   "execution_count": 28,
   "metadata": {},
   "outputs": [],
   "source": [
    "df = pd.DataFrame(model.resid,columns=[\"Residua\"])\n",
    "df.to_csv('data/residua.csv',index=False)"
   ]
  },
  {
   "cell_type": "code",
   "execution_count": 29,
   "metadata": {},
   "outputs": [],
   "source": [
    "residua_acf = acf(model.resid)\n",
    "residua_pacf = pacf(model.resid)\n"
   ]
  },
  {
   "cell_type": "code",
   "execution_count": 30,
   "metadata": {},
   "outputs": [],
   "source": [
    "df_residua_acf_pacf = pd.DataFrame({\"lag\": np.arange(len(residua_acf)),\n",
    "                                    \"acf\": residua_acf,\n",
    "                                    \"pacf\": residua_pacf})\n",
    "df_residua_acf_pacf.to_csv('data/residua_acf_pacf.csv',index=False)"
   ]
  },
  {
   "cell_type": "code",
   "execution_count": 31,
   "metadata": {},
   "outputs": [
    {
     "data": {
      "text/html": [
       "<div>\n",
       "<style scoped>\n",
       "    .dataframe tbody tr th:only-of-type {\n",
       "        vertical-align: middle;\n",
       "    }\n",
       "\n",
       "    .dataframe tbody tr th {\n",
       "        vertical-align: top;\n",
       "    }\n",
       "\n",
       "    .dataframe thead th {\n",
       "        text-align: right;\n",
       "    }\n",
       "</style>\n",
       "<table border=\"1\" class=\"dataframe\">\n",
       "  <thead>\n",
       "    <tr style=\"text-align: right;\">\n",
       "      <th></th>\n",
       "      <th>lag</th>\n",
       "      <th>acf</th>\n",
       "      <th>pacf</th>\n",
       "    </tr>\n",
       "  </thead>\n",
       "  <tbody>\n",
       "    <tr>\n",
       "      <th>0</th>\n",
       "      <td>0</td>\n",
       "      <td>1.000000</td>\n",
       "      <td>1.000000</td>\n",
       "    </tr>\n",
       "    <tr>\n",
       "      <th>1</th>\n",
       "      <td>1</td>\n",
       "      <td>-0.000525</td>\n",
       "      <td>-0.000525</td>\n",
       "    </tr>\n",
       "    <tr>\n",
       "      <th>2</th>\n",
       "      <td>2</td>\n",
       "      <td>-0.010352</td>\n",
       "      <td>-0.010360</td>\n",
       "    </tr>\n",
       "    <tr>\n",
       "      <th>3</th>\n",
       "      <td>3</td>\n",
       "      <td>0.009520</td>\n",
       "      <td>0.009521</td>\n",
       "    </tr>\n",
       "    <tr>\n",
       "      <th>4</th>\n",
       "      <td>4</td>\n",
       "      <td>-0.000268</td>\n",
       "      <td>-0.000366</td>\n",
       "    </tr>\n",
       "    <tr>\n",
       "      <th>5</th>\n",
       "      <td>5</td>\n",
       "      <td>0.015211</td>\n",
       "      <td>0.015441</td>\n",
       "    </tr>\n",
       "    <tr>\n",
       "      <th>6</th>\n",
       "      <td>6</td>\n",
       "      <td>0.002108</td>\n",
       "      <td>0.002030</td>\n",
       "    </tr>\n",
       "    <tr>\n",
       "      <th>7</th>\n",
       "      <td>7</td>\n",
       "      <td>-0.004863</td>\n",
       "      <td>-0.004551</td>\n",
       "    </tr>\n",
       "    <tr>\n",
       "      <th>8</th>\n",
       "      <td>8</td>\n",
       "      <td>0.036397</td>\n",
       "      <td>0.036272</td>\n",
       "    </tr>\n",
       "    <tr>\n",
       "      <th>9</th>\n",
       "      <td>9</td>\n",
       "      <td>-0.002066</td>\n",
       "      <td>-0.002180</td>\n",
       "    </tr>\n",
       "    <tr>\n",
       "      <th>10</th>\n",
       "      <td>10</td>\n",
       "      <td>-0.007867</td>\n",
       "      <td>-0.007293</td>\n",
       "    </tr>\n",
       "    <tr>\n",
       "      <th>11</th>\n",
       "      <td>11</td>\n",
       "      <td>-0.003100</td>\n",
       "      <td>-0.003918</td>\n",
       "    </tr>\n",
       "    <tr>\n",
       "      <th>12</th>\n",
       "      <td>12</td>\n",
       "      <td>-0.015570</td>\n",
       "      <td>-0.015636</td>\n",
       "    </tr>\n",
       "    <tr>\n",
       "      <th>13</th>\n",
       "      <td>13</td>\n",
       "      <td>0.009862</td>\n",
       "      <td>0.008907</td>\n",
       "    </tr>\n",
       "    <tr>\n",
       "      <th>14</th>\n",
       "      <td>14</td>\n",
       "      <td>0.022711</td>\n",
       "      <td>0.022505</td>\n",
       "    </tr>\n",
       "    <tr>\n",
       "      <th>15</th>\n",
       "      <td>15</td>\n",
       "      <td>-0.027098</td>\n",
       "      <td>-0.026254</td>\n",
       "    </tr>\n",
       "    <tr>\n",
       "      <th>16</th>\n",
       "      <td>16</td>\n",
       "      <td>-0.032769</td>\n",
       "      <td>-0.034005</td>\n",
       "    </tr>\n",
       "    <tr>\n",
       "      <th>17</th>\n",
       "      <td>17</td>\n",
       "      <td>-0.032154</td>\n",
       "      <td>-0.032917</td>\n",
       "    </tr>\n",
       "    <tr>\n",
       "      <th>18</th>\n",
       "      <td>18</td>\n",
       "      <td>-0.015143</td>\n",
       "      <td>-0.015260</td>\n",
       "    </tr>\n",
       "    <tr>\n",
       "      <th>19</th>\n",
       "      <td>19</td>\n",
       "      <td>0.019142</td>\n",
       "      <td>0.018719</td>\n",
       "    </tr>\n",
       "    <tr>\n",
       "      <th>20</th>\n",
       "      <td>20</td>\n",
       "      <td>0.006416</td>\n",
       "      <td>0.008761</td>\n",
       "    </tr>\n",
       "    <tr>\n",
       "      <th>21</th>\n",
       "      <td>21</td>\n",
       "      <td>-0.023054</td>\n",
       "      <td>-0.022207</td>\n",
       "    </tr>\n",
       "    <tr>\n",
       "      <th>22</th>\n",
       "      <td>22</td>\n",
       "      <td>-0.004231</td>\n",
       "      <td>-0.005648</td>\n",
       "    </tr>\n",
       "    <tr>\n",
       "      <th>23</th>\n",
       "      <td>23</td>\n",
       "      <td>-0.059211</td>\n",
       "      <td>-0.058429</td>\n",
       "    </tr>\n",
       "    <tr>\n",
       "      <th>24</th>\n",
       "      <td>24</td>\n",
       "      <td>-0.001125</td>\n",
       "      <td>0.000753</td>\n",
       "    </tr>\n",
       "    <tr>\n",
       "      <th>25</th>\n",
       "      <td>25</td>\n",
       "      <td>-0.009140</td>\n",
       "      <td>-0.008366</td>\n",
       "    </tr>\n",
       "    <tr>\n",
       "      <th>26</th>\n",
       "      <td>26</td>\n",
       "      <td>0.019981</td>\n",
       "      <td>0.023295</td>\n",
       "    </tr>\n",
       "    <tr>\n",
       "      <th>27</th>\n",
       "      <td>27</td>\n",
       "      <td>0.047354</td>\n",
       "      <td>0.045185</td>\n",
       "    </tr>\n",
       "    <tr>\n",
       "      <th>28</th>\n",
       "      <td>28</td>\n",
       "      <td>-0.020534</td>\n",
       "      <td>-0.020775</td>\n",
       "    </tr>\n",
       "    <tr>\n",
       "      <th>29</th>\n",
       "      <td>29</td>\n",
       "      <td>0.030549</td>\n",
       "      <td>0.034367</td>\n",
       "    </tr>\n",
       "    <tr>\n",
       "      <th>30</th>\n",
       "      <td>30</td>\n",
       "      <td>0.004848</td>\n",
       "      <td>0.004736</td>\n",
       "    </tr>\n",
       "    <tr>\n",
       "      <th>31</th>\n",
       "      <td>31</td>\n",
       "      <td>0.025300</td>\n",
       "      <td>0.031057</td>\n",
       "    </tr>\n",
       "    <tr>\n",
       "      <th>32</th>\n",
       "      <td>32</td>\n",
       "      <td>-0.006531</td>\n",
       "      <td>-0.010979</td>\n",
       "    </tr>\n",
       "    <tr>\n",
       "      <th>33</th>\n",
       "      <td>33</td>\n",
       "      <td>0.013458</td>\n",
       "      <td>0.010033</td>\n",
       "    </tr>\n",
       "    <tr>\n",
       "      <th>34</th>\n",
       "      <td>34</td>\n",
       "      <td>0.003537</td>\n",
       "      <td>-0.000735</td>\n",
       "    </tr>\n",
       "  </tbody>\n",
       "</table>\n",
       "</div>"
      ],
      "text/plain": [
       "    lag       acf      pacf\n",
       "0     0  1.000000  1.000000\n",
       "1     1 -0.000525 -0.000525\n",
       "2     2 -0.010352 -0.010360\n",
       "3     3  0.009520  0.009521\n",
       "4     4 -0.000268 -0.000366\n",
       "5     5  0.015211  0.015441\n",
       "6     6  0.002108  0.002030\n",
       "7     7 -0.004863 -0.004551\n",
       "8     8  0.036397  0.036272\n",
       "9     9 -0.002066 -0.002180\n",
       "10   10 -0.007867 -0.007293\n",
       "11   11 -0.003100 -0.003918\n",
       "12   12 -0.015570 -0.015636\n",
       "13   13  0.009862  0.008907\n",
       "14   14  0.022711  0.022505\n",
       "15   15 -0.027098 -0.026254\n",
       "16   16 -0.032769 -0.034005\n",
       "17   17 -0.032154 -0.032917\n",
       "18   18 -0.015143 -0.015260\n",
       "19   19  0.019142  0.018719\n",
       "20   20  0.006416  0.008761\n",
       "21   21 -0.023054 -0.022207\n",
       "22   22 -0.004231 -0.005648\n",
       "23   23 -0.059211 -0.058429\n",
       "24   24 -0.001125  0.000753\n",
       "25   25 -0.009140 -0.008366\n",
       "26   26  0.019981  0.023295\n",
       "27   27  0.047354  0.045185\n",
       "28   28 -0.020534 -0.020775\n",
       "29   29  0.030549  0.034367\n",
       "30   30  0.004848  0.004736\n",
       "31   31  0.025300  0.031057\n",
       "32   32 -0.006531 -0.010979\n",
       "33   33  0.013458  0.010033\n",
       "34   34  0.003537 -0.000735"
      ]
     },
     "execution_count": 31,
     "metadata": {},
     "output_type": "execute_result"
    }
   ],
   "source": [
    "df_residua_acf_pacf"
   ]
  },
  {
   "cell_type": "code",
   "execution_count": null,
   "metadata": {},
   "outputs": [],
   "source": []
  }
 ],
 "metadata": {
  "kernelspec": {
   "display_name": "Python 3",
   "language": "python",
   "name": "python3"
  },
  "language_info": {
   "codemirror_mode": {
    "name": "ipython",
    "version": 3
   },
   "file_extension": ".py",
   "mimetype": "text/x-python",
   "name": "python",
   "nbconvert_exporter": "python",
   "pygments_lexer": "ipython3",
   "version": "3.7.9"
  },
  "orig_nbformat": 4,
  "vscode": {
   "interpreter": {
    "hash": "6fe1c782b1ce644a7249b60894882dc712170c605cbe70c487a65803b7cd19d5"
   }
  }
 },
 "nbformat": 4,
 "nbformat_minor": 2
}
