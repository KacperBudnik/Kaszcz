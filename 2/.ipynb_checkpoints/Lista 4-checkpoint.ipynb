{
 "cells": [
  {
   "cell_type": "code",
   "execution_count": 7,
   "metadata": {},
   "outputs": [],
   "source": [
    "using Plots\n",
    "using Statistics"
   ]
  },
  {
   "cell_type": "code",
   "execution_count": 7,
   "metadata": {},
   "outputs": [],
   "source": [
    "plot();"
   ]
  },
  {
   "cell_type": "markdown",
   "metadata": {},
   "source": [
    "# Zad 3"
   ]
  },
  {
   "cell_type": "code",
   "execution_count": 36,
   "metadata": {},
   "outputs": [
    {
     "data": {
      "text/plain": [
       "Γₜ (generic function with 1 method)"
      ]
     },
     "execution_count": 36,
     "metadata": {},
     "output_type": "execute_result"
    }
   ],
   "source": [
    "Γₜ(X,h)=sum((X[1:length(X)-abs(h)].-mean(X)) .* (X[abs(h)+1:end].-mean(X)))/length(X)"
   ]
  },
  {
   "cell_type": "code",
   "execution_count": 37,
   "metadata": {},
   "outputs": [
    {
     "data": {
      "text/plain": [
       "N (generic function with 1 method)"
      ]
     },
     "execution_count": 37,
     "metadata": {},
     "output_type": "execute_result"
    }
   ],
   "source": [
    "N(;μ=0,σ=2,n=1e3)=σ.*[√(-2log(rand()))*cos(2π*rand()) for _ in 1:n].+μ"
   ]
  },
  {
   "cell_type": "code",
   "execution_count": 38,
   "metadata": {},
   "outputs": [
    {
     "data": {
      "text/plain": [
       "Γ (generic function with 1 method)"
      ]
     },
     "execution_count": 38,
     "metadata": {},
     "output_type": "execute_result"
    }
   ],
   "source": [
    "Γ(X)=h->Γₜ(X,h)"
   ]
  },
  {
   "cell_type": "code",
   "execution_count": null,
   "metadata": {},
   "outputs": [],
   "source": []
  },
  {
   "cell_type": "code",
   "execution_count": 53,
   "metadata": {},
   "outputs": [
    {
     "data": {
      "text/plain": [
       "3-element Vector{var\"#39#40\"{Vector{Float64}}}:\n",
       " #39 (generic function with 1 method)\n",
       " #39 (generic function with 1 method)\n",
       " #39 (generic function with 1 method)"
      ]
     },
     "execution_count": 53,
     "metadata": {},
     "output_type": "execute_result"
    }
   ],
   "source": [
    "Ns=[50,1e2,1e3]\n",
    "γ=[Γ(N(n=i)) for i in Ns]"
   ]
  },
  {
   "cell_type": "code",
   "execution_count": 54,
   "metadata": {},
   "outputs": [
    {
     "data": {
      "text/plain": [
       "ρ (generic function with 1 method)"
      ]
     },
     "execution_count": 54,
     "metadata": {},
     "output_type": "execute_result"
    }
   ],
   "source": [
    "ρ(h,γ)=γ(h)/γ(0)"
   ]
  },
  {
   "cell_type": "code",
   "execution_count": 55,
   "metadata": {},
   "outputs": [
    {
     "data": {
      "text/plain": [
       "(4.751404059837232, 4.049509406348854, 3.973282985637081)"
      ]
     },
     "execution_count": 55,
     "metadata": {},
     "output_type": "execute_result"
    }
   ],
   "source": [
    "γ[1](0),γ[2](0),γ[3](0)"
   ]
  },
  {
   "cell_type": "code",
   "execution_count": 76,
   "metadata": {},
   "outputs": [
    {
     "data": {
      "image/svg+xml": [
       "<?xml version=\"1.0\" encoding=\"utf-8\"?>\n",
       "<svg xmlns=\"http://www.w3.org/2000/svg\" xmlns:xlink=\"http://www.w3.org/1999/xlink\" width=\"600\" height=\"400\" viewBox=\"0 0 2400 1600\">\n",
       "<defs>\n",
       "  <clipPath id=\"clip080\">\n",
       "    <rect x=\"0\" y=\"0\" width=\"2400\" height=\"1600\"/>\n",
       "  </clipPath>\n",
       "</defs>\n",
       "<path clip-path=\"url(#clip080)\" d=\"\n",
       "M0 1600 L2400 1600 L2400 0 L0 0  Z\n",
       "  \" fill=\"#ffffff\" fill-rule=\"evenodd\" fill-opacity=\"1\"/>\n",
       "<defs>\n",
       "  <clipPath id=\"clip081\">\n",
       "    <rect x=\"480\" y=\"0\" width=\"1681\" height=\"1600\"/>\n",
       "  </clipPath>\n",
       "</defs>\n",
       "<path clip-path=\"url(#clip080)\" d=\"\n",
       "M112.177 1486.45 L2352.76 1486.45 L2352.76 47.2441 L112.177 47.2441  Z\n",
       "  \" fill=\"#ffffff\" fill-rule=\"evenodd\" fill-opacity=\"1\"/>\n",
       "<defs>\n",
       "  <clipPath id=\"clip082\">\n",
       "    <rect x=\"112\" y=\"47\" width=\"2242\" height=\"1440\"/>\n",
       "  </clipPath>\n",
       "</defs>\n",
       "<polyline clip-path=\"url(#clip082)\" style=\"stroke:#000000; stroke-linecap:butt; stroke-linejoin:round; stroke-width:2; stroke-opacity:0.1; fill:none\" points=\"\n",
       "  386.965,1486.45 386.965,47.2441 \n",
       "  \"/>\n",
       "<polyline clip-path=\"url(#clip082)\" style=\"stroke:#000000; stroke-linecap:butt; stroke-linejoin:round; stroke-width:2; stroke-opacity:0.1; fill:none\" points=\"\n",
       "  809.716,1486.45 809.716,47.2441 \n",
       "  \"/>\n",
       "<polyline clip-path=\"url(#clip082)\" style=\"stroke:#000000; stroke-linecap:butt; stroke-linejoin:round; stroke-width:2; stroke-opacity:0.1; fill:none\" points=\"\n",
       "  1655.22,1486.45 1655.22,47.2441 \n",
       "  \"/>\n",
       "<polyline clip-path=\"url(#clip082)\" style=\"stroke:#000000; stroke-linecap:butt; stroke-linejoin:round; stroke-width:2; stroke-opacity:0.1; fill:none\" points=\"\n",
       "  2077.97,1486.45 2077.97,47.2441 \n",
       "  \"/>\n",
       "<polyline clip-path=\"url(#clip080)\" style=\"stroke:#000000; stroke-linecap:butt; stroke-linejoin:round; stroke-width:4; stroke-opacity:1; fill:none\" points=\"\n",
       "  112.177,1252.79 2352.76,1252.79 \n",
       "  \"/>\n",
       "<polyline clip-path=\"url(#clip080)\" style=\"stroke:#000000; stroke-linecap:butt; stroke-linejoin:round; stroke-width:4; stroke-opacity:1; fill:none\" points=\"\n",
       "  386.965,1271.69 386.965,1233.9 \n",
       "  \"/>\n",
       "<polyline clip-path=\"url(#clip080)\" style=\"stroke:#000000; stroke-linecap:butt; stroke-linejoin:round; stroke-width:4; stroke-opacity:1; fill:none\" points=\"\n",
       "  809.716,1271.69 809.716,1233.9 \n",
       "  \"/>\n",
       "<polyline clip-path=\"url(#clip080)\" style=\"stroke:#000000; stroke-linecap:butt; stroke-linejoin:round; stroke-width:4; stroke-opacity:1; fill:none\" points=\"\n",
       "  1655.22,1271.69 1655.22,1233.9 \n",
       "  \"/>\n",
       "<polyline clip-path=\"url(#clip080)\" style=\"stroke:#000000; stroke-linecap:butt; stroke-linejoin:round; stroke-width:4; stroke-opacity:1; fill:none\" points=\"\n",
       "  2077.97,1271.69 2077.97,1233.9 \n",
       "  \"/>\n",
       "<path clip-path=\"url(#clip080)\" d=\"M355.866 1298.36 L385.542 1298.36 L385.542 1302.3 L355.866 1302.3 L355.866 1298.36 Z\" fill=\"#000000\" fill-rule=\"evenodd\" fill-opacity=\"1\" /><path clip-path=\"url(#clip080)\" d=\"M408.481 1284.71 L396.676 1303.16 L408.481 1303.16 L408.481 1284.71 M407.254 1280.63 L413.134 1280.63 L413.134 1303.16 L418.065 1303.16 L418.065 1307.04 L413.134 1307.04 L413.134 1315.19 L408.481 1315.19 L408.481 1307.04 L392.879 1307.04 L392.879 1302.53 L407.254 1280.63 Z\" fill=\"#000000\" fill-rule=\"evenodd\" fill-opacity=\"1\" /><path clip-path=\"url(#clip080)\" d=\"M779.658 1298.36 L809.334 1298.36 L809.334 1302.3 L779.658 1302.3 L779.658 1298.36 Z\" fill=\"#000000\" fill-rule=\"evenodd\" fill-opacity=\"1\" /><path clip-path=\"url(#clip080)\" d=\"M823.454 1311.26 L839.774 1311.26 L839.774 1315.19 L817.829 1315.19 L817.829 1311.26 Q820.491 1308.5 825.075 1303.87 Q829.681 1299.22 830.862 1297.88 Q833.107 1295.36 833.987 1293.62 Q834.889 1291.86 834.889 1290.17 Q834.889 1287.42 832.945 1285.68 Q831.024 1283.94 827.922 1283.94 Q825.723 1283.94 823.269 1284.71 Q820.838 1285.47 818.061 1287.02 L818.061 1282.3 Q820.885 1281.17 823.338 1280.59 Q825.792 1280.01 827.829 1280.01 Q833.2 1280.01 836.394 1282.69 Q839.588 1285.38 839.588 1289.87 Q839.588 1292 838.778 1293.92 Q837.991 1295.82 835.885 1298.41 Q835.306 1299.08 832.204 1302.3 Q829.102 1305.49 823.454 1311.26 Z\" fill=\"#000000\" fill-rule=\"evenodd\" fill-opacity=\"1\" /><path clip-path=\"url(#clip080)\" d=\"M1649.87 1311.26 L1666.19 1311.26 L1666.19 1315.19 L1644.25 1315.19 L1644.25 1311.26 Q1646.91 1308.5 1651.49 1303.87 Q1656.1 1299.22 1657.28 1297.88 Q1659.52 1295.36 1660.4 1293.62 Q1661.31 1291.86 1661.31 1290.17 Q1661.31 1287.42 1659.36 1285.68 Q1657.44 1283.94 1654.34 1283.94 Q1652.14 1283.94 1649.68 1284.71 Q1647.25 1285.47 1644.48 1287.02 L1644.48 1282.3 Q1647.3 1281.17 1649.75 1280.59 Q1652.21 1280.01 1654.25 1280.01 Q1659.62 1280.01 1662.81 1282.69 Q1666 1285.38 1666 1289.87 Q1666 1292 1665.19 1293.92 Q1664.41 1295.82 1662.3 1298.41 Q1661.72 1299.08 1658.62 1302.3 Q1655.52 1305.49 1649.87 1311.26 Z\" fill=\"#000000\" fill-rule=\"evenodd\" fill-opacity=\"1\" /><path clip-path=\"url(#clip080)\" d=\"M2080.98 1284.71 L2069.17 1303.16 L2080.98 1303.16 L2080.98 1284.71 M2079.75 1280.63 L2085.63 1280.63 L2085.63 1303.16 L2090.56 1303.16 L2090.56 1307.04 L2085.63 1307.04 L2085.63 1315.19 L2080.98 1315.19 L2080.98 1307.04 L2065.38 1307.04 L2065.38 1302.53 L2079.75 1280.63 Z\" fill=\"#000000\" fill-rule=\"evenodd\" fill-opacity=\"1\" /><polyline clip-path=\"url(#clip082)\" style=\"stroke:#000000; stroke-linecap:butt; stroke-linejoin:round; stroke-width:2; stroke-opacity:0.1; fill:none\" points=\"\n",
       "  112.177,1007.64 2352.76,1007.64 \n",
       "  \"/>\n",
       "<polyline clip-path=\"url(#clip082)\" style=\"stroke:#000000; stroke-linecap:butt; stroke-linejoin:round; stroke-width:2; stroke-opacity:0.1; fill:none\" points=\"\n",
       "  112.177,762.489 2352.76,762.489 \n",
       "  \"/>\n",
       "<polyline clip-path=\"url(#clip082)\" style=\"stroke:#000000; stroke-linecap:butt; stroke-linejoin:round; stroke-width:2; stroke-opacity:0.1; fill:none\" points=\"\n",
       "  112.177,517.337 2352.76,517.337 \n",
       "  \"/>\n",
       "<polyline clip-path=\"url(#clip082)\" style=\"stroke:#000000; stroke-linecap:butt; stroke-linejoin:round; stroke-width:2; stroke-opacity:0.1; fill:none\" points=\"\n",
       "  112.177,272.185 2352.76,272.185 \n",
       "  \"/>\n",
       "<polyline clip-path=\"url(#clip080)\" style=\"stroke:#000000; stroke-linecap:butt; stroke-linejoin:round; stroke-width:4; stroke-opacity:1; fill:none\" points=\"\n",
       "  1232.47,1486.45 1232.47,47.2441 \n",
       "  \"/>\n",
       "<polyline clip-path=\"url(#clip080)\" style=\"stroke:#000000; stroke-linecap:butt; stroke-linejoin:round; stroke-width:4; stroke-opacity:1; fill:none\" points=\"\n",
       "  1213.57,1007.64 1251.36,1007.64 \n",
       "  \"/>\n",
       "<polyline clip-path=\"url(#clip080)\" style=\"stroke:#000000; stroke-linecap:butt; stroke-linejoin:round; stroke-width:4; stroke-opacity:1; fill:none\" points=\"\n",
       "  1213.57,762.489 1251.36,762.489 \n",
       "  \"/>\n",
       "<polyline clip-path=\"url(#clip080)\" style=\"stroke:#000000; stroke-linecap:butt; stroke-linejoin:round; stroke-width:4; stroke-opacity:1; fill:none\" points=\"\n",
       "  1213.57,517.337 1251.36,517.337 \n",
       "  \"/>\n",
       "<polyline clip-path=\"url(#clip080)\" style=\"stroke:#000000; stroke-linecap:butt; stroke-linejoin:round; stroke-width:4; stroke-opacity:1; fill:none\" points=\"\n",
       "  1213.57,272.185 1251.36,272.185 \n",
       "  \"/>\n",
       "<path clip-path=\"url(#clip080)\" d=\"M1176.56 1020.99 L1184.2 1020.99 L1184.2 994.62 L1175.89 996.287 L1175.89 992.027 L1184.15 990.361 L1188.83 990.361 L1188.83 1020.99 L1196.47 1020.99 L1196.47 1024.92 L1176.56 1024.92 L1176.56 1020.99 Z\" fill=\"#000000\" fill-rule=\"evenodd\" fill-opacity=\"1\" /><path clip-path=\"url(#clip080)\" d=\"M1180.15 775.834 L1196.47 775.834 L1196.47 779.769 L1174.52 779.769 L1174.52 775.834 Q1177.18 773.079 1181.77 768.449 Q1186.37 763.797 1187.55 762.454 Q1189.8 759.931 1190.68 758.195 Q1191.58 756.435 1191.58 754.746 Q1191.58 751.991 1189.64 750.255 Q1187.72 748.519 1184.61 748.519 Q1182.42 748.519 1179.96 749.283 Q1177.53 750.047 1174.75 751.598 L1174.75 746.875 Q1177.58 745.741 1180.03 745.162 Q1182.49 744.584 1184.52 744.584 Q1189.89 744.584 1193.09 747.269 Q1196.28 749.954 1196.28 754.445 Q1196.28 756.574 1195.47 758.496 Q1194.68 760.394 1192.58 762.986 Q1192 763.658 1188.9 766.875 Q1185.8 770.07 1180.15 775.834 Z\" fill=\"#000000\" fill-rule=\"evenodd\" fill-opacity=\"1\" /><path clip-path=\"url(#clip080)\" d=\"M1189.34 515.982 Q1192.69 516.7 1194.57 518.969 Q1196.47 521.237 1196.47 524.57 Q1196.47 529.686 1192.95 532.487 Q1189.43 535.288 1182.95 535.288 Q1180.77 535.288 1178.46 534.848 Q1176.17 534.431 1173.71 533.575 L1173.71 529.061 Q1175.66 530.195 1177.97 530.774 Q1180.29 531.353 1182.81 531.353 Q1187.21 531.353 1189.5 529.617 Q1191.81 527.881 1191.81 524.57 Q1191.81 521.515 1189.66 519.802 Q1187.53 518.066 1183.71 518.066 L1179.68 518.066 L1179.68 514.223 L1183.9 514.223 Q1187.35 514.223 1189.17 512.857 Q1191 511.469 1191 508.876 Q1191 506.214 1189.11 504.802 Q1187.23 503.367 1183.71 503.367 Q1181.79 503.367 1179.59 503.783 Q1177.39 504.2 1174.75 505.08 L1174.75 500.913 Q1177.42 500.172 1179.73 499.802 Q1182.07 499.432 1184.13 499.432 Q1189.45 499.432 1192.55 501.862 Q1195.66 504.27 1195.66 508.39 Q1195.66 511.26 1194.01 513.251 Q1192.37 515.219 1189.34 515.982 Z\" fill=\"#000000\" fill-rule=\"evenodd\" fill-opacity=\"1\" /><path clip-path=\"url(#clip080)\" d=\"M1186.88 258.979 L1175.08 277.428 L1186.88 277.428 L1186.88 258.979 M1185.66 254.905 L1191.54 254.905 L1191.54 277.428 L1196.47 277.428 L1196.47 281.316 L1191.54 281.316 L1191.54 289.465 L1186.88 289.465 L1186.88 281.316 L1171.28 281.316 L1171.28 276.803 L1185.66 254.905 Z\" fill=\"#000000\" fill-rule=\"evenodd\" fill-opacity=\"1\" /><path clip-path=\"url(#clip082)\" d=\"M175.59 1212.79 L166.19 1239.83 L137.55 1240.43 L160.39 1257.75 L152.07 1285.15 L175.59 1268.79 L199.11 1285.15 L190.79 1257.75 L213.63 1240.43 L184.99 1239.83 L175.59 1212.79 Z\" fill=\"#009af9\" fill-rule=\"evenodd\" fill-opacity=\"1\" stroke=\"#000000\" stroke-opacity=\"1\" stroke-width=\"3.2\"/>\n",
       "<path clip-path=\"url(#clip082)\" d=\"M386.965 1212.79 L377.565 1239.83 L348.925 1240.43 L371.765 1257.75 L363.445 1285.15 L386.965 1268.79 L410.485 1285.15 L402.165 1257.75 L425.005 1240.43 L396.365 1239.83 L386.965 1212.79 Z\" fill=\"#009af9\" fill-rule=\"evenodd\" fill-opacity=\"1\" stroke=\"#000000\" stroke-opacity=\"1\" stroke-width=\"3.2\"/>\n",
       "<path clip-path=\"url(#clip082)\" d=\"M598.34 1212.79 L588.94 1239.83 L560.3 1240.43 L583.14 1257.75 L574.82 1285.15 L598.34 1268.79 L621.86 1285.15 L613.54 1257.75 L636.38 1240.43 L607.74 1239.83 L598.34 1212.79 Z\" fill=\"#009af9\" fill-rule=\"evenodd\" fill-opacity=\"1\" stroke=\"#000000\" stroke-opacity=\"1\" stroke-width=\"3.2\"/>\n",
       "<path clip-path=\"url(#clip082)\" d=\"M809.716 1212.79 L800.316 1239.83 L771.676 1240.43 L794.516 1257.75 L786.196 1285.15 L809.716 1268.79 L833.236 1285.15 L824.916 1257.75 L847.756 1240.43 L819.116 1239.83 L809.716 1212.79 Z\" fill=\"#009af9\" fill-rule=\"evenodd\" fill-opacity=\"1\" stroke=\"#000000\" stroke-opacity=\"1\" stroke-width=\"3.2\"/>\n",
       "<path clip-path=\"url(#clip082)\" d=\"M1021.09 1212.79 L1011.69 1239.83 L983.051 1240.43 L1005.89 1257.75 L997.571 1285.15 L1021.09 1268.79 L1044.61 1285.15 L1036.29 1257.75 L1059.13 1240.43 L1030.49 1239.83 L1021.09 1212.79 Z\" fill=\"#009af9\" fill-rule=\"evenodd\" fill-opacity=\"1\" stroke=\"#000000\" stroke-opacity=\"1\" stroke-width=\"3.2\"/>\n",
       "<path clip-path=\"url(#clip082)\" d=\"M1232.47 232.185 L1223.07 259.225 L1194.43 259.825 L1217.27 277.145 L1208.95 304.545 L1232.47 288.185 L1255.99 304.545 L1247.67 277.145 L1270.51 259.825 L1241.87 259.225 L1232.47 232.185 Z\" fill=\"#009af9\" fill-rule=\"evenodd\" fill-opacity=\"1\" stroke=\"#000000\" stroke-opacity=\"1\" stroke-width=\"3.2\"/>\n",
       "<path clip-path=\"url(#clip082)\" d=\"M1443.84 1212.79 L1434.44 1239.83 L1405.8 1240.43 L1428.64 1257.75 L1420.32 1285.15 L1443.84 1268.79 L1467.36 1285.15 L1459.04 1257.75 L1481.88 1240.43 L1453.24 1239.83 L1443.84 1212.79 Z\" fill=\"#009af9\" fill-rule=\"evenodd\" fill-opacity=\"1\" stroke=\"#000000\" stroke-opacity=\"1\" stroke-width=\"3.2\"/>\n",
       "<path clip-path=\"url(#clip082)\" d=\"M1655.22 1212.79 L1645.82 1239.83 L1617.18 1240.43 L1640.02 1257.75 L1631.7 1285.15 L1655.22 1268.79 L1678.74 1285.15 L1670.42 1257.75 L1693.26 1240.43 L1664.62 1239.83 L1655.22 1212.79 Z\" fill=\"#009af9\" fill-rule=\"evenodd\" fill-opacity=\"1\" stroke=\"#000000\" stroke-opacity=\"1\" stroke-width=\"3.2\"/>\n",
       "<path clip-path=\"url(#clip082)\" d=\"M1866.59 1212.79 L1857.19 1239.83 L1828.55 1240.43 L1851.39 1257.75 L1843.07 1285.15 L1866.59 1268.79 L1890.11 1285.15 L1881.79 1257.75 L1904.63 1240.43 L1875.99 1239.83 L1866.59 1212.79 Z\" fill=\"#009af9\" fill-rule=\"evenodd\" fill-opacity=\"1\" stroke=\"#000000\" stroke-opacity=\"1\" stroke-width=\"3.2\"/>\n",
       "<path clip-path=\"url(#clip082)\" d=\"M2077.97 1212.79 L2068.57 1239.83 L2039.93 1240.43 L2062.77 1257.75 L2054.45 1285.15 L2077.97 1268.79 L2101.49 1285.15 L2093.17 1257.75 L2116.01 1240.43 L2087.37 1239.83 L2077.97 1212.79 Z\" fill=\"#009af9\" fill-rule=\"evenodd\" fill-opacity=\"1\" stroke=\"#000000\" stroke-opacity=\"1\" stroke-width=\"3.2\"/>\n",
       "<path clip-path=\"url(#clip082)\" d=\"M2289.34 1212.79 L2279.94 1239.83 L2251.3 1240.43 L2274.14 1257.75 L2265.82 1285.15 L2289.34 1268.79 L2312.86 1285.15 L2304.54 1257.75 L2327.38 1240.43 L2298.74 1239.83 L2289.34 1212.79 Z\" fill=\"#009af9\" fill-rule=\"evenodd\" fill-opacity=\"1\" stroke=\"#000000\" stroke-opacity=\"1\" stroke-width=\"3.2\"/>\n",
       "<circle clip-path=\"url(#clip082)\" cx=\"175.59\" cy=\"1419.71\" r=\"14\" fill=\"#e26f46\" fill-rule=\"evenodd\" fill-opacity=\"1\" stroke=\"#000000\" stroke-opacity=\"1\" stroke-width=\"3.2\"/>\n",
       "<circle clip-path=\"url(#clip082)\" cx=\"386.965\" cy=\"1403.75\" r=\"14\" fill=\"#e26f46\" fill-rule=\"evenodd\" fill-opacity=\"1\" stroke=\"#000000\" stroke-opacity=\"1\" stroke-width=\"3.2\"/>\n",
       "<circle clip-path=\"url(#clip082)\" cx=\"598.34\" cy=\"1445.72\" r=\"14\" fill=\"#e26f46\" fill-rule=\"evenodd\" fill-opacity=\"1\" stroke=\"#000000\" stroke-opacity=\"1\" stroke-width=\"3.2\"/>\n",
       "<circle clip-path=\"url(#clip082)\" cx=\"809.716\" cy=\"1258.57\" r=\"14\" fill=\"#e26f46\" fill-rule=\"evenodd\" fill-opacity=\"1\" stroke=\"#000000\" stroke-opacity=\"1\" stroke-width=\"3.2\"/>\n",
       "<circle clip-path=\"url(#clip082)\" cx=\"1021.09\" cy=\"1249.68\" r=\"14\" fill=\"#e26f46\" fill-rule=\"evenodd\" fill-opacity=\"1\" stroke=\"#000000\" stroke-opacity=\"1\" stroke-width=\"3.2\"/>\n",
       "<circle clip-path=\"url(#clip082)\" cx=\"1232.47\" cy=\"87.9763\" r=\"14\" fill=\"#e26f46\" fill-rule=\"evenodd\" fill-opacity=\"1\" stroke=\"#000000\" stroke-opacity=\"1\" stroke-width=\"3.2\"/>\n",
       "<circle clip-path=\"url(#clip082)\" cx=\"1443.84\" cy=\"1249.68\" r=\"14\" fill=\"#e26f46\" fill-rule=\"evenodd\" fill-opacity=\"1\" stroke=\"#000000\" stroke-opacity=\"1\" stroke-width=\"3.2\"/>\n",
       "<circle clip-path=\"url(#clip082)\" cx=\"1655.22\" cy=\"1258.57\" r=\"14\" fill=\"#e26f46\" fill-rule=\"evenodd\" fill-opacity=\"1\" stroke=\"#000000\" stroke-opacity=\"1\" stroke-width=\"3.2\"/>\n",
       "<circle clip-path=\"url(#clip082)\" cx=\"1866.59\" cy=\"1445.72\" r=\"14\" fill=\"#e26f46\" fill-rule=\"evenodd\" fill-opacity=\"1\" stroke=\"#000000\" stroke-opacity=\"1\" stroke-width=\"3.2\"/>\n",
       "<circle clip-path=\"url(#clip082)\" cx=\"2077.97\" cy=\"1403.75\" r=\"14\" fill=\"#e26f46\" fill-rule=\"evenodd\" fill-opacity=\"1\" stroke=\"#000000\" stroke-opacity=\"1\" stroke-width=\"3.2\"/>\n",
       "<circle clip-path=\"url(#clip082)\" cx=\"2289.34\" cy=\"1419.71\" r=\"14\" fill=\"#e26f46\" fill-rule=\"evenodd\" fill-opacity=\"1\" stroke=\"#000000\" stroke-opacity=\"1\" stroke-width=\"3.2\"/>\n",
       "<circle clip-path=\"url(#clip082)\" cx=\"175.59\" cy=\"1280.93\" r=\"14\" fill=\"#3da44d\" fill-rule=\"evenodd\" fill-opacity=\"1\" stroke=\"#000000\" stroke-opacity=\"1\" stroke-width=\"3.2\"/>\n",
       "<circle clip-path=\"url(#clip082)\" cx=\"386.965\" cy=\"1259.22\" r=\"14\" fill=\"#3da44d\" fill-rule=\"evenodd\" fill-opacity=\"1\" stroke=\"#000000\" stroke-opacity=\"1\" stroke-width=\"3.2\"/>\n",
       "<circle clip-path=\"url(#clip082)\" cx=\"598.34\" cy=\"1344.12\" r=\"14\" fill=\"#3da44d\" fill-rule=\"evenodd\" fill-opacity=\"1\" stroke=\"#000000\" stroke-opacity=\"1\" stroke-width=\"3.2\"/>\n",
       "<circle clip-path=\"url(#clip082)\" cx=\"809.716\" cy=\"1236.66\" r=\"14\" fill=\"#3da44d\" fill-rule=\"evenodd\" fill-opacity=\"1\" stroke=\"#000000\" stroke-opacity=\"1\" stroke-width=\"3.2\"/>\n",
       "<circle clip-path=\"url(#clip082)\" cx=\"1021.09\" cy=\"1183.26\" r=\"14\" fill=\"#3da44d\" fill-rule=\"evenodd\" fill-opacity=\"1\" stroke=\"#000000\" stroke-opacity=\"1\" stroke-width=\"3.2\"/>\n",
       "<circle clip-path=\"url(#clip082)\" cx=\"1232.47\" cy=\"260.047\" r=\"14\" fill=\"#3da44d\" fill-rule=\"evenodd\" fill-opacity=\"1\" stroke=\"#000000\" stroke-opacity=\"1\" stroke-width=\"3.2\"/>\n",
       "<circle clip-path=\"url(#clip082)\" cx=\"1443.84\" cy=\"1183.26\" r=\"14\" fill=\"#3da44d\" fill-rule=\"evenodd\" fill-opacity=\"1\" stroke=\"#000000\" stroke-opacity=\"1\" stroke-width=\"3.2\"/>\n",
       "<circle clip-path=\"url(#clip082)\" cx=\"1655.22\" cy=\"1236.66\" r=\"14\" fill=\"#3da44d\" fill-rule=\"evenodd\" fill-opacity=\"1\" stroke=\"#000000\" stroke-opacity=\"1\" stroke-width=\"3.2\"/>\n",
       "<circle clip-path=\"url(#clip082)\" cx=\"1866.59\" cy=\"1344.12\" r=\"14\" fill=\"#3da44d\" fill-rule=\"evenodd\" fill-opacity=\"1\" stroke=\"#000000\" stroke-opacity=\"1\" stroke-width=\"3.2\"/>\n",
       "<circle clip-path=\"url(#clip082)\" cx=\"2077.97\" cy=\"1259.22\" r=\"14\" fill=\"#3da44d\" fill-rule=\"evenodd\" fill-opacity=\"1\" stroke=\"#000000\" stroke-opacity=\"1\" stroke-width=\"3.2\"/>\n",
       "<circle clip-path=\"url(#clip082)\" cx=\"2289.34\" cy=\"1280.93\" r=\"14\" fill=\"#3da44d\" fill-rule=\"evenodd\" fill-opacity=\"1\" stroke=\"#000000\" stroke-opacity=\"1\" stroke-width=\"3.2\"/>\n",
       "<circle clip-path=\"url(#clip082)\" cx=\"175.59\" cy=\"1222.99\" r=\"14\" fill=\"#c271d2\" fill-rule=\"evenodd\" fill-opacity=\"1\" stroke=\"#000000\" stroke-opacity=\"1\" stroke-width=\"3.2\"/>\n",
       "<circle clip-path=\"url(#clip082)\" cx=\"386.965\" cy=\"1262\" r=\"14\" fill=\"#c271d2\" fill-rule=\"evenodd\" fill-opacity=\"1\" stroke=\"#000000\" stroke-opacity=\"1\" stroke-width=\"3.2\"/>\n",
       "<circle clip-path=\"url(#clip082)\" cx=\"598.34\" cy=\"1198.56\" r=\"14\" fill=\"#c271d2\" fill-rule=\"evenodd\" fill-opacity=\"1\" stroke=\"#000000\" stroke-opacity=\"1\" stroke-width=\"3.2\"/>\n",
       "<circle clip-path=\"url(#clip082)\" cx=\"809.716\" cy=\"1287.99\" r=\"14\" fill=\"#c271d2\" fill-rule=\"evenodd\" fill-opacity=\"1\" stroke=\"#000000\" stroke-opacity=\"1\" stroke-width=\"3.2\"/>\n",
       "<circle clip-path=\"url(#clip082)\" cx=\"1021.09\" cy=\"1281.25\" r=\"14\" fill=\"#c271d2\" fill-rule=\"evenodd\" fill-opacity=\"1\" stroke=\"#000000\" stroke-opacity=\"1\" stroke-width=\"3.2\"/>\n",
       "<circle clip-path=\"url(#clip082)\" cx=\"1232.47\" cy=\"278.734\" r=\"14\" fill=\"#c271d2\" fill-rule=\"evenodd\" fill-opacity=\"1\" stroke=\"#000000\" stroke-opacity=\"1\" stroke-width=\"3.2\"/>\n",
       "<circle clip-path=\"url(#clip082)\" cx=\"1443.84\" cy=\"1281.25\" r=\"14\" fill=\"#c271d2\" fill-rule=\"evenodd\" fill-opacity=\"1\" stroke=\"#000000\" stroke-opacity=\"1\" stroke-width=\"3.2\"/>\n",
       "<circle clip-path=\"url(#clip082)\" cx=\"1655.22\" cy=\"1287.99\" r=\"14\" fill=\"#c271d2\" fill-rule=\"evenodd\" fill-opacity=\"1\" stroke=\"#000000\" stroke-opacity=\"1\" stroke-width=\"3.2\"/>\n",
       "<circle clip-path=\"url(#clip082)\" cx=\"1866.59\" cy=\"1198.56\" r=\"14\" fill=\"#c271d2\" fill-rule=\"evenodd\" fill-opacity=\"1\" stroke=\"#000000\" stroke-opacity=\"1\" stroke-width=\"3.2\"/>\n",
       "<circle clip-path=\"url(#clip082)\" cx=\"2077.97\" cy=\"1262\" r=\"14\" fill=\"#c271d2\" fill-rule=\"evenodd\" fill-opacity=\"1\" stroke=\"#000000\" stroke-opacity=\"1\" stroke-width=\"3.2\"/>\n",
       "<circle clip-path=\"url(#clip082)\" cx=\"2289.34\" cy=\"1222.99\" r=\"14\" fill=\"#c271d2\" fill-rule=\"evenodd\" fill-opacity=\"1\" stroke=\"#000000\" stroke-opacity=\"1\" stroke-width=\"3.2\"/>\n",
       "<path clip-path=\"url(#clip080)\" d=\"\n",
       "M1749.91 354.418 L2278.07 354.418 L2278.07 95.2176 L1749.91 95.2176  Z\n",
       "  \" fill=\"#ffffff\" fill-rule=\"evenodd\" fill-opacity=\"1\"/>\n",
       "<polyline clip-path=\"url(#clip080)\" style=\"stroke:#000000; stroke-linecap:butt; stroke-linejoin:round; stroke-width:4; stroke-opacity:1; fill:none\" points=\"\n",
       "  1749.91,354.418 2278.07,354.418 2278.07,95.2176 1749.91,95.2176 1749.91,354.418 \n",
       "  \"/>\n",
       "<path clip-path=\"url(#clip080)\" d=\"M1849.49 121.458 L1843.47 138.763 L1825.14 139.147 L1839.76 150.232 L1834.43 167.768 L1849.49 157.298 L1864.54 167.768 L1859.21 150.232 L1873.83 139.147 L1855.5 138.763 L1849.49 121.458 Z\" fill=\"#009af9\" fill-rule=\"evenodd\" fill-opacity=\"1\" stroke=\"#000000\" stroke-opacity=\"1\" stroke-width=\"2.048\"/>\n",
       "<path clip-path=\"url(#clip080)\" d=\"M1949.07 129.778 L1978.3 129.778 L1978.3 133.713 L1966.04 133.713 L1966.04 164.338 L1961.34 164.338 L1961.34 133.713 L1949.07 133.713 L1949.07 129.778 Z\" fill=\"#000000\" fill-rule=\"evenodd\" fill-opacity=\"1\" /><path clip-path=\"url(#clip080)\" d=\"M1996.75 150.31 L1996.75 152.393 L1977.17 152.393 Q1977.45 156.791 1979.81 159.106 Q1982.19 161.398 1986.43 161.398 Q1988.88 161.398 1991.17 160.796 Q1993.49 160.194 1995.76 158.99 L1995.76 163.018 Q1993.47 163.99 1991.06 164.5 Q1988.65 165.009 1986.17 165.009 Q1979.97 165.009 1976.34 161.398 Q1972.73 157.787 1972.73 151.629 Q1972.73 145.264 1976.15 141.537 Q1979.6 137.787 1985.43 137.787 Q1990.66 137.787 1993.7 141.166 Q1996.75 144.523 1996.75 150.31 M1992.49 149.06 Q1992.45 145.565 1990.53 143.481 Q1988.63 141.398 1985.48 141.398 Q1981.91 141.398 1979.76 143.412 Q1977.63 145.426 1977.31 149.083 L1992.49 149.06 Z\" fill=\"#000000\" fill-rule=\"evenodd\" fill-opacity=\"1\" /><path clip-path=\"url(#clip080)\" d=\"M2013.79 141.398 Q2010.36 141.398 2008.37 144.083 Q2006.38 146.745 2006.38 151.398 Q2006.38 156.051 2008.35 158.736 Q2010.34 161.398 2013.79 161.398 Q2017.19 161.398 2019.18 158.713 Q2021.17 156.027 2021.17 151.398 Q2021.17 146.791 2019.18 144.106 Q2017.19 141.398 2013.79 141.398 M2013.79 137.787 Q2019.35 137.787 2022.52 141.398 Q2025.69 145.009 2025.69 151.398 Q2025.69 157.764 2022.52 161.398 Q2019.35 165.009 2013.79 165.009 Q2008.21 165.009 2005.04 161.398 Q2001.89 157.764 2001.89 151.398 Q2001.89 145.009 2005.04 141.398 Q2008.21 137.787 2013.79 137.787 Z\" fill=\"#000000\" fill-rule=\"evenodd\" fill-opacity=\"1\" /><path clip-path=\"url(#clip080)\" d=\"M2047.77 142.393 Q2047.05 141.977 2046.2 141.791 Q2045.36 141.583 2044.35 141.583 Q2040.73 141.583 2038.79 143.944 Q2036.87 146.282 2036.87 150.68 L2036.87 164.338 L2032.59 164.338 L2032.59 138.412 L2036.87 138.412 L2036.87 142.44 Q2038.21 140.078 2040.36 138.944 Q2042.52 137.787 2045.6 137.787 Q2046.03 137.787 2046.57 137.856 Q2047.1 137.903 2047.75 138.018 L2047.77 142.393 Z\" fill=\"#000000\" fill-rule=\"evenodd\" fill-opacity=\"1\" /><path clip-path=\"url(#clip080)\" d=\"M2073.37 150.31 L2073.37 152.393 L2053.79 152.393 Q2054.07 156.791 2056.43 159.106 Q2058.81 161.398 2063.05 161.398 Q2065.5 161.398 2067.79 160.796 Q2070.11 160.194 2072.38 158.99 L2072.38 163.018 Q2070.09 163.99 2067.68 164.5 Q2065.27 165.009 2062.79 165.009 Q2056.59 165.009 2052.96 161.398 Q2049.35 157.787 2049.35 151.629 Q2049.35 145.264 2052.77 141.537 Q2056.22 137.787 2062.05 137.787 Q2067.28 137.787 2070.32 141.166 Q2073.37 144.523 2073.37 150.31 M2069.11 149.06 Q2069.07 145.565 2067.15 143.481 Q2065.25 141.398 2062.1 141.398 Q2058.53 141.398 2056.38 143.412 Q2054.25 145.426 2053.93 149.083 L2069.11 149.06 Z\" fill=\"#000000\" fill-rule=\"evenodd\" fill-opacity=\"1\" /><path clip-path=\"url(#clip080)\" d=\"M2084.58 131.051 L2084.58 138.412 L2093.35 138.412 L2093.35 141.722 L2084.58 141.722 L2084.58 155.796 Q2084.58 158.967 2085.43 159.87 Q2086.31 160.773 2088.97 160.773 L2093.35 160.773 L2093.35 164.338 L2088.97 164.338 Q2084.04 164.338 2082.17 162.509 Q2080.29 160.657 2080.29 155.796 L2080.29 141.722 L2077.17 141.722 L2077.17 138.412 L2080.29 138.412 L2080.29 131.051 L2084.58 131.051 Z\" fill=\"#000000\" fill-rule=\"evenodd\" fill-opacity=\"1\" /><path clip-path=\"url(#clip080)\" d=\"M2109.74 166.745 Q2107.93 171.375 2106.22 172.787 Q2104.51 174.199 2101.64 174.199 L2098.23 174.199 L2098.23 170.634 L2100.73 170.634 Q2102.49 170.634 2103.47 169.8 Q2104.44 168.967 2105.62 165.865 L2106.38 163.921 L2095.9 138.412 L2100.41 138.412 L2108.51 158.689 L2116.61 138.412 L2121.13 138.412 L2109.74 166.745 Z\" fill=\"#000000\" fill-rule=\"evenodd\" fill-opacity=\"1\" /><path clip-path=\"url(#clip080)\" d=\"M2145.66 139.407 L2145.66 143.389 Q2143.86 142.393 2142.03 141.907 Q2140.22 141.398 2138.37 141.398 Q2134.23 141.398 2131.94 144.037 Q2129.65 146.652 2129.65 151.398 Q2129.65 156.143 2131.94 158.782 Q2134.23 161.398 2138.37 161.398 Q2140.22 161.398 2142.03 160.912 Q2143.86 160.402 2145.66 159.407 L2145.66 163.342 Q2143.88 164.176 2141.96 164.592 Q2140.06 165.009 2137.91 165.009 Q2132.05 165.009 2128.6 161.328 Q2125.15 157.648 2125.15 151.398 Q2125.15 145.055 2128.63 141.421 Q2132.12 137.787 2138.19 137.787 Q2140.15 137.787 2142.03 138.203 Q2143.9 138.597 2145.66 139.407 Z\" fill=\"#000000\" fill-rule=\"evenodd\" fill-opacity=\"1\" /><path clip-path=\"url(#clip080)\" d=\"M2151.22 138.412 L2171.45 138.412 L2171.45 142.301 L2155.43 160.935 L2171.45 160.935 L2171.45 164.338 L2150.64 164.338 L2150.64 160.449 L2166.66 141.815 L2151.22 141.815 L2151.22 138.412 Z\" fill=\"#000000\" fill-rule=\"evenodd\" fill-opacity=\"1\" /><path clip-path=\"url(#clip080)\" d=\"M2199.51 148.689 L2199.51 164.338 L2195.25 164.338 L2195.25 148.828 Q2195.25 145.148 2193.81 143.319 Q2192.38 141.49 2189.51 141.49 Q2186.06 141.49 2184.07 143.69 Q2182.08 145.889 2182.08 149.685 L2182.08 164.338 L2177.79 164.338 L2177.79 138.412 L2182.08 138.412 L2182.08 142.44 Q2183.6 140.102 2185.66 138.944 Q2187.75 137.787 2190.46 137.787 Q2194.92 137.787 2197.21 140.565 Q2199.51 143.319 2199.51 148.689 Z\" fill=\"#000000\" fill-rule=\"evenodd\" fill-opacity=\"1\" /><path clip-path=\"url(#clip080)\" d=\"M2219.78 151.305 Q2214.62 151.305 2212.63 152.486 Q2210.64 153.666 2210.64 156.514 Q2210.64 158.782 2212.12 160.125 Q2213.63 161.444 2216.2 161.444 Q2219.74 161.444 2221.87 158.944 Q2224.02 156.421 2224.02 152.254 L2224.02 151.305 L2219.78 151.305 M2228.28 149.546 L2228.28 164.338 L2224.02 164.338 L2224.02 160.402 Q2222.56 162.763 2220.39 163.898 Q2218.21 165.009 2215.06 165.009 Q2211.08 165.009 2208.72 162.787 Q2206.38 160.541 2206.38 156.791 Q2206.38 152.416 2209.3 150.194 Q2212.24 147.972 2218.05 147.972 L2224.02 147.972 L2224.02 147.555 Q2224.02 144.615 2222.08 143.018 Q2220.15 141.398 2216.66 141.398 Q2214.44 141.398 2212.33 141.93 Q2210.22 142.463 2208.28 143.527 L2208.28 139.592 Q2210.62 138.69 2212.82 138.25 Q2215.02 137.787 2217.1 137.787 Q2222.72 137.787 2225.5 140.703 Q2228.28 143.62 2228.28 149.546 Z\" fill=\"#000000\" fill-rule=\"evenodd\" fill-opacity=\"1\" /><circle clip-path=\"url(#clip080)\" cx=\"1849.49\" cy=\"198.898\" r=\"23\" fill=\"#e26f46\" fill-rule=\"evenodd\" fill-opacity=\"1\" stroke=\"#000000\" stroke-opacity=\"1\" stroke-width=\"5.12\"/>\n",
       "<path clip-path=\"url(#clip080)\" d=\"M1949.07 181.618 L1955.36 181.618 L1970.69 210.529 L1970.69 181.618 L1975.23 181.618 L1975.23 216.178 L1968.93 216.178 L1953.6 187.266 L1953.6 216.178 L1949.07 216.178 L1949.07 181.618 Z\" fill=\"#000000\" fill-rule=\"evenodd\" fill-opacity=\"1\" /><path clip-path=\"url(#clip080)\" d=\"M1984.9 194.65 L2014.58 194.65 L2014.58 198.539 L1984.9 198.539 L1984.9 194.65 M1984.9 204.094 L2014.58 204.094 L2014.58 208.029 L1984.9 208.029 L1984.9 204.094 Z\" fill=\"#000000\" fill-rule=\"evenodd\" fill-opacity=\"1\" /><path clip-path=\"url(#clip080)\" d=\"M2024.72 181.618 L2043.07 181.618 L2043.07 185.553 L2029 185.553 L2029 194.025 Q2030.02 193.678 2031.03 193.516 Q2032.05 193.33 2033.07 193.33 Q2038.86 193.33 2042.24 196.502 Q2045.62 199.673 2045.62 205.09 Q2045.62 210.668 2042.15 213.77 Q2038.67 216.849 2032.35 216.849 Q2030.18 216.849 2027.91 216.478 Q2025.66 216.108 2023.26 215.367 L2023.26 210.668 Q2025.34 211.803 2027.56 212.358 Q2029.79 212.914 2032.26 212.914 Q2036.27 212.914 2038.6 210.807 Q2040.94 208.701 2040.94 205.09 Q2040.94 201.479 2038.6 199.372 Q2036.27 197.266 2032.26 197.266 Q2030.39 197.266 2028.51 197.682 Q2026.66 198.099 2024.72 198.979 L2024.72 181.618 Z\" fill=\"#000000\" fill-rule=\"evenodd\" fill-opacity=\"1\" /><path clip-path=\"url(#clip080)\" d=\"M2064.83 184.696 Q2061.22 184.696 2059.39 188.261 Q2057.59 191.803 2057.59 198.932 Q2057.59 206.039 2059.39 209.604 Q2061.22 213.145 2064.83 213.145 Q2068.47 213.145 2070.27 209.604 Q2072.1 206.039 2072.1 198.932 Q2072.1 191.803 2070.27 188.261 Q2068.47 184.696 2064.83 184.696 M2064.83 180.993 Q2070.64 180.993 2073.7 185.599 Q2076.78 190.182 2076.78 198.932 Q2076.78 207.659 2073.7 212.266 Q2070.64 216.849 2064.83 216.849 Q2059.02 216.849 2055.94 212.266 Q2052.89 207.659 2052.89 198.932 Q2052.89 190.182 2055.94 185.599 Q2059.02 180.993 2064.83 180.993 Z\" fill=\"#000000\" fill-rule=\"evenodd\" fill-opacity=\"1\" /><path clip-path=\"url(#clip080)\" d=\"M2084.99 210.298 L2089.88 210.298 L2089.88 216.178 L2084.99 216.178 L2084.99 210.298 Z\" fill=\"#000000\" fill-rule=\"evenodd\" fill-opacity=\"1\" /><path clip-path=\"url(#clip080)\" d=\"M2110.06 184.696 Q2106.45 184.696 2104.62 188.261 Q2102.82 191.803 2102.82 198.932 Q2102.82 206.039 2104.62 209.604 Q2106.45 213.145 2110.06 213.145 Q2113.7 213.145 2115.5 209.604 Q2117.33 206.039 2117.33 198.932 Q2117.33 191.803 2115.5 188.261 Q2113.7 184.696 2110.06 184.696 M2110.06 180.993 Q2115.87 180.993 2118.93 185.599 Q2122.01 190.182 2122.01 198.932 Q2122.01 207.659 2118.93 212.266 Q2115.87 216.849 2110.06 216.849 Q2104.25 216.849 2101.17 212.266 Q2098.12 207.659 2098.12 198.932 Q2098.12 190.182 2101.17 185.599 Q2104.25 180.993 2110.06 180.993 Z\" fill=\"#000000\" fill-rule=\"evenodd\" fill-opacity=\"1\" /><circle clip-path=\"url(#clip080)\" cx=\"1849.49\" cy=\"250.738\" r=\"23\" fill=\"#3da44d\" fill-rule=\"evenodd\" fill-opacity=\"1\" stroke=\"#000000\" stroke-opacity=\"1\" stroke-width=\"5.12\"/>\n",
       "<path clip-path=\"url(#clip080)\" d=\"M1949.07 233.458 L1955.36 233.458 L1970.69 262.369 L1970.69 233.458 L1975.23 233.458 L1975.23 268.018 L1968.93 268.018 L1953.6 239.106 L1953.6 268.018 L1949.07 268.018 L1949.07 233.458 Z\" fill=\"#000000\" fill-rule=\"evenodd\" fill-opacity=\"1\" /><path clip-path=\"url(#clip080)\" d=\"M1984.9 246.49 L2014.58 246.49 L2014.58 250.379 L1984.9 250.379 L1984.9 246.49 M1984.9 255.934 L2014.58 255.934 L2014.58 259.869 L1984.9 259.869 L1984.9 255.934 Z\" fill=\"#000000\" fill-rule=\"evenodd\" fill-opacity=\"1\" /><path clip-path=\"url(#clip080)\" d=\"M2025.48 264.082 L2033.12 264.082 L2033.12 237.717 L2024.81 239.383 L2024.81 235.124 L2033.07 233.458 L2037.75 233.458 L2037.75 264.082 L2045.39 264.082 L2045.39 268.018 L2025.48 268.018 L2025.48 264.082 Z\" fill=\"#000000\" fill-rule=\"evenodd\" fill-opacity=\"1\" /><path clip-path=\"url(#clip080)\" d=\"M2064.83 236.536 Q2061.22 236.536 2059.39 240.101 Q2057.59 243.643 2057.59 250.772 Q2057.59 257.879 2059.39 261.444 Q2061.22 264.985 2064.83 264.985 Q2068.47 264.985 2070.27 261.444 Q2072.1 257.879 2072.1 250.772 Q2072.1 243.643 2070.27 240.101 Q2068.47 236.536 2064.83 236.536 M2064.83 232.833 Q2070.64 232.833 2073.7 237.439 Q2076.78 242.022 2076.78 250.772 Q2076.78 259.499 2073.7 264.106 Q2070.64 268.689 2064.83 268.689 Q2059.02 268.689 2055.94 264.106 Q2052.89 259.499 2052.89 250.772 Q2052.89 242.022 2055.94 237.439 Q2059.02 232.833 2064.83 232.833 Z\" fill=\"#000000\" fill-rule=\"evenodd\" fill-opacity=\"1\" /><path clip-path=\"url(#clip080)\" d=\"M2094.99 236.536 Q2091.38 236.536 2089.55 240.101 Q2087.75 243.643 2087.75 250.772 Q2087.75 257.879 2089.55 261.444 Q2091.38 264.985 2094.99 264.985 Q2098.63 264.985 2100.43 261.444 Q2102.26 257.879 2102.26 250.772 Q2102.26 243.643 2100.43 240.101 Q2098.63 236.536 2094.99 236.536 M2094.99 232.833 Q2100.8 232.833 2103.86 237.439 Q2106.94 242.022 2106.94 250.772 Q2106.94 259.499 2103.86 264.106 Q2100.8 268.689 2094.99 268.689 Q2089.18 268.689 2086.1 264.106 Q2083.05 259.499 2083.05 250.772 Q2083.05 242.022 2086.1 237.439 Q2089.18 232.833 2094.99 232.833 Z\" fill=\"#000000\" fill-rule=\"evenodd\" fill-opacity=\"1\" /><path clip-path=\"url(#clip080)\" d=\"M2115.15 262.138 L2120.04 262.138 L2120.04 268.018 L2115.15 268.018 L2115.15 262.138 Z\" fill=\"#000000\" fill-rule=\"evenodd\" fill-opacity=\"1\" /><path clip-path=\"url(#clip080)\" d=\"M2140.22 236.536 Q2136.61 236.536 2134.78 240.101 Q2132.98 243.643 2132.98 250.772 Q2132.98 257.879 2134.78 261.444 Q2136.61 264.985 2140.22 264.985 Q2143.86 264.985 2145.66 261.444 Q2147.49 257.879 2147.49 250.772 Q2147.49 243.643 2145.66 240.101 Q2143.86 236.536 2140.22 236.536 M2140.22 232.833 Q2146.03 232.833 2149.09 237.439 Q2152.17 242.022 2152.17 250.772 Q2152.17 259.499 2149.09 264.106 Q2146.03 268.689 2140.22 268.689 Q2134.41 268.689 2131.34 264.106 Q2128.28 259.499 2128.28 250.772 Q2128.28 242.022 2131.34 237.439 Q2134.41 232.833 2140.22 232.833 Z\" fill=\"#000000\" fill-rule=\"evenodd\" fill-opacity=\"1\" /><circle clip-path=\"url(#clip080)\" cx=\"1849.49\" cy=\"302.578\" r=\"23\" fill=\"#c271d2\" fill-rule=\"evenodd\" fill-opacity=\"1\" stroke=\"#000000\" stroke-opacity=\"1\" stroke-width=\"5.12\"/>\n",
       "<path clip-path=\"url(#clip080)\" d=\"M1949.07 285.298 L1955.36 285.298 L1970.69 314.209 L1970.69 285.298 L1975.23 285.298 L1975.23 319.858 L1968.93 319.858 L1953.6 290.946 L1953.6 319.858 L1949.07 319.858 L1949.07 285.298 Z\" fill=\"#000000\" fill-rule=\"evenodd\" fill-opacity=\"1\" /><path clip-path=\"url(#clip080)\" d=\"M1984.9 298.33 L2014.58 298.33 L2014.58 302.219 L1984.9 302.219 L1984.9 298.33 M1984.9 307.774 L2014.58 307.774 L2014.58 311.709 L1984.9 311.709 L1984.9 307.774 Z\" fill=\"#000000\" fill-rule=\"evenodd\" fill-opacity=\"1\" /><path clip-path=\"url(#clip080)\" d=\"M2025.48 315.922 L2033.12 315.922 L2033.12 289.557 L2024.81 291.223 L2024.81 286.964 L2033.07 285.298 L2037.75 285.298 L2037.75 315.922 L2045.39 315.922 L2045.39 319.858 L2025.48 319.858 L2025.48 315.922 Z\" fill=\"#000000\" fill-rule=\"evenodd\" fill-opacity=\"1\" /><path clip-path=\"url(#clip080)\" d=\"M2064.83 288.376 Q2061.22 288.376 2059.39 291.941 Q2057.59 295.483 2057.59 302.612 Q2057.59 309.719 2059.39 313.284 Q2061.22 316.825 2064.83 316.825 Q2068.47 316.825 2070.27 313.284 Q2072.1 309.719 2072.1 302.612 Q2072.1 295.483 2070.27 291.941 Q2068.47 288.376 2064.83 288.376 M2064.83 284.673 Q2070.64 284.673 2073.7 289.279 Q2076.78 293.862 2076.78 302.612 Q2076.78 311.339 2073.7 315.946 Q2070.64 320.529 2064.83 320.529 Q2059.02 320.529 2055.94 315.946 Q2052.89 311.339 2052.89 302.612 Q2052.89 293.862 2055.94 289.279 Q2059.02 284.673 2064.83 284.673 Z\" fill=\"#000000\" fill-rule=\"evenodd\" fill-opacity=\"1\" /><path clip-path=\"url(#clip080)\" d=\"M2094.99 288.376 Q2091.38 288.376 2089.55 291.941 Q2087.75 295.483 2087.75 302.612 Q2087.75 309.719 2089.55 313.284 Q2091.38 316.825 2094.99 316.825 Q2098.63 316.825 2100.43 313.284 Q2102.26 309.719 2102.26 302.612 Q2102.26 295.483 2100.43 291.941 Q2098.63 288.376 2094.99 288.376 M2094.99 284.673 Q2100.8 284.673 2103.86 289.279 Q2106.94 293.862 2106.94 302.612 Q2106.94 311.339 2103.86 315.946 Q2100.8 320.529 2094.99 320.529 Q2089.18 320.529 2086.1 315.946 Q2083.05 311.339 2083.05 302.612 Q2083.05 293.862 2086.1 289.279 Q2089.18 284.673 2094.99 284.673 Z\" fill=\"#000000\" fill-rule=\"evenodd\" fill-opacity=\"1\" /><path clip-path=\"url(#clip080)\" d=\"M2125.15 288.376 Q2121.54 288.376 2119.72 291.941 Q2117.91 295.483 2117.91 302.612 Q2117.91 309.719 2119.72 313.284 Q2121.54 316.825 2125.15 316.825 Q2128.79 316.825 2130.59 313.284 Q2132.42 309.719 2132.42 302.612 Q2132.42 295.483 2130.59 291.941 Q2128.79 288.376 2125.15 288.376 M2125.15 284.673 Q2130.97 284.673 2134.02 289.279 Q2137.1 293.862 2137.1 302.612 Q2137.1 311.339 2134.02 315.946 Q2130.97 320.529 2125.15 320.529 Q2119.34 320.529 2116.27 315.946 Q2113.21 311.339 2113.21 302.612 Q2113.21 293.862 2116.27 289.279 Q2119.34 284.673 2125.15 284.673 Z\" fill=\"#000000\" fill-rule=\"evenodd\" fill-opacity=\"1\" /><path clip-path=\"url(#clip080)\" d=\"M2145.32 313.978 L2150.2 313.978 L2150.2 319.858 L2145.32 319.858 L2145.32 313.978 Z\" fill=\"#000000\" fill-rule=\"evenodd\" fill-opacity=\"1\" /><path clip-path=\"url(#clip080)\" d=\"M2170.39 288.376 Q2166.78 288.376 2164.95 291.941 Q2163.14 295.483 2163.14 302.612 Q2163.14 309.719 2164.95 313.284 Q2166.78 316.825 2170.39 316.825 Q2174.02 316.825 2175.83 313.284 Q2177.65 309.719 2177.65 302.612 Q2177.65 295.483 2175.83 291.941 Q2174.02 288.376 2170.39 288.376 M2170.39 284.673 Q2176.2 284.673 2179.25 289.279 Q2182.33 293.862 2182.33 302.612 Q2182.33 311.339 2179.25 315.946 Q2176.2 320.529 2170.39 320.529 Q2164.58 320.529 2161.5 315.946 Q2158.44 311.339 2158.44 302.612 Q2158.44 293.862 2161.5 289.279 Q2164.58 284.673 2170.39 284.673 Z\" fill=\"#000000\" fill-rule=\"evenodd\" fill-opacity=\"1\" /></svg>\n"
      ]
     },
     "execution_count": 76,
     "metadata": {},
     "output_type": "execute_result"
    }
   ],
   "source": [
    "scatter(-5:5,[0,0,0,0,0,4,0,0,0,0,0],shape=:star,markersize=10, label=\"Teoretyczna\")\n",
    "for i in 1:3\n",
    "    scatter!(-5:5,γ[i],label=\"N=$(Ns[i])\")\n",
    "end\n",
    "scatter!(framestyle=:origin)"
   ]
  },
  {
   "cell_type": "code",
   "execution_count": 77,
   "metadata": {},
   "outputs": [
    {
     "data": {
      "image/svg+xml": [
       "<?xml version=\"1.0\" encoding=\"utf-8\"?>\n",
       "<svg xmlns=\"http://www.w3.org/2000/svg\" xmlns:xlink=\"http://www.w3.org/1999/xlink\" width=\"600\" height=\"400\" viewBox=\"0 0 2400 1600\">\n",
       "<defs>\n",
       "  <clipPath id=\"clip120\">\n",
       "    <rect x=\"0\" y=\"0\" width=\"2400\" height=\"1600\"/>\n",
       "  </clipPath>\n",
       "</defs>\n",
       "<path clip-path=\"url(#clip120)\" d=\"\n",
       "M0 1600 L2400 1600 L2400 0 L0 0  Z\n",
       "  \" fill=\"#ffffff\" fill-rule=\"evenodd\" fill-opacity=\"1\"/>\n",
       "<defs>\n",
       "  <clipPath id=\"clip121\">\n",
       "    <rect x=\"480\" y=\"0\" width=\"1681\" height=\"1600\"/>\n",
       "  </clipPath>\n",
       "</defs>\n",
       "<path clip-path=\"url(#clip120)\" d=\"\n",
       "M186.274 1486.45 L2352.76 1486.45 L2352.76 47.2441 L186.274 47.2441  Z\n",
       "  \" fill=\"#ffffff\" fill-rule=\"evenodd\" fill-opacity=\"1\"/>\n",
       "<defs>\n",
       "  <clipPath id=\"clip122\">\n",
       "    <rect x=\"186\" y=\"47\" width=\"2167\" height=\"1440\"/>\n",
       "  </clipPath>\n",
       "</defs>\n",
       "<polyline clip-path=\"url(#clip122)\" style=\"stroke:#000000; stroke-linecap:butt; stroke-linejoin:round; stroke-width:2; stroke-opacity:0.1; fill:none\" points=\"\n",
       "  451.975,1486.45 451.975,47.2441 \n",
       "  \"/>\n",
       "<polyline clip-path=\"url(#clip122)\" style=\"stroke:#000000; stroke-linecap:butt; stroke-linejoin:round; stroke-width:2; stroke-opacity:0.1; fill:none\" points=\"\n",
       "  860.745,1486.45 860.745,47.2441 \n",
       "  \"/>\n",
       "<polyline clip-path=\"url(#clip122)\" style=\"stroke:#000000; stroke-linecap:butt; stroke-linejoin:round; stroke-width:2; stroke-opacity:0.1; fill:none\" points=\"\n",
       "  1678.29,1486.45 1678.29,47.2441 \n",
       "  \"/>\n",
       "<polyline clip-path=\"url(#clip122)\" style=\"stroke:#000000; stroke-linecap:butt; stroke-linejoin:round; stroke-width:2; stroke-opacity:0.1; fill:none\" points=\"\n",
       "  2087.06,1486.45 2087.06,47.2441 \n",
       "  \"/>\n",
       "<polyline clip-path=\"url(#clip120)\" style=\"stroke:#000000; stroke-linecap:butt; stroke-linejoin:round; stroke-width:4; stroke-opacity:1; fill:none\" points=\"\n",
       "  186.274,1252.79 2352.76,1252.79 \n",
       "  \"/>\n",
       "<polyline clip-path=\"url(#clip120)\" style=\"stroke:#000000; stroke-linecap:butt; stroke-linejoin:round; stroke-width:4; stroke-opacity:1; fill:none\" points=\"\n",
       "  451.975,1271.69 451.975,1233.9 \n",
       "  \"/>\n",
       "<polyline clip-path=\"url(#clip120)\" style=\"stroke:#000000; stroke-linecap:butt; stroke-linejoin:round; stroke-width:4; stroke-opacity:1; fill:none\" points=\"\n",
       "  860.745,1271.69 860.745,1233.9 \n",
       "  \"/>\n",
       "<polyline clip-path=\"url(#clip120)\" style=\"stroke:#000000; stroke-linecap:butt; stroke-linejoin:round; stroke-width:4; stroke-opacity:1; fill:none\" points=\"\n",
       "  1678.29,1271.69 1678.29,1233.9 \n",
       "  \"/>\n",
       "<polyline clip-path=\"url(#clip120)\" style=\"stroke:#000000; stroke-linecap:butt; stroke-linejoin:round; stroke-width:4; stroke-opacity:1; fill:none\" points=\"\n",
       "  2087.06,1271.69 2087.06,1233.9 \n",
       "  \"/>\n",
       "<path clip-path=\"url(#clip120)\" d=\"M420.875 1298.36 L450.551 1298.36 L450.551 1302.3 L420.875 1302.3 L420.875 1298.36 Z\" fill=\"#000000\" fill-rule=\"evenodd\" fill-opacity=\"1\" /><path clip-path=\"url(#clip120)\" d=\"M473.491 1284.71 L461.685 1303.16 L473.491 1303.16 L473.491 1284.71 M472.264 1280.63 L478.143 1280.63 L478.143 1303.16 L483.074 1303.16 L483.074 1307.04 L478.143 1307.04 L478.143 1315.19 L473.491 1315.19 L473.491 1307.04 L457.889 1307.04 L457.889 1302.53 L472.264 1280.63 Z\" fill=\"#000000\" fill-rule=\"evenodd\" fill-opacity=\"1\" /><path clip-path=\"url(#clip120)\" d=\"M830.687 1298.36 L860.363 1298.36 L860.363 1302.3 L830.687 1302.3 L830.687 1298.36 Z\" fill=\"#000000\" fill-rule=\"evenodd\" fill-opacity=\"1\" /><path clip-path=\"url(#clip120)\" d=\"M874.483 1311.26 L890.802 1311.26 L890.802 1315.19 L868.858 1315.19 L868.858 1311.26 Q871.52 1308.5 876.103 1303.87 Q880.71 1299.22 881.891 1297.88 Q884.136 1295.36 885.015 1293.62 Q885.918 1291.86 885.918 1290.17 Q885.918 1287.42 883.974 1285.68 Q882.053 1283.94 878.951 1283.94 Q876.752 1283.94 874.298 1284.71 Q871.867 1285.47 869.09 1287.02 L869.09 1282.3 Q871.914 1281.17 874.367 1280.59 Q876.821 1280.01 878.858 1280.01 Q884.228 1280.01 887.423 1282.69 Q890.617 1285.38 890.617 1289.87 Q890.617 1292 889.807 1293.92 Q889.02 1295.82 886.914 1298.41 Q886.335 1299.08 883.233 1302.3 Q880.131 1305.49 874.483 1311.26 Z\" fill=\"#000000\" fill-rule=\"evenodd\" fill-opacity=\"1\" /><path clip-path=\"url(#clip120)\" d=\"M1672.94 1311.26 L1689.26 1311.26 L1689.26 1315.19 L1667.31 1315.19 L1667.31 1311.26 Q1669.97 1308.5 1674.56 1303.87 Q1679.16 1299.22 1680.35 1297.88 Q1682.59 1295.36 1683.47 1293.62 Q1684.37 1291.86 1684.37 1290.17 Q1684.37 1287.42 1682.43 1285.68 Q1680.51 1283.94 1677.41 1283.94 Q1675.21 1283.94 1672.75 1284.71 Q1670.32 1285.47 1667.54 1287.02 L1667.54 1282.3 Q1670.37 1281.17 1672.82 1280.59 Q1675.28 1280.01 1677.31 1280.01 Q1682.68 1280.01 1685.88 1282.69 Q1689.07 1285.38 1689.07 1289.87 Q1689.07 1292 1688.26 1293.92 Q1687.47 1295.82 1685.37 1298.41 Q1684.79 1299.08 1681.69 1302.3 Q1678.59 1305.49 1672.94 1311.26 Z\" fill=\"#000000\" fill-rule=\"evenodd\" fill-opacity=\"1\" /><path clip-path=\"url(#clip120)\" d=\"M2090.06 1284.71 L2078.26 1303.16 L2090.06 1303.16 L2090.06 1284.71 M2088.84 1280.63 L2094.72 1280.63 L2094.72 1303.16 L2099.65 1303.16 L2099.65 1307.04 L2094.72 1307.04 L2094.72 1315.19 L2090.06 1315.19 L2090.06 1307.04 L2074.46 1307.04 L2074.46 1302.53 L2088.84 1280.63 Z\" fill=\"#000000\" fill-rule=\"evenodd\" fill-opacity=\"1\" /><polyline clip-path=\"url(#clip122)\" style=\"stroke:#000000; stroke-linecap:butt; stroke-linejoin:round; stroke-width:2; stroke-opacity:0.1; fill:none\" points=\"\n",
       "  186.274,961.589 2352.76,961.589 \n",
       "  \"/>\n",
       "<polyline clip-path=\"url(#clip122)\" style=\"stroke:#000000; stroke-linecap:butt; stroke-linejoin:round; stroke-width:2; stroke-opacity:0.1; fill:none\" points=\"\n",
       "  186.274,670.385 2352.76,670.385 \n",
       "  \"/>\n",
       "<polyline clip-path=\"url(#clip122)\" style=\"stroke:#000000; stroke-linecap:butt; stroke-linejoin:round; stroke-width:2; stroke-opacity:0.1; fill:none\" points=\"\n",
       "  186.274,379.18 2352.76,379.18 \n",
       "  \"/>\n",
       "<polyline clip-path=\"url(#clip122)\" style=\"stroke:#000000; stroke-linecap:butt; stroke-linejoin:round; stroke-width:2; stroke-opacity:0.1; fill:none\" points=\"\n",
       "  186.274,87.9763 2352.76,87.9763 \n",
       "  \"/>\n",
       "<polyline clip-path=\"url(#clip120)\" style=\"stroke:#000000; stroke-linecap:butt; stroke-linejoin:round; stroke-width:4; stroke-opacity:1; fill:none\" points=\"\n",
       "  1269.51,1486.45 1269.51,47.2441 \n",
       "  \"/>\n",
       "<polyline clip-path=\"url(#clip120)\" style=\"stroke:#000000; stroke-linecap:butt; stroke-linejoin:round; stroke-width:4; stroke-opacity:1; fill:none\" points=\"\n",
       "  1250.62,961.589 1288.41,961.589 \n",
       "  \"/>\n",
       "<polyline clip-path=\"url(#clip120)\" style=\"stroke:#000000; stroke-linecap:butt; stroke-linejoin:round; stroke-width:4; stroke-opacity:1; fill:none\" points=\"\n",
       "  1250.62,670.385 1288.41,670.385 \n",
       "  \"/>\n",
       "<polyline clip-path=\"url(#clip120)\" style=\"stroke:#000000; stroke-linecap:butt; stroke-linejoin:round; stroke-width:4; stroke-opacity:1; fill:none\" points=\"\n",
       "  1250.62,379.18 1288.41,379.18 \n",
       "  \"/>\n",
       "<polyline clip-path=\"url(#clip120)\" style=\"stroke:#000000; stroke-linecap:butt; stroke-linejoin:round; stroke-width:4; stroke-opacity:1; fill:none\" points=\"\n",
       "  1250.62,87.9763 1288.41,87.9763 \n",
       "  \"/>\n",
       "<path clip-path=\"url(#clip120)\" d=\"M1147.17 947.387 Q1143.56 947.387 1141.73 950.952 Q1139.93 954.494 1139.93 961.623 Q1139.93 968.73 1141.73 972.295 Q1143.56 975.836 1147.17 975.836 Q1150.81 975.836 1152.61 972.295 Q1154.44 968.73 1154.44 961.623 Q1154.44 954.494 1152.61 950.952 Q1150.81 947.387 1147.17 947.387 M1147.17 943.684 Q1152.98 943.684 1156.04 948.29 Q1159.12 952.873 1159.12 961.623 Q1159.12 970.35 1156.04 974.957 Q1152.98 979.54 1147.17 979.54 Q1141.36 979.54 1138.28 974.957 Q1135.23 970.35 1135.23 961.623 Q1135.23 952.873 1138.28 948.29 Q1141.36 943.684 1147.17 943.684 Z\" fill=\"#000000\" fill-rule=\"evenodd\" fill-opacity=\"1\" /><path clip-path=\"url(#clip120)\" d=\"M1167.33 972.989 L1172.22 972.989 L1172.22 978.869 L1167.33 978.869 L1167.33 972.989 Z\" fill=\"#000000\" fill-rule=\"evenodd\" fill-opacity=\"1\" /><path clip-path=\"url(#clip120)\" d=\"M1186.43 974.934 L1202.75 974.934 L1202.75 978.869 L1180.81 978.869 L1180.81 974.934 Q1183.47 972.179 1188.05 967.549 Q1192.66 962.897 1193.84 961.554 Q1196.08 959.031 1196.96 957.295 Q1197.87 955.536 1197.87 953.846 Q1197.87 951.091 1195.92 949.355 Q1194 947.619 1190.9 947.619 Q1188.7 947.619 1186.25 948.383 Q1183.82 949.147 1181.04 950.698 L1181.04 945.975 Q1183.86 944.841 1186.32 944.262 Q1188.77 943.684 1190.81 943.684 Q1196.18 943.684 1199.37 946.369 Q1202.57 949.054 1202.57 953.545 Q1202.57 955.674 1201.76 957.596 Q1200.97 959.494 1198.86 962.086 Q1198.28 962.758 1195.18 965.975 Q1192.08 969.17 1186.43 974.934 Z\" fill=\"#000000\" fill-rule=\"evenodd\" fill-opacity=\"1\" /><path clip-path=\"url(#clip120)\" d=\"M1212.61 944.309 L1230.97 944.309 L1230.97 948.244 L1216.89 948.244 L1216.89 956.716 Q1217.91 956.369 1218.93 956.207 Q1219.95 956.022 1220.97 956.022 Q1226.76 956.022 1230.14 959.193 Q1233.51 962.364 1233.51 967.781 Q1233.51 973.359 1230.04 976.461 Q1226.57 979.54 1220.25 979.54 Q1218.08 979.54 1215.81 979.17 Q1213.56 978.799 1211.15 978.059 L1211.15 973.359 Q1213.24 974.494 1215.46 975.049 Q1217.68 975.605 1220.16 975.605 Q1224.16 975.605 1226.5 973.498 Q1228.84 971.392 1228.84 967.781 Q1228.84 964.17 1226.5 962.063 Q1224.16 959.957 1220.16 959.957 Q1218.28 959.957 1216.41 960.373 Q1214.56 960.79 1212.61 961.67 L1212.61 944.309 Z\" fill=\"#000000\" fill-rule=\"evenodd\" fill-opacity=\"1\" /><path clip-path=\"url(#clip120)\" d=\"M1146.18 656.183 Q1142.57 656.183 1140.74 659.748 Q1138.93 663.29 1138.93 670.419 Q1138.93 677.526 1140.74 681.091 Q1142.57 684.632 1146.18 684.632 Q1149.81 684.632 1151.62 681.091 Q1153.45 677.526 1153.45 670.419 Q1153.45 663.29 1151.62 659.748 Q1149.81 656.183 1146.18 656.183 M1146.18 652.48 Q1151.99 652.48 1155.04 657.086 Q1158.12 661.669 1158.12 670.419 Q1158.12 679.146 1155.04 683.753 Q1151.99 688.336 1146.18 688.336 Q1140.37 688.336 1137.29 683.753 Q1134.23 679.146 1134.23 670.419 Q1134.23 661.669 1137.29 657.086 Q1140.37 652.48 1146.18 652.48 Z\" fill=\"#000000\" fill-rule=\"evenodd\" fill-opacity=\"1\" /><path clip-path=\"url(#clip120)\" d=\"M1166.34 681.785 L1171.22 681.785 L1171.22 687.665 L1166.34 687.665 L1166.34 681.785 Z\" fill=\"#000000\" fill-rule=\"evenodd\" fill-opacity=\"1\" /><path clip-path=\"url(#clip120)\" d=\"M1181.46 653.105 L1199.81 653.105 L1199.81 657.04 L1185.74 657.04 L1185.74 665.512 Q1186.76 665.165 1187.77 665.003 Q1188.79 664.817 1189.81 664.817 Q1195.6 664.817 1198.98 667.989 Q1202.36 671.16 1202.36 676.577 Q1202.36 682.155 1198.89 685.257 Q1195.41 688.336 1189.09 688.336 Q1186.92 688.336 1184.65 687.965 Q1182.4 687.595 1180 686.854 L1180 682.155 Q1182.08 683.29 1184.3 683.845 Q1186.52 684.401 1189 684.401 Q1193.01 684.401 1195.34 682.294 Q1197.68 680.188 1197.68 676.577 Q1197.68 672.966 1195.34 670.859 Q1193.01 668.753 1189 668.753 Q1187.13 668.753 1185.25 669.169 Q1183.4 669.586 1181.46 670.466 L1181.46 653.105 Z\" fill=\"#000000\" fill-rule=\"evenodd\" fill-opacity=\"1\" /><path clip-path=\"url(#clip120)\" d=\"M1221.57 656.183 Q1217.96 656.183 1216.13 659.748 Q1214.33 663.29 1214.33 670.419 Q1214.33 677.526 1216.13 681.091 Q1217.96 684.632 1221.57 684.632 Q1225.2 684.632 1227.01 681.091 Q1228.84 677.526 1228.84 670.419 Q1228.84 663.29 1227.01 659.748 Q1225.2 656.183 1221.57 656.183 M1221.57 652.48 Q1227.38 652.48 1230.44 657.086 Q1233.51 661.669 1233.51 670.419 Q1233.51 679.146 1230.44 683.753 Q1227.38 688.336 1221.57 688.336 Q1215.76 688.336 1212.68 683.753 Q1209.63 679.146 1209.63 670.419 Q1209.63 661.669 1212.68 657.086 Q1215.76 652.48 1221.57 652.48 Z\" fill=\"#000000\" fill-rule=\"evenodd\" fill-opacity=\"1\" /><path clip-path=\"url(#clip120)\" d=\"M1147.17 364.979 Q1143.56 364.979 1141.73 368.544 Q1139.93 372.086 1139.93 379.215 Q1139.93 386.322 1141.73 389.886 Q1143.56 393.428 1147.17 393.428 Q1150.81 393.428 1152.61 389.886 Q1154.44 386.322 1154.44 379.215 Q1154.44 372.086 1152.61 368.544 Q1150.81 364.979 1147.17 364.979 M1147.17 361.275 Q1152.98 361.275 1156.04 365.882 Q1159.12 370.465 1159.12 379.215 Q1159.12 387.942 1156.04 392.548 Q1152.98 397.132 1147.17 397.132 Q1141.36 397.132 1138.28 392.548 Q1135.23 387.942 1135.23 379.215 Q1135.23 370.465 1138.28 365.882 Q1141.36 361.275 1147.17 361.275 Z\" fill=\"#000000\" fill-rule=\"evenodd\" fill-opacity=\"1\" /><path clip-path=\"url(#clip120)\" d=\"M1167.33 390.581 L1172.22 390.581 L1172.22 396.46 L1167.33 396.46 L1167.33 390.581 Z\" fill=\"#000000\" fill-rule=\"evenodd\" fill-opacity=\"1\" /><path clip-path=\"url(#clip120)\" d=\"M1181.22 361.9 L1203.45 361.9 L1203.45 363.891 L1190.9 396.46 L1186.02 396.46 L1197.82 365.836 L1181.22 365.836 L1181.22 361.9 Z\" fill=\"#000000\" fill-rule=\"evenodd\" fill-opacity=\"1\" /><path clip-path=\"url(#clip120)\" d=\"M1212.61 361.9 L1230.97 361.9 L1230.97 365.836 L1216.89 365.836 L1216.89 374.308 Q1217.91 373.961 1218.93 373.799 Q1219.95 373.613 1220.97 373.613 Q1226.76 373.613 1230.14 376.785 Q1233.51 379.956 1233.51 385.373 Q1233.51 390.951 1230.04 394.053 Q1226.57 397.132 1220.25 397.132 Q1218.08 397.132 1215.81 396.761 Q1213.56 396.391 1211.15 395.65 L1211.15 390.951 Q1213.24 392.085 1215.46 392.641 Q1217.68 393.197 1220.16 393.197 Q1224.16 393.197 1226.5 391.09 Q1228.84 388.984 1228.84 385.373 Q1228.84 381.761 1226.5 379.655 Q1224.16 377.548 1220.16 377.548 Q1218.28 377.548 1216.41 377.965 Q1214.56 378.382 1212.61 379.261 L1212.61 361.9 Z\" fill=\"#000000\" fill-rule=\"evenodd\" fill-opacity=\"1\" /><path clip-path=\"url(#clip120)\" d=\"M1136.99 101.321 L1144.63 101.321 L1144.63 74.9555 L1136.32 76.6222 L1136.32 72.3629 L1144.58 70.6963 L1149.26 70.6963 L1149.26 101.321 L1156.89 101.321 L1156.89 105.256 L1136.99 105.256 L1136.99 101.321 Z\" fill=\"#000000\" fill-rule=\"evenodd\" fill-opacity=\"1\" /><path clip-path=\"url(#clip120)\" d=\"M1166.34 99.3767 L1171.22 99.3767 L1171.22 105.256 L1166.34 105.256 L1166.34 99.3767 Z\" fill=\"#000000\" fill-rule=\"evenodd\" fill-opacity=\"1\" /><path clip-path=\"url(#clip120)\" d=\"M1191.41 73.775 Q1187.8 73.775 1185.97 77.3398 Q1184.16 80.8814 1184.16 88.011 Q1184.16 95.1174 1185.97 98.6822 Q1187.8 102.224 1191.41 102.224 Q1195.04 102.224 1196.85 98.6822 Q1198.68 95.1174 1198.68 88.011 Q1198.68 80.8814 1196.85 77.3398 Q1195.04 73.775 1191.41 73.775 M1191.41 70.0713 Q1197.22 70.0713 1200.27 74.6777 Q1203.35 79.261 1203.35 88.011 Q1203.35 96.7378 1200.27 101.344 Q1197.22 105.928 1191.41 105.928 Q1185.6 105.928 1182.52 101.344 Q1179.46 96.7378 1179.46 88.011 Q1179.46 79.261 1182.52 74.6777 Q1185.6 70.0713 1191.41 70.0713 Z\" fill=\"#000000\" fill-rule=\"evenodd\" fill-opacity=\"1\" /><path clip-path=\"url(#clip120)\" d=\"M1221.57 73.775 Q1217.96 73.775 1216.13 77.3398 Q1214.33 80.8814 1214.33 88.011 Q1214.33 95.1174 1216.13 98.6822 Q1217.96 102.224 1221.57 102.224 Q1225.2 102.224 1227.01 98.6822 Q1228.84 95.1174 1228.84 88.011 Q1228.84 80.8814 1227.01 77.3398 Q1225.2 73.775 1221.57 73.775 M1221.57 70.0713 Q1227.38 70.0713 1230.44 74.6777 Q1233.51 79.261 1233.51 88.011 Q1233.51 96.7378 1230.44 101.344 Q1227.38 105.928 1221.57 105.928 Q1215.76 105.928 1212.68 101.344 Q1209.63 96.7378 1209.63 88.011 Q1209.63 79.261 1212.68 74.6777 Q1215.76 70.0713 1221.57 70.0713 Z\" fill=\"#000000\" fill-rule=\"evenodd\" fill-opacity=\"1\" /><path clip-path=\"url(#clip122)\" d=\"M247.59 1212.79 L238.19 1239.83 L209.55 1240.43 L232.39 1257.75 L224.07 1285.15 L247.59 1268.79 L271.11 1285.15 L262.79 1257.75 L285.63 1240.43 L256.99 1239.83 L247.59 1212.79 Z\" fill=\"#009af9\" fill-rule=\"evenodd\" fill-opacity=\"1\" stroke=\"#000000\" stroke-opacity=\"1\" stroke-width=\"3.2\"/>\n",
       "<path clip-path=\"url(#clip122)\" d=\"M451.975 1212.79 L442.575 1239.83 L413.935 1240.43 L436.775 1257.75 L428.455 1285.15 L451.975 1268.79 L475.495 1285.15 L467.175 1257.75 L490.015 1240.43 L461.375 1239.83 L451.975 1212.79 Z\" fill=\"#009af9\" fill-rule=\"evenodd\" fill-opacity=\"1\" stroke=\"#000000\" stroke-opacity=\"1\" stroke-width=\"3.2\"/>\n",
       "<path clip-path=\"url(#clip122)\" d=\"M656.36 1212.79 L646.96 1239.83 L618.32 1240.43 L641.16 1257.75 L632.84 1285.15 L656.36 1268.79 L679.88 1285.15 L671.56 1257.75 L694.4 1240.43 L665.76 1239.83 L656.36 1212.79 Z\" fill=\"#009af9\" fill-rule=\"evenodd\" fill-opacity=\"1\" stroke=\"#000000\" stroke-opacity=\"1\" stroke-width=\"3.2\"/>\n",
       "<path clip-path=\"url(#clip122)\" d=\"M860.745 1212.79 L851.345 1239.83 L822.705 1240.43 L845.545 1257.75 L837.225 1285.15 L860.745 1268.79 L884.265 1285.15 L875.945 1257.75 L898.785 1240.43 L870.145 1239.83 L860.745 1212.79 Z\" fill=\"#009af9\" fill-rule=\"evenodd\" fill-opacity=\"1\" stroke=\"#000000\" stroke-opacity=\"1\" stroke-width=\"3.2\"/>\n",
       "<path clip-path=\"url(#clip122)\" d=\"M1065.13 1212.79 L1055.73 1239.83 L1027.09 1240.43 L1049.93 1257.75 L1041.61 1285.15 L1065.13 1268.79 L1088.65 1285.15 L1080.33 1257.75 L1103.17 1240.43 L1074.53 1239.83 L1065.13 1212.79 Z\" fill=\"#009af9\" fill-rule=\"evenodd\" fill-opacity=\"1\" stroke=\"#000000\" stroke-opacity=\"1\" stroke-width=\"3.2\"/>\n",
       "<path clip-path=\"url(#clip122)\" d=\"M1269.51 47.9763 L1260.11 75.0163 L1231.47 75.6163 L1254.31 92.9363 L1245.99 120.336 L1269.51 103.976 L1293.03 120.336 L1284.71 92.9363 L1307.55 75.6163 L1278.91 75.0163 L1269.51 47.9763 Z\" fill=\"#009af9\" fill-rule=\"evenodd\" fill-opacity=\"1\" stroke=\"#000000\" stroke-opacity=\"1\" stroke-width=\"3.2\"/>\n",
       "<path clip-path=\"url(#clip122)\" d=\"M1473.9 1212.79 L1464.5 1239.83 L1435.86 1240.43 L1458.7 1257.75 L1450.38 1285.15 L1473.9 1268.79 L1497.42 1285.15 L1489.1 1257.75 L1511.94 1240.43 L1483.3 1239.83 L1473.9 1212.79 Z\" fill=\"#009af9\" fill-rule=\"evenodd\" fill-opacity=\"1\" stroke=\"#000000\" stroke-opacity=\"1\" stroke-width=\"3.2\"/>\n",
       "<path clip-path=\"url(#clip122)\" d=\"M1678.29 1212.79 L1668.89 1239.83 L1640.25 1240.43 L1663.09 1257.75 L1654.77 1285.15 L1678.29 1268.79 L1701.81 1285.15 L1693.49 1257.75 L1716.33 1240.43 L1687.69 1239.83 L1678.29 1212.79 Z\" fill=\"#009af9\" fill-rule=\"evenodd\" fill-opacity=\"1\" stroke=\"#000000\" stroke-opacity=\"1\" stroke-width=\"3.2\"/>\n",
       "<path clip-path=\"url(#clip122)\" d=\"M1882.67 1212.79 L1873.27 1239.83 L1844.63 1240.43 L1867.47 1257.75 L1859.15 1285.15 L1882.67 1268.79 L1906.19 1285.15 L1897.87 1257.75 L1920.71 1240.43 L1892.07 1239.83 L1882.67 1212.79 Z\" fill=\"#009af9\" fill-rule=\"evenodd\" fill-opacity=\"1\" stroke=\"#000000\" stroke-opacity=\"1\" stroke-width=\"3.2\"/>\n",
       "<path clip-path=\"url(#clip122)\" d=\"M2087.06 1212.79 L2077.66 1239.83 L2049.02 1240.43 L2071.86 1257.75 L2063.54 1285.15 L2087.06 1268.79 L2110.58 1285.15 L2102.26 1257.75 L2125.1 1240.43 L2096.46 1239.83 L2087.06 1212.79 Z\" fill=\"#009af9\" fill-rule=\"evenodd\" fill-opacity=\"1\" stroke=\"#000000\" stroke-opacity=\"1\" stroke-width=\"3.2\"/>\n",
       "<path clip-path=\"url(#clip122)\" d=\"M2291.44 1212.79 L2282.04 1239.83 L2253.4 1240.43 L2276.24 1257.75 L2267.92 1285.15 L2291.44 1268.79 L2314.96 1285.15 L2306.64 1257.75 L2329.48 1240.43 L2300.84 1239.83 L2291.44 1212.79 Z\" fill=\"#009af9\" fill-rule=\"evenodd\" fill-opacity=\"1\" stroke=\"#000000\" stroke-opacity=\"1\" stroke-width=\"3.2\"/>\n",
       "<circle clip-path=\"url(#clip122)\" cx=\"247.59\" cy=\"1419.71\" r=\"14\" fill=\"#e26f46\" fill-rule=\"evenodd\" fill-opacity=\"1\" stroke=\"#000000\" stroke-opacity=\"1\" stroke-width=\"3.2\"/>\n",
       "<circle clip-path=\"url(#clip122)\" cx=\"451.975\" cy=\"1403.75\" r=\"14\" fill=\"#e26f46\" fill-rule=\"evenodd\" fill-opacity=\"1\" stroke=\"#000000\" stroke-opacity=\"1\" stroke-width=\"3.2\"/>\n",
       "<circle clip-path=\"url(#clip122)\" cx=\"656.36\" cy=\"1445.72\" r=\"14\" fill=\"#e26f46\" fill-rule=\"evenodd\" fill-opacity=\"1\" stroke=\"#000000\" stroke-opacity=\"1\" stroke-width=\"3.2\"/>\n",
       "<circle clip-path=\"url(#clip122)\" cx=\"860.745\" cy=\"1258.57\" r=\"14\" fill=\"#e26f46\" fill-rule=\"evenodd\" fill-opacity=\"1\" stroke=\"#000000\" stroke-opacity=\"1\" stroke-width=\"3.2\"/>\n",
       "<circle clip-path=\"url(#clip122)\" cx=\"1065.13\" cy=\"1249.68\" r=\"14\" fill=\"#e26f46\" fill-rule=\"evenodd\" fill-opacity=\"1\" stroke=\"#000000\" stroke-opacity=\"1\" stroke-width=\"3.2\"/>\n",
       "<circle clip-path=\"url(#clip122)\" cx=\"1269.51\" cy=\"87.9763\" r=\"14\" fill=\"#e26f46\" fill-rule=\"evenodd\" fill-opacity=\"1\" stroke=\"#000000\" stroke-opacity=\"1\" stroke-width=\"3.2\"/>\n",
       "<circle clip-path=\"url(#clip122)\" cx=\"1473.9\" cy=\"1249.68\" r=\"14\" fill=\"#e26f46\" fill-rule=\"evenodd\" fill-opacity=\"1\" stroke=\"#000000\" stroke-opacity=\"1\" stroke-width=\"3.2\"/>\n",
       "<circle clip-path=\"url(#clip122)\" cx=\"1678.29\" cy=\"1258.57\" r=\"14\" fill=\"#e26f46\" fill-rule=\"evenodd\" fill-opacity=\"1\" stroke=\"#000000\" stroke-opacity=\"1\" stroke-width=\"3.2\"/>\n",
       "<circle clip-path=\"url(#clip122)\" cx=\"1882.67\" cy=\"1445.72\" r=\"14\" fill=\"#e26f46\" fill-rule=\"evenodd\" fill-opacity=\"1\" stroke=\"#000000\" stroke-opacity=\"1\" stroke-width=\"3.2\"/>\n",
       "<circle clip-path=\"url(#clip122)\" cx=\"2087.06\" cy=\"1403.75\" r=\"14\" fill=\"#e26f46\" fill-rule=\"evenodd\" fill-opacity=\"1\" stroke=\"#000000\" stroke-opacity=\"1\" stroke-width=\"3.2\"/>\n",
       "<circle clip-path=\"url(#clip122)\" cx=\"2291.44\" cy=\"1419.71\" r=\"14\" fill=\"#e26f46\" fill-rule=\"evenodd\" fill-opacity=\"1\" stroke=\"#000000\" stroke-opacity=\"1\" stroke-width=\"3.2\"/>\n",
       "<circle clip-path=\"url(#clip122)\" cx=\"247.59\" cy=\"1285.8\" r=\"14\" fill=\"#3da44d\" fill-rule=\"evenodd\" fill-opacity=\"1\" stroke=\"#000000\" stroke-opacity=\"1\" stroke-width=\"3.2\"/>\n",
       "<circle clip-path=\"url(#clip122)\" cx=\"451.975\" cy=\"1260.33\" r=\"14\" fill=\"#3da44d\" fill-rule=\"evenodd\" fill-opacity=\"1\" stroke=\"#000000\" stroke-opacity=\"1\" stroke-width=\"3.2\"/>\n",
       "<circle clip-path=\"url(#clip122)\" cx=\"656.36\" cy=\"1359.95\" r=\"14\" fill=\"#3da44d\" fill-rule=\"evenodd\" fill-opacity=\"1\" stroke=\"#000000\" stroke-opacity=\"1\" stroke-width=\"3.2\"/>\n",
       "<circle clip-path=\"url(#clip122)\" cx=\"860.745\" cy=\"1233.86\" r=\"14\" fill=\"#3da44d\" fill-rule=\"evenodd\" fill-opacity=\"1\" stroke=\"#000000\" stroke-opacity=\"1\" stroke-width=\"3.2\"/>\n",
       "<circle clip-path=\"url(#clip122)\" cx=\"1065.13\" cy=\"1171.2\" r=\"14\" fill=\"#3da44d\" fill-rule=\"evenodd\" fill-opacity=\"1\" stroke=\"#000000\" stroke-opacity=\"1\" stroke-width=\"3.2\"/>\n",
       "<circle clip-path=\"url(#clip122)\" cx=\"1269.51\" cy=\"87.9763\" r=\"14\" fill=\"#3da44d\" fill-rule=\"evenodd\" fill-opacity=\"1\" stroke=\"#000000\" stroke-opacity=\"1\" stroke-width=\"3.2\"/>\n",
       "<circle clip-path=\"url(#clip122)\" cx=\"1473.9\" cy=\"1171.2\" r=\"14\" fill=\"#3da44d\" fill-rule=\"evenodd\" fill-opacity=\"1\" stroke=\"#000000\" stroke-opacity=\"1\" stroke-width=\"3.2\"/>\n",
       "<circle clip-path=\"url(#clip122)\" cx=\"1678.29\" cy=\"1233.86\" r=\"14\" fill=\"#3da44d\" fill-rule=\"evenodd\" fill-opacity=\"1\" stroke=\"#000000\" stroke-opacity=\"1\" stroke-width=\"3.2\"/>\n",
       "<circle clip-path=\"url(#clip122)\" cx=\"1882.67\" cy=\"1359.95\" r=\"14\" fill=\"#3da44d\" fill-rule=\"evenodd\" fill-opacity=\"1\" stroke=\"#000000\" stroke-opacity=\"1\" stroke-width=\"3.2\"/>\n",
       "<circle clip-path=\"url(#clip122)\" cx=\"2087.06\" cy=\"1260.33\" r=\"14\" fill=\"#3da44d\" fill-rule=\"evenodd\" fill-opacity=\"1\" stroke=\"#000000\" stroke-opacity=\"1\" stroke-width=\"3.2\"/>\n",
       "<circle clip-path=\"url(#clip122)\" cx=\"2291.44\" cy=\"1285.8\" r=\"14\" fill=\"#3da44d\" fill-rule=\"evenodd\" fill-opacity=\"1\" stroke=\"#000000\" stroke-opacity=\"1\" stroke-width=\"3.2\"/>\n",
       "<circle clip-path=\"url(#clip122)\" cx=\"247.59\" cy=\"1217.15\" r=\"14\" fill=\"#c271d2\" fill-rule=\"evenodd\" fill-opacity=\"1\" stroke=\"#000000\" stroke-opacity=\"1\" stroke-width=\"3.2\"/>\n",
       "<circle clip-path=\"url(#clip122)\" cx=\"451.975\" cy=\"1263.8\" r=\"14\" fill=\"#c271d2\" fill-rule=\"evenodd\" fill-opacity=\"1\" stroke=\"#000000\" stroke-opacity=\"1\" stroke-width=\"3.2\"/>\n",
       "<circle clip-path=\"url(#clip122)\" cx=\"656.36\" cy=\"1187.94\" r=\"14\" fill=\"#c271d2\" fill-rule=\"evenodd\" fill-opacity=\"1\" stroke=\"#000000\" stroke-opacity=\"1\" stroke-width=\"3.2\"/>\n",
       "<circle clip-path=\"url(#clip122)\" cx=\"860.745\" cy=\"1294.88\" r=\"14\" fill=\"#c271d2\" fill-rule=\"evenodd\" fill-opacity=\"1\" stroke=\"#000000\" stroke-opacity=\"1\" stroke-width=\"3.2\"/>\n",
       "<circle clip-path=\"url(#clip122)\" cx=\"1065.13\" cy=\"1286.82\" r=\"14\" fill=\"#c271d2\" fill-rule=\"evenodd\" fill-opacity=\"1\" stroke=\"#000000\" stroke-opacity=\"1\" stroke-width=\"3.2\"/>\n",
       "<circle clip-path=\"url(#clip122)\" cx=\"1269.51\" cy=\"87.9763\" r=\"14\" fill=\"#c271d2\" fill-rule=\"evenodd\" fill-opacity=\"1\" stroke=\"#000000\" stroke-opacity=\"1\" stroke-width=\"3.2\"/>\n",
       "<circle clip-path=\"url(#clip122)\" cx=\"1473.9\" cy=\"1286.82\" r=\"14\" fill=\"#c271d2\" fill-rule=\"evenodd\" fill-opacity=\"1\" stroke=\"#000000\" stroke-opacity=\"1\" stroke-width=\"3.2\"/>\n",
       "<circle clip-path=\"url(#clip122)\" cx=\"1678.29\" cy=\"1294.88\" r=\"14\" fill=\"#c271d2\" fill-rule=\"evenodd\" fill-opacity=\"1\" stroke=\"#000000\" stroke-opacity=\"1\" stroke-width=\"3.2\"/>\n",
       "<circle clip-path=\"url(#clip122)\" cx=\"1882.67\" cy=\"1187.94\" r=\"14\" fill=\"#c271d2\" fill-rule=\"evenodd\" fill-opacity=\"1\" stroke=\"#000000\" stroke-opacity=\"1\" stroke-width=\"3.2\"/>\n",
       "<circle clip-path=\"url(#clip122)\" cx=\"2087.06\" cy=\"1263.8\" r=\"14\" fill=\"#c271d2\" fill-rule=\"evenodd\" fill-opacity=\"1\" stroke=\"#000000\" stroke-opacity=\"1\" stroke-width=\"3.2\"/>\n",
       "<circle clip-path=\"url(#clip122)\" cx=\"2291.44\" cy=\"1217.15\" r=\"14\" fill=\"#c271d2\" fill-rule=\"evenodd\" fill-opacity=\"1\" stroke=\"#000000\" stroke-opacity=\"1\" stroke-width=\"3.2\"/>\n",
       "<path clip-path=\"url(#clip120)\" d=\"\n",
       "M1760.61 354.418 L2280.54 354.418 L2280.54 95.2176 L1760.61 95.2176  Z\n",
       "  \" fill=\"#ffffff\" fill-rule=\"evenodd\" fill-opacity=\"1\"/>\n",
       "<polyline clip-path=\"url(#clip120)\" style=\"stroke:#000000; stroke-linecap:butt; stroke-linejoin:round; stroke-width:4; stroke-opacity:1; fill:none\" points=\"\n",
       "  1760.61,354.418 2280.54,354.418 2280.54,95.2176 1760.61,95.2176 1760.61,354.418 \n",
       "  \"/>\n",
       "<path clip-path=\"url(#clip120)\" d=\"M1856.9 121.458 L1850.88 138.763 L1832.55 139.147 L1847.17 150.232 L1841.84 167.768 L1856.9 157.298 L1871.95 167.768 L1866.62 150.232 L1881.24 139.147 L1862.91 138.763 L1856.9 121.458 Z\" fill=\"#009af9\" fill-rule=\"evenodd\" fill-opacity=\"1\" stroke=\"#000000\" stroke-opacity=\"1\" stroke-width=\"2.048\"/>\n",
       "<path clip-path=\"url(#clip120)\" d=\"M1953.18 129.778 L1982.42 129.778 L1982.42 133.713 L1970.15 133.713 L1970.15 164.338 L1965.45 164.338 L1965.45 133.713 L1953.18 133.713 L1953.18 129.778 Z\" fill=\"#000000\" fill-rule=\"evenodd\" fill-opacity=\"1\" /><path clip-path=\"url(#clip120)\" d=\"M2000.87 150.31 L2000.87 152.393 L1981.29 152.393 Q1981.56 156.791 1983.92 159.106 Q1986.31 161.398 1990.55 161.398 Q1993 161.398 1995.29 160.796 Q1997.61 160.194 1999.87 158.99 L1999.87 163.018 Q1997.58 163.99 1995.17 164.5 Q1992.77 165.009 1990.29 165.009 Q1984.09 165.009 1980.45 161.398 Q1976.84 157.787 1976.84 151.629 Q1976.84 145.264 1980.27 141.537 Q1983.72 137.787 1989.55 137.787 Q1994.78 137.787 1997.81 141.166 Q2000.87 144.523 2000.87 150.31 M1996.61 149.06 Q1996.56 145.565 1994.64 143.481 Q1992.74 141.398 1989.6 141.398 Q1986.03 141.398 1983.88 143.412 Q1981.75 145.426 1981.42 149.083 L1996.61 149.06 Z\" fill=\"#000000\" fill-rule=\"evenodd\" fill-opacity=\"1\" /><path clip-path=\"url(#clip120)\" d=\"M2017.91 141.398 Q2014.48 141.398 2012.49 144.083 Q2010.5 146.745 2010.5 151.398 Q2010.5 156.051 2012.47 158.736 Q2014.46 161.398 2017.91 161.398 Q2021.31 161.398 2023.3 158.713 Q2025.29 156.027 2025.29 151.398 Q2025.29 146.791 2023.3 144.106 Q2021.31 141.398 2017.91 141.398 M2017.91 137.787 Q2023.46 137.787 2026.63 141.398 Q2029.8 145.009 2029.8 151.398 Q2029.8 157.764 2026.63 161.398 Q2023.46 165.009 2017.91 165.009 Q2012.33 165.009 2009.16 161.398 Q2006.01 157.764 2006.01 151.398 Q2006.01 145.009 2009.16 141.398 Q2012.33 137.787 2017.91 137.787 Z\" fill=\"#000000\" fill-rule=\"evenodd\" fill-opacity=\"1\" /><path clip-path=\"url(#clip120)\" d=\"M2051.89 142.393 Q2051.17 141.977 2050.31 141.791 Q2049.48 141.583 2048.46 141.583 Q2044.85 141.583 2042.91 143.944 Q2040.98 146.282 2040.98 150.68 L2040.98 164.338 L2036.7 164.338 L2036.7 138.412 L2040.98 138.412 L2040.98 142.44 Q2042.33 140.078 2044.48 138.944 Q2046.63 137.787 2049.71 137.787 Q2050.15 137.787 2050.68 137.856 Q2051.22 137.903 2051.86 138.018 L2051.89 142.393 Z\" fill=\"#000000\" fill-rule=\"evenodd\" fill-opacity=\"1\" /><path clip-path=\"url(#clip120)\" d=\"M2077.49 150.31 L2077.49 152.393 L2057.91 152.393 Q2058.18 156.791 2060.54 159.106 Q2062.93 161.398 2067.17 161.398 Q2069.62 161.398 2071.91 160.796 Q2074.23 160.194 2076.49 158.99 L2076.49 163.018 Q2074.2 163.99 2071.79 164.5 Q2069.39 165.009 2066.91 165.009 Q2060.71 165.009 2057.07 161.398 Q2053.46 157.787 2053.46 151.629 Q2053.46 145.264 2056.89 141.537 Q2060.34 137.787 2066.17 137.787 Q2071.4 137.787 2074.43 141.166 Q2077.49 144.523 2077.49 150.31 M2073.23 149.06 Q2073.18 145.565 2071.26 143.481 Q2069.36 141.398 2066.22 141.398 Q2062.65 141.398 2060.5 143.412 Q2058.37 145.426 2058.04 149.083 L2073.23 149.06 Z\" fill=\"#000000\" fill-rule=\"evenodd\" fill-opacity=\"1\" /><path clip-path=\"url(#clip120)\" d=\"M2088.69 131.051 L2088.69 138.412 L2097.47 138.412 L2097.47 141.722 L2088.69 141.722 L2088.69 155.796 Q2088.69 158.967 2089.55 159.87 Q2090.43 160.773 2093.09 160.773 L2097.47 160.773 L2097.47 164.338 L2093.09 164.338 Q2088.16 164.338 2086.29 162.509 Q2084.41 160.657 2084.41 155.796 L2084.41 141.722 L2081.29 141.722 L2081.29 138.412 L2084.41 138.412 L2084.41 131.051 L2088.69 131.051 Z\" fill=\"#000000\" fill-rule=\"evenodd\" fill-opacity=\"1\" /><path clip-path=\"url(#clip120)\" d=\"M2113.85 166.745 Q2112.05 171.375 2110.34 172.787 Q2108.62 174.199 2105.75 174.199 L2102.35 174.199 L2102.35 170.634 L2104.85 170.634 Q2106.61 170.634 2107.58 169.8 Q2108.55 168.967 2109.73 165.865 L2110.5 163.921 L2100.01 138.412 L2104.53 138.412 L2112.63 158.689 L2120.73 138.412 L2125.24 138.412 L2113.85 166.745 Z\" fill=\"#000000\" fill-rule=\"evenodd\" fill-opacity=\"1\" /><path clip-path=\"url(#clip120)\" d=\"M2149.78 139.407 L2149.78 143.389 Q2147.97 142.393 2146.15 141.907 Q2144.34 141.398 2142.49 141.398 Q2138.35 141.398 2136.05 144.037 Q2133.76 146.652 2133.76 151.398 Q2133.76 156.143 2136.05 158.782 Q2138.35 161.398 2142.49 161.398 Q2144.34 161.398 2146.15 160.912 Q2147.97 160.402 2149.78 159.407 L2149.78 163.342 Q2148 164.176 2146.08 164.592 Q2144.18 165.009 2142.03 165.009 Q2136.17 165.009 2132.72 161.328 Q2129.27 157.648 2129.27 151.398 Q2129.27 145.055 2132.74 141.421 Q2136.24 137.787 2142.3 137.787 Q2144.27 137.787 2146.15 138.203 Q2148.02 138.597 2149.78 139.407 Z\" fill=\"#000000\" fill-rule=\"evenodd\" fill-opacity=\"1\" /><path clip-path=\"url(#clip120)\" d=\"M2155.34 138.412 L2175.57 138.412 L2175.57 142.301 L2159.55 160.935 L2175.57 160.935 L2175.57 164.338 L2154.76 164.338 L2154.76 160.449 L2170.78 141.815 L2155.34 141.815 L2155.34 138.412 Z\" fill=\"#000000\" fill-rule=\"evenodd\" fill-opacity=\"1\" /><path clip-path=\"url(#clip120)\" d=\"M2203.62 148.689 L2203.62 164.338 L2199.36 164.338 L2199.36 148.828 Q2199.36 145.148 2197.93 143.319 Q2196.49 141.49 2193.62 141.49 Q2190.17 141.49 2188.18 143.69 Q2186.19 145.889 2186.19 149.685 L2186.19 164.338 L2181.91 164.338 L2181.91 138.412 L2186.19 138.412 L2186.19 142.44 Q2187.72 140.102 2189.78 138.944 Q2191.86 137.787 2194.57 137.787 Q2199.04 137.787 2201.33 140.565 Q2203.62 143.319 2203.62 148.689 Z\" fill=\"#000000\" fill-rule=\"evenodd\" fill-opacity=\"1\" /><path clip-path=\"url(#clip120)\" d=\"M2223.9 151.305 Q2218.74 151.305 2216.75 152.486 Q2214.76 153.666 2214.76 156.514 Q2214.76 158.782 2216.24 160.125 Q2217.74 161.444 2220.31 161.444 Q2223.85 161.444 2225.98 158.944 Q2228.14 156.421 2228.14 152.254 L2228.14 151.305 L2223.9 151.305 M2232.4 149.546 L2232.4 164.338 L2228.14 164.338 L2228.14 160.402 Q2226.68 162.763 2224.5 163.898 Q2222.33 165.009 2219.18 165.009 Q2215.2 165.009 2212.84 162.787 Q2210.5 160.541 2210.5 156.791 Q2210.5 152.416 2213.41 150.194 Q2216.35 147.972 2222.16 147.972 L2228.14 147.972 L2228.14 147.555 Q2228.14 144.615 2226.19 143.018 Q2224.27 141.398 2220.78 141.398 Q2218.55 141.398 2216.45 141.93 Q2214.34 142.463 2212.4 143.527 L2212.4 139.592 Q2214.73 138.69 2216.93 138.25 Q2219.13 137.787 2221.22 137.787 Q2226.84 137.787 2229.62 140.703 Q2232.4 143.62 2232.4 149.546 Z\" fill=\"#000000\" fill-rule=\"evenodd\" fill-opacity=\"1\" /><circle clip-path=\"url(#clip120)\" cx=\"1856.9\" cy=\"198.898\" r=\"23\" fill=\"#e26f46\" fill-rule=\"evenodd\" fill-opacity=\"1\" stroke=\"#000000\" stroke-opacity=\"1\" stroke-width=\"5.12\"/>\n",
       "<path clip-path=\"url(#clip120)\" d=\"M1953.18 181.618 L1959.48 181.618 L1974.8 210.529 L1974.8 181.618 L1979.34 181.618 L1979.34 216.178 L1973.05 216.178 L1957.72 187.266 L1957.72 216.178 L1953.18 216.178 L1953.18 181.618 Z\" fill=\"#000000\" fill-rule=\"evenodd\" fill-opacity=\"1\" /><path clip-path=\"url(#clip120)\" d=\"M1989.02 194.65 L2018.69 194.65 L2018.69 198.539 L1989.02 198.539 L1989.02 194.65 M1989.02 204.094 L2018.69 204.094 L2018.69 208.029 L1989.02 208.029 L1989.02 204.094 Z\" fill=\"#000000\" fill-rule=\"evenodd\" fill-opacity=\"1\" /><path clip-path=\"url(#clip120)\" d=\"M2028.83 181.618 L2047.19 181.618 L2047.19 185.553 L2033.11 185.553 L2033.11 194.025 Q2034.13 193.678 2035.15 193.516 Q2036.17 193.33 2037.19 193.33 Q2042.98 193.33 2046.36 196.502 Q2049.73 199.673 2049.73 205.09 Q2049.73 210.668 2046.26 213.77 Q2042.79 216.849 2036.47 216.849 Q2034.3 216.849 2032.03 216.478 Q2029.78 216.108 2027.37 215.367 L2027.37 210.668 Q2029.46 211.803 2031.68 212.358 Q2033.9 212.914 2036.38 212.914 Q2040.38 212.914 2042.72 210.807 Q2045.06 208.701 2045.06 205.09 Q2045.06 201.479 2042.72 199.372 Q2040.38 197.266 2036.38 197.266 Q2034.5 197.266 2032.63 197.682 Q2030.78 198.099 2028.83 198.979 L2028.83 181.618 Z\" fill=\"#000000\" fill-rule=\"evenodd\" fill-opacity=\"1\" /><path clip-path=\"url(#clip120)\" d=\"M2068.95 184.696 Q2065.34 184.696 2063.51 188.261 Q2061.7 191.803 2061.7 198.932 Q2061.7 206.039 2063.51 209.604 Q2065.34 213.145 2068.95 213.145 Q2072.58 213.145 2074.39 209.604 Q2076.22 206.039 2076.22 198.932 Q2076.22 191.803 2074.39 188.261 Q2072.58 184.696 2068.95 184.696 M2068.95 180.993 Q2074.76 180.993 2077.81 185.599 Q2080.89 190.182 2080.89 198.932 Q2080.89 207.659 2077.81 212.266 Q2074.76 216.849 2068.95 216.849 Q2063.14 216.849 2060.06 212.266 Q2057 207.659 2057 198.932 Q2057 190.182 2060.06 185.599 Q2063.14 180.993 2068.95 180.993 Z\" fill=\"#000000\" fill-rule=\"evenodd\" fill-opacity=\"1\" /><path clip-path=\"url(#clip120)\" d=\"M2089.11 210.298 L2093.99 210.298 L2093.99 216.178 L2089.11 216.178 L2089.11 210.298 Z\" fill=\"#000000\" fill-rule=\"evenodd\" fill-opacity=\"1\" /><path clip-path=\"url(#clip120)\" d=\"M2114.18 184.696 Q2110.57 184.696 2108.74 188.261 Q2106.93 191.803 2106.93 198.932 Q2106.93 206.039 2108.74 209.604 Q2110.57 213.145 2114.18 213.145 Q2117.81 213.145 2119.62 209.604 Q2121.45 206.039 2121.45 198.932 Q2121.45 191.803 2119.62 188.261 Q2117.81 184.696 2114.18 184.696 M2114.18 180.993 Q2119.99 180.993 2123.04 185.599 Q2126.12 190.182 2126.12 198.932 Q2126.12 207.659 2123.04 212.266 Q2119.99 216.849 2114.18 216.849 Q2108.37 216.849 2105.29 212.266 Q2102.23 207.659 2102.23 198.932 Q2102.23 190.182 2105.29 185.599 Q2108.37 180.993 2114.18 180.993 Z\" fill=\"#000000\" fill-rule=\"evenodd\" fill-opacity=\"1\" /><circle clip-path=\"url(#clip120)\" cx=\"1856.9\" cy=\"250.738\" r=\"23\" fill=\"#3da44d\" fill-rule=\"evenodd\" fill-opacity=\"1\" stroke=\"#000000\" stroke-opacity=\"1\" stroke-width=\"5.12\"/>\n",
       "<path clip-path=\"url(#clip120)\" d=\"M1953.18 233.458 L1959.48 233.458 L1974.8 262.369 L1974.8 233.458 L1979.34 233.458 L1979.34 268.018 L1973.05 268.018 L1957.72 239.106 L1957.72 268.018 L1953.18 268.018 L1953.18 233.458 Z\" fill=\"#000000\" fill-rule=\"evenodd\" fill-opacity=\"1\" /><path clip-path=\"url(#clip120)\" d=\"M1989.02 246.49 L2018.69 246.49 L2018.69 250.379 L1989.02 250.379 L1989.02 246.49 M1989.02 255.934 L2018.69 255.934 L2018.69 259.869 L1989.02 259.869 L1989.02 255.934 Z\" fill=\"#000000\" fill-rule=\"evenodd\" fill-opacity=\"1\" /><path clip-path=\"url(#clip120)\" d=\"M2029.6 264.082 L2037.23 264.082 L2037.23 237.717 L2028.92 239.383 L2028.92 235.124 L2037.19 233.458 L2041.86 233.458 L2041.86 264.082 L2049.5 264.082 L2049.5 268.018 L2029.6 268.018 L2029.6 264.082 Z\" fill=\"#000000\" fill-rule=\"evenodd\" fill-opacity=\"1\" /><path clip-path=\"url(#clip120)\" d=\"M2068.95 236.536 Q2065.34 236.536 2063.51 240.101 Q2061.7 243.643 2061.7 250.772 Q2061.7 257.879 2063.51 261.444 Q2065.34 264.985 2068.95 264.985 Q2072.58 264.985 2074.39 261.444 Q2076.22 257.879 2076.22 250.772 Q2076.22 243.643 2074.39 240.101 Q2072.58 236.536 2068.95 236.536 M2068.95 232.833 Q2074.76 232.833 2077.81 237.439 Q2080.89 242.022 2080.89 250.772 Q2080.89 259.499 2077.81 264.106 Q2074.76 268.689 2068.95 268.689 Q2063.14 268.689 2060.06 264.106 Q2057 259.499 2057 250.772 Q2057 242.022 2060.06 237.439 Q2063.14 232.833 2068.95 232.833 Z\" fill=\"#000000\" fill-rule=\"evenodd\" fill-opacity=\"1\" /><path clip-path=\"url(#clip120)\" d=\"M2099.11 236.536 Q2095.5 236.536 2093.67 240.101 Q2091.86 243.643 2091.86 250.772 Q2091.86 257.879 2093.67 261.444 Q2095.5 264.985 2099.11 264.985 Q2102.74 264.985 2104.55 261.444 Q2106.38 257.879 2106.38 250.772 Q2106.38 243.643 2104.55 240.101 Q2102.74 236.536 2099.11 236.536 M2099.11 232.833 Q2104.92 232.833 2107.98 237.439 Q2111.05 242.022 2111.05 250.772 Q2111.05 259.499 2107.98 264.106 Q2104.92 268.689 2099.11 268.689 Q2093.3 268.689 2090.22 264.106 Q2087.17 259.499 2087.17 250.772 Q2087.17 242.022 2090.22 237.439 Q2093.3 232.833 2099.11 232.833 Z\" fill=\"#000000\" fill-rule=\"evenodd\" fill-opacity=\"1\" /><path clip-path=\"url(#clip120)\" d=\"M2119.27 262.138 L2124.16 262.138 L2124.16 268.018 L2119.27 268.018 L2119.27 262.138 Z\" fill=\"#000000\" fill-rule=\"evenodd\" fill-opacity=\"1\" /><path clip-path=\"url(#clip120)\" d=\"M2144.34 236.536 Q2140.73 236.536 2138.9 240.101 Q2137.1 243.643 2137.1 250.772 Q2137.1 257.879 2138.9 261.444 Q2140.73 264.985 2144.34 264.985 Q2147.97 264.985 2149.78 261.444 Q2151.61 257.879 2151.61 250.772 Q2151.61 243.643 2149.78 240.101 Q2147.97 236.536 2144.34 236.536 M2144.34 232.833 Q2150.15 232.833 2153.21 237.439 Q2156.29 242.022 2156.29 250.772 Q2156.29 259.499 2153.21 264.106 Q2150.15 268.689 2144.34 268.689 Q2138.53 268.689 2135.45 264.106 Q2132.4 259.499 2132.4 250.772 Q2132.4 242.022 2135.45 237.439 Q2138.53 232.833 2144.34 232.833 Z\" fill=\"#000000\" fill-rule=\"evenodd\" fill-opacity=\"1\" /><circle clip-path=\"url(#clip120)\" cx=\"1856.9\" cy=\"302.578\" r=\"23\" fill=\"#c271d2\" fill-rule=\"evenodd\" fill-opacity=\"1\" stroke=\"#000000\" stroke-opacity=\"1\" stroke-width=\"5.12\"/>\n",
       "<path clip-path=\"url(#clip120)\" d=\"M1953.18 285.298 L1959.48 285.298 L1974.8 314.209 L1974.8 285.298 L1979.34 285.298 L1979.34 319.858 L1973.05 319.858 L1957.72 290.946 L1957.72 319.858 L1953.18 319.858 L1953.18 285.298 Z\" fill=\"#000000\" fill-rule=\"evenodd\" fill-opacity=\"1\" /><path clip-path=\"url(#clip120)\" d=\"M1989.02 298.33 L2018.69 298.33 L2018.69 302.219 L1989.02 302.219 L1989.02 298.33 M1989.02 307.774 L2018.69 307.774 L2018.69 311.709 L1989.02 311.709 L1989.02 307.774 Z\" fill=\"#000000\" fill-rule=\"evenodd\" fill-opacity=\"1\" /><path clip-path=\"url(#clip120)\" d=\"M2029.6 315.922 L2037.23 315.922 L2037.23 289.557 L2028.92 291.223 L2028.92 286.964 L2037.19 285.298 L2041.86 285.298 L2041.86 315.922 L2049.5 315.922 L2049.5 319.858 L2029.6 319.858 L2029.6 315.922 Z\" fill=\"#000000\" fill-rule=\"evenodd\" fill-opacity=\"1\" /><path clip-path=\"url(#clip120)\" d=\"M2068.95 288.376 Q2065.34 288.376 2063.51 291.941 Q2061.7 295.483 2061.7 302.612 Q2061.7 309.719 2063.51 313.284 Q2065.34 316.825 2068.95 316.825 Q2072.58 316.825 2074.39 313.284 Q2076.22 309.719 2076.22 302.612 Q2076.22 295.483 2074.39 291.941 Q2072.58 288.376 2068.95 288.376 M2068.95 284.673 Q2074.76 284.673 2077.81 289.279 Q2080.89 293.862 2080.89 302.612 Q2080.89 311.339 2077.81 315.946 Q2074.76 320.529 2068.95 320.529 Q2063.14 320.529 2060.06 315.946 Q2057 311.339 2057 302.612 Q2057 293.862 2060.06 289.279 Q2063.14 284.673 2068.95 284.673 Z\" fill=\"#000000\" fill-rule=\"evenodd\" fill-opacity=\"1\" /><path clip-path=\"url(#clip120)\" d=\"M2099.11 288.376 Q2095.5 288.376 2093.67 291.941 Q2091.86 295.483 2091.86 302.612 Q2091.86 309.719 2093.67 313.284 Q2095.5 316.825 2099.11 316.825 Q2102.74 316.825 2104.55 313.284 Q2106.38 309.719 2106.38 302.612 Q2106.38 295.483 2104.55 291.941 Q2102.74 288.376 2099.11 288.376 M2099.11 284.673 Q2104.92 284.673 2107.98 289.279 Q2111.05 293.862 2111.05 302.612 Q2111.05 311.339 2107.98 315.946 Q2104.92 320.529 2099.11 320.529 Q2093.3 320.529 2090.22 315.946 Q2087.17 311.339 2087.17 302.612 Q2087.17 293.862 2090.22 289.279 Q2093.3 284.673 2099.11 284.673 Z\" fill=\"#000000\" fill-rule=\"evenodd\" fill-opacity=\"1\" /><path clip-path=\"url(#clip120)\" d=\"M2129.27 288.376 Q2125.66 288.376 2123.83 291.941 Q2122.03 295.483 2122.03 302.612 Q2122.03 309.719 2123.83 313.284 Q2125.66 316.825 2129.27 316.825 Q2132.91 316.825 2134.71 313.284 Q2136.54 309.719 2136.54 302.612 Q2136.54 295.483 2134.71 291.941 Q2132.91 288.376 2129.27 288.376 M2129.27 284.673 Q2135.08 284.673 2138.14 289.279 Q2141.22 293.862 2141.22 302.612 Q2141.22 311.339 2138.14 315.946 Q2135.08 320.529 2129.27 320.529 Q2123.46 320.529 2120.38 315.946 Q2117.33 311.339 2117.33 302.612 Q2117.33 293.862 2120.38 289.279 Q2123.46 284.673 2129.27 284.673 Z\" fill=\"#000000\" fill-rule=\"evenodd\" fill-opacity=\"1\" /><path clip-path=\"url(#clip120)\" d=\"M2149.43 313.978 L2154.32 313.978 L2154.32 319.858 L2149.43 319.858 L2149.43 313.978 Z\" fill=\"#000000\" fill-rule=\"evenodd\" fill-opacity=\"1\" /><path clip-path=\"url(#clip120)\" d=\"M2174.5 288.376 Q2170.89 288.376 2169.06 291.941 Q2167.26 295.483 2167.26 302.612 Q2167.26 309.719 2169.06 313.284 Q2170.89 316.825 2174.5 316.825 Q2178.14 316.825 2179.94 313.284 Q2181.77 309.719 2181.77 302.612 Q2181.77 295.483 2179.94 291.941 Q2178.14 288.376 2174.5 288.376 M2174.5 284.673 Q2180.31 284.673 2183.37 289.279 Q2186.45 293.862 2186.45 302.612 Q2186.45 311.339 2183.37 315.946 Q2180.31 320.529 2174.5 320.529 Q2168.69 320.529 2165.61 315.946 Q2162.56 311.339 2162.56 302.612 Q2162.56 293.862 2165.61 289.279 Q2168.69 284.673 2174.5 284.673 Z\" fill=\"#000000\" fill-rule=\"evenodd\" fill-opacity=\"1\" /></svg>\n"
      ]
     },
     "execution_count": 77,
     "metadata": {},
     "output_type": "execute_result"
    }
   ],
   "source": [
    "scatter(-5:5,[0,0,0,0,0,1,0,0,0,0,0],shape=:star,markersize=10, label=\"Teoretyczna\")\n",
    "for i in 1:3\n",
    "    scatter!(-5:5,t->ρ(t,γ[i]),label=\"N=$(Ns[i])\")\n",
    "end\n",
    "scatter!(framestyle=:origin)"
   ]
  },
  {
   "cell_type": "markdown",
   "metadata": {},
   "source": [
    "## b)"
   ]
  },
  {
   "cell_type": "code",
   "execution_count": 136,
   "metadata": {},
   "outputs": [
    {
     "data": {
      "text/plain": [
       "teor (generic function with 1 method)"
      ]
     },
     "execution_count": 136,
     "metadata": {},
     "output_type": "execute_result"
    }
   ],
   "source": [
    "teor(h)= h==1 ? 4 : 0"
   ]
  },
  {
   "cell_type": "code",
   "execution_count": 137,
   "metadata": {},
   "outputs": [
    {
     "data": {
      "text/plain": [
       "v (generic function with 1 method)"
      ]
     },
     "execution_count": 137,
     "metadata": {},
     "output_type": "execute_result"
    }
   ],
   "source": [
    "ν(n, teor)=begin\n",
    "    γ=Γ(N(n=n))\n",
    "    sum(abs(γ(h)-teor(h)) for h in -(n-1):(n-1))/n\n",
    "end\n",
    "v(X, teor)=begin\n",
    "    n=length(X)\n",
    "    γ=Γ(X)\n",
    "    sum(abs(γ(h)-teor(h)) for h in -(n-1):(n-1))/n\n",
    "end"
   ]
  },
  {
   "cell_type": "code",
   "execution_count": 148,
   "metadata": {},
   "outputs": [],
   "source": [
    "X=N(n=1e3);"
   ]
  },
  {
   "cell_type": "code",
   "execution_count": 149,
   "metadata": {},
   "outputs": [
    {
     "data": {
      "image/svg+xml": [
       "<?xml version=\"1.0\" encoding=\"utf-8\"?>\n",
       "<svg xmlns=\"http://www.w3.org/2000/svg\" xmlns:xlink=\"http://www.w3.org/1999/xlink\" width=\"600\" height=\"400\" viewBox=\"0 0 2400 1600\">\n",
       "<defs>\n",
       "  <clipPath id=\"clip360\">\n",
       "    <rect x=\"0\" y=\"0\" width=\"2400\" height=\"1600\"/>\n",
       "  </clipPath>\n",
       "</defs>\n",
       "<path clip-path=\"url(#clip360)\" d=\"\n",
       "M0 1600 L2400 1600 L2400 0 L0 0  Z\n",
       "  \" fill=\"#ffffff\" fill-rule=\"evenodd\" fill-opacity=\"1\"/>\n",
       "<defs>\n",
       "  <clipPath id=\"clip361\">\n",
       "    <rect x=\"480\" y=\"0\" width=\"1681\" height=\"1600\"/>\n",
       "  </clipPath>\n",
       "</defs>\n",
       "<path clip-path=\"url(#clip360)\" d=\"\n",
       "M186.274 1486.45 L2352.76 1486.45 L2352.76 47.2441 L186.274 47.2441  Z\n",
       "  \" fill=\"#ffffff\" fill-rule=\"evenodd\" fill-opacity=\"1\"/>\n",
       "<defs>\n",
       "  <clipPath id=\"clip362\">\n",
       "    <rect x=\"186\" y=\"47\" width=\"2167\" height=\"1440\"/>\n",
       "  </clipPath>\n",
       "</defs>\n",
       "<polyline clip-path=\"url(#clip362)\" style=\"stroke:#000000; stroke-linecap:butt; stroke-linejoin:round; stroke-width:2; stroke-opacity:0.1; fill:none\" points=\"\n",
       "  226.945,1486.45 226.945,47.2441 \n",
       "  \"/>\n",
       "<polyline clip-path=\"url(#clip362)\" style=\"stroke:#000000; stroke-linecap:butt; stroke-linejoin:round; stroke-width:2; stroke-opacity:0.1; fill:none\" points=\"\n",
       "  743.069,1486.45 743.069,47.2441 \n",
       "  \"/>\n",
       "<polyline clip-path=\"url(#clip362)\" style=\"stroke:#000000; stroke-linecap:butt; stroke-linejoin:round; stroke-width:2; stroke-opacity:0.1; fill:none\" points=\"\n",
       "  1259.19,1486.45 1259.19,47.2441 \n",
       "  \"/>\n",
       "<polyline clip-path=\"url(#clip362)\" style=\"stroke:#000000; stroke-linecap:butt; stroke-linejoin:round; stroke-width:2; stroke-opacity:0.1; fill:none\" points=\"\n",
       "  1775.32,1486.45 1775.32,47.2441 \n",
       "  \"/>\n",
       "<polyline clip-path=\"url(#clip362)\" style=\"stroke:#000000; stroke-linecap:butt; stroke-linejoin:round; stroke-width:2; stroke-opacity:0.1; fill:none\" points=\"\n",
       "  2291.44,1486.45 2291.44,47.2441 \n",
       "  \"/>\n",
       "<polyline clip-path=\"url(#clip360)\" style=\"stroke:#000000; stroke-linecap:butt; stroke-linejoin:round; stroke-width:4; stroke-opacity:1; fill:none\" points=\"\n",
       "  186.274,1486.45 2352.76,1486.45 \n",
       "  \"/>\n",
       "<polyline clip-path=\"url(#clip360)\" style=\"stroke:#000000; stroke-linecap:butt; stroke-linejoin:round; stroke-width:4; stroke-opacity:1; fill:none\" points=\"\n",
       "  226.945,1486.45 226.945,1467.55 \n",
       "  \"/>\n",
       "<polyline clip-path=\"url(#clip360)\" style=\"stroke:#000000; stroke-linecap:butt; stroke-linejoin:round; stroke-width:4; stroke-opacity:1; fill:none\" points=\"\n",
       "  743.069,1486.45 743.069,1467.55 \n",
       "  \"/>\n",
       "<polyline clip-path=\"url(#clip360)\" style=\"stroke:#000000; stroke-linecap:butt; stroke-linejoin:round; stroke-width:4; stroke-opacity:1; fill:none\" points=\"\n",
       "  1259.19,1486.45 1259.19,1467.55 \n",
       "  \"/>\n",
       "<polyline clip-path=\"url(#clip360)\" style=\"stroke:#000000; stroke-linecap:butt; stroke-linejoin:round; stroke-width:4; stroke-opacity:1; fill:none\" points=\"\n",
       "  1775.32,1486.45 1775.32,1467.55 \n",
       "  \"/>\n",
       "<polyline clip-path=\"url(#clip360)\" style=\"stroke:#000000; stroke-linecap:butt; stroke-linejoin:round; stroke-width:4; stroke-opacity:1; fill:none\" points=\"\n",
       "  2291.44,1486.45 2291.44,1467.55 \n",
       "  \"/>\n",
       "<path clip-path=\"url(#clip360)\" d=\"M226.945 1517.37 Q223.333 1517.37 221.505 1520.93 Q219.699 1524.47 219.699 1531.6 Q219.699 1538.71 221.505 1542.27 Q223.333 1545.82 226.945 1545.82 Q230.579 1545.82 232.384 1542.27 Q234.213 1538.71 234.213 1531.6 Q234.213 1524.47 232.384 1520.93 Q230.579 1517.37 226.945 1517.37 M226.945 1513.66 Q232.755 1513.66 235.81 1518.27 Q238.889 1522.85 238.889 1531.6 Q238.889 1540.33 235.81 1544.94 Q232.755 1549.52 226.945 1549.52 Q221.134 1549.52 218.056 1544.94 Q215 1540.33 215 1531.6 Q215 1522.85 218.056 1518.27 Q221.134 1513.66 226.945 1513.66 Z\" fill=\"#000000\" fill-rule=\"evenodd\" fill-opacity=\"1\" /><path clip-path=\"url(#clip360)\" d=\"M706.761 1544.91 L723.08 1544.91 L723.08 1548.85 L701.136 1548.85 L701.136 1544.91 Q703.798 1542.16 708.381 1537.53 Q712.988 1532.88 714.168 1531.53 Q716.414 1529.01 717.293 1527.27 Q718.196 1525.51 718.196 1523.82 Q718.196 1521.07 716.252 1519.33 Q714.33 1517.6 711.228 1517.6 Q709.029 1517.6 706.576 1518.36 Q704.145 1519.13 701.367 1520.68 L701.367 1515.95 Q704.191 1514.82 706.645 1514.24 Q709.099 1513.66 711.136 1513.66 Q716.506 1513.66 719.701 1516.35 Q722.895 1519.03 722.895 1523.52 Q722.895 1525.65 722.085 1527.57 Q721.298 1529.47 719.191 1532.07 Q718.613 1532.74 715.511 1535.95 Q712.409 1539.15 706.761 1544.91 Z\" fill=\"#000000\" fill-rule=\"evenodd\" fill-opacity=\"1\" /><path clip-path=\"url(#clip360)\" d=\"M732.941 1514.29 L751.298 1514.29 L751.298 1518.22 L737.224 1518.22 L737.224 1526.7 Q738.242 1526.35 739.261 1526.19 Q740.279 1526 741.298 1526 Q747.085 1526 750.464 1529.17 Q753.844 1532.34 753.844 1537.76 Q753.844 1543.34 750.372 1546.44 Q746.9 1549.52 740.58 1549.52 Q738.404 1549.52 736.136 1549.15 Q733.89 1548.78 731.483 1548.04 L731.483 1543.34 Q733.566 1544.47 735.788 1545.03 Q738.011 1545.58 740.488 1545.58 Q744.492 1545.58 746.83 1543.48 Q749.168 1541.37 749.168 1537.76 Q749.168 1534.15 746.83 1532.04 Q744.492 1529.94 740.488 1529.94 Q738.613 1529.94 736.738 1530.35 Q734.886 1530.77 732.941 1531.65 L732.941 1514.29 Z\" fill=\"#000000\" fill-rule=\"evenodd\" fill-opacity=\"1\" /><path clip-path=\"url(#clip360)\" d=\"M773.057 1517.37 Q769.446 1517.37 767.617 1520.93 Q765.811 1524.47 765.811 1531.6 Q765.811 1538.71 767.617 1542.27 Q769.446 1545.82 773.057 1545.82 Q776.691 1545.82 778.497 1542.27 Q780.325 1538.71 780.325 1531.6 Q780.325 1524.47 778.497 1520.93 Q776.691 1517.37 773.057 1517.37 M773.057 1513.66 Q778.867 1513.66 781.922 1518.27 Q785.001 1522.85 785.001 1531.6 Q785.001 1540.33 781.922 1544.94 Q778.867 1549.52 773.057 1549.52 Q767.247 1549.52 764.168 1544.94 Q761.112 1540.33 761.112 1531.6 Q761.112 1522.85 764.168 1518.27 Q767.247 1513.66 773.057 1513.66 Z\" fill=\"#000000\" fill-rule=\"evenodd\" fill-opacity=\"1\" /><path clip-path=\"url(#clip360)\" d=\"M1218.81 1514.29 L1237.17 1514.29 L1237.17 1518.22 L1223.09 1518.22 L1223.09 1526.7 Q1224.11 1526.35 1225.13 1526.19 Q1226.15 1526 1227.17 1526 Q1232.95 1526 1236.33 1529.17 Q1239.71 1532.34 1239.71 1537.76 Q1239.71 1543.34 1236.24 1546.44 Q1232.77 1549.52 1226.45 1549.52 Q1224.27 1549.52 1222.01 1549.15 Q1219.76 1548.78 1217.35 1548.04 L1217.35 1543.34 Q1219.44 1544.47 1221.66 1545.03 Q1223.88 1545.58 1226.36 1545.58 Q1230.36 1545.58 1232.7 1543.48 Q1235.04 1541.37 1235.04 1537.76 Q1235.04 1534.15 1232.7 1532.04 Q1230.36 1529.94 1226.36 1529.94 Q1224.48 1529.94 1222.61 1530.35 Q1220.76 1530.77 1218.81 1531.65 L1218.81 1514.29 Z\" fill=\"#000000\" fill-rule=\"evenodd\" fill-opacity=\"1\" /><path clip-path=\"url(#clip360)\" d=\"M1258.93 1517.37 Q1255.32 1517.37 1253.49 1520.93 Q1251.68 1524.47 1251.68 1531.6 Q1251.68 1538.71 1253.49 1542.27 Q1255.32 1545.82 1258.93 1545.82 Q1262.56 1545.82 1264.37 1542.27 Q1266.19 1538.71 1266.19 1531.6 Q1266.19 1524.47 1264.37 1520.93 Q1262.56 1517.37 1258.93 1517.37 M1258.93 1513.66 Q1264.74 1513.66 1267.79 1518.27 Q1270.87 1522.85 1270.87 1531.6 Q1270.87 1540.33 1267.79 1544.94 Q1264.74 1549.52 1258.93 1549.52 Q1253.12 1549.52 1250.04 1544.94 Q1246.98 1540.33 1246.98 1531.6 Q1246.98 1522.85 1250.04 1518.27 Q1253.12 1513.66 1258.93 1513.66 Z\" fill=\"#000000\" fill-rule=\"evenodd\" fill-opacity=\"1\" /><path clip-path=\"url(#clip360)\" d=\"M1289.09 1517.37 Q1285.48 1517.37 1283.65 1520.93 Q1281.84 1524.47 1281.84 1531.6 Q1281.84 1538.71 1283.65 1542.27 Q1285.48 1545.82 1289.09 1545.82 Q1292.72 1545.82 1294.53 1542.27 Q1296.36 1538.71 1296.36 1531.6 Q1296.36 1524.47 1294.53 1520.93 Q1292.72 1517.37 1289.09 1517.37 M1289.09 1513.66 Q1294.9 1513.66 1297.95 1518.27 Q1301.03 1522.85 1301.03 1531.6 Q1301.03 1540.33 1297.95 1544.94 Q1294.9 1549.52 1289.09 1549.52 Q1283.28 1549.52 1280.2 1544.94 Q1277.14 1540.33 1277.14 1531.6 Q1277.14 1522.85 1280.2 1518.27 Q1283.28 1513.66 1289.09 1513.66 Z\" fill=\"#000000\" fill-rule=\"evenodd\" fill-opacity=\"1\" /><path clip-path=\"url(#clip360)\" d=\"M1733.59 1514.29 L1755.81 1514.29 L1755.81 1516.28 L1743.27 1548.85 L1738.38 1548.85 L1750.19 1518.22 L1733.59 1518.22 L1733.59 1514.29 Z\" fill=\"#000000\" fill-rule=\"evenodd\" fill-opacity=\"1\" /><path clip-path=\"url(#clip360)\" d=\"M1764.98 1514.29 L1783.34 1514.29 L1783.34 1518.22 L1769.26 1518.22 L1769.26 1526.7 Q1770.28 1526.35 1771.3 1526.19 Q1772.32 1526 1773.34 1526 Q1779.12 1526 1782.5 1529.17 Q1785.88 1532.34 1785.88 1537.76 Q1785.88 1543.34 1782.41 1546.44 Q1778.94 1549.52 1772.62 1549.52 Q1770.44 1549.52 1768.18 1549.15 Q1765.93 1548.78 1763.52 1548.04 L1763.52 1543.34 Q1765.61 1544.47 1767.83 1545.03 Q1770.05 1545.58 1772.53 1545.58 Q1776.53 1545.58 1778.87 1543.48 Q1781.21 1541.37 1781.21 1537.76 Q1781.21 1534.15 1778.87 1532.04 Q1776.53 1529.94 1772.53 1529.94 Q1770.65 1529.94 1768.78 1530.35 Q1766.93 1530.77 1764.98 1531.65 L1764.98 1514.29 Z\" fill=\"#000000\" fill-rule=\"evenodd\" fill-opacity=\"1\" /><path clip-path=\"url(#clip360)\" d=\"M1805.1 1517.37 Q1801.49 1517.37 1799.66 1520.93 Q1797.85 1524.47 1797.85 1531.6 Q1797.85 1538.71 1799.66 1542.27 Q1801.49 1545.82 1805.1 1545.82 Q1808.73 1545.82 1810.54 1542.27 Q1812.36 1538.71 1812.36 1531.6 Q1812.36 1524.47 1810.54 1520.93 Q1808.73 1517.37 1805.1 1517.37 M1805.1 1513.66 Q1810.91 1513.66 1813.96 1518.27 Q1817.04 1522.85 1817.04 1531.6 Q1817.04 1540.33 1813.96 1544.94 Q1810.91 1549.52 1805.1 1549.52 Q1799.29 1549.52 1796.21 1544.94 Q1793.15 1540.33 1793.15 1531.6 Q1793.15 1522.85 1796.21 1518.27 Q1799.29 1513.66 1805.1 1513.66 Z\" fill=\"#000000\" fill-rule=\"evenodd\" fill-opacity=\"1\" /><path clip-path=\"url(#clip360)\" d=\"M2235.97 1544.91 L2243.6 1544.91 L2243.6 1518.55 L2235.29 1520.21 L2235.29 1515.95 L2243.56 1514.29 L2248.23 1514.29 L2248.23 1544.91 L2255.87 1544.91 L2255.87 1548.85 L2235.97 1548.85 L2235.97 1544.91 Z\" fill=\"#000000\" fill-rule=\"evenodd\" fill-opacity=\"1\" /><path clip-path=\"url(#clip360)\" d=\"M2275.32 1517.37 Q2271.71 1517.37 2269.88 1520.93 Q2268.07 1524.47 2268.07 1531.6 Q2268.07 1538.71 2269.88 1542.27 Q2271.71 1545.82 2275.32 1545.82 Q2278.95 1545.82 2280.76 1542.27 Q2282.59 1538.71 2282.59 1531.6 Q2282.59 1524.47 2280.76 1520.93 Q2278.95 1517.37 2275.32 1517.37 M2275.32 1513.66 Q2281.13 1513.66 2284.18 1518.27 Q2287.26 1522.85 2287.26 1531.6 Q2287.26 1540.33 2284.18 1544.94 Q2281.13 1549.52 2275.32 1549.52 Q2269.51 1549.52 2266.43 1544.94 Q2263.37 1540.33 2263.37 1531.6 Q2263.37 1522.85 2266.43 1518.27 Q2269.51 1513.66 2275.32 1513.66 Z\" fill=\"#000000\" fill-rule=\"evenodd\" fill-opacity=\"1\" /><path clip-path=\"url(#clip360)\" d=\"M2305.48 1517.37 Q2301.87 1517.37 2300.04 1520.93 Q2298.23 1524.47 2298.23 1531.6 Q2298.23 1538.71 2300.04 1542.27 Q2301.87 1545.82 2305.48 1545.82 Q2309.11 1545.82 2310.92 1542.27 Q2312.75 1538.71 2312.75 1531.6 Q2312.75 1524.47 2310.92 1520.93 Q2309.11 1517.37 2305.48 1517.37 M2305.48 1513.66 Q2311.29 1513.66 2314.35 1518.27 Q2317.42 1522.85 2317.42 1531.6 Q2317.42 1540.33 2314.35 1544.94 Q2311.29 1549.52 2305.48 1549.52 Q2299.67 1549.52 2296.59 1544.94 Q2293.54 1540.33 2293.54 1531.6 Q2293.54 1522.85 2296.59 1518.27 Q2299.67 1513.66 2305.48 1513.66 Z\" fill=\"#000000\" fill-rule=\"evenodd\" fill-opacity=\"1\" /><path clip-path=\"url(#clip360)\" d=\"M2335.64 1517.37 Q2332.03 1517.37 2330.2 1520.93 Q2328.4 1524.47 2328.4 1531.6 Q2328.4 1538.71 2330.2 1542.27 Q2332.03 1545.82 2335.64 1545.82 Q2339.28 1545.82 2341.08 1542.27 Q2342.91 1538.71 2342.91 1531.6 Q2342.91 1524.47 2341.08 1520.93 Q2339.28 1517.37 2335.64 1517.37 M2335.64 1513.66 Q2341.45 1513.66 2344.51 1518.27 Q2347.59 1522.85 2347.59 1531.6 Q2347.59 1540.33 2344.51 1544.94 Q2341.45 1549.52 2335.64 1549.52 Q2329.83 1549.52 2326.75 1544.94 Q2323.7 1540.33 2323.7 1531.6 Q2323.7 1522.85 2326.75 1518.27 Q2329.83 1513.66 2335.64 1513.66 Z\" fill=\"#000000\" fill-rule=\"evenodd\" fill-opacity=\"1\" /><polyline clip-path=\"url(#clip362)\" style=\"stroke:#000000; stroke-linecap:butt; stroke-linejoin:round; stroke-width:2; stroke-opacity:0.1; fill:none\" points=\"\n",
       "  186.274,1318.04 2352.76,1318.04 \n",
       "  \"/>\n",
       "<polyline clip-path=\"url(#clip362)\" style=\"stroke:#000000; stroke-linecap:butt; stroke-linejoin:round; stroke-width:2; stroke-opacity:0.1; fill:none\" points=\"\n",
       "  186.274,1048.04 2352.76,1048.04 \n",
       "  \"/>\n",
       "<polyline clip-path=\"url(#clip362)\" style=\"stroke:#000000; stroke-linecap:butt; stroke-linejoin:round; stroke-width:2; stroke-opacity:0.1; fill:none\" points=\"\n",
       "  186.274,778.036 2352.76,778.036 \n",
       "  \"/>\n",
       "<polyline clip-path=\"url(#clip362)\" style=\"stroke:#000000; stroke-linecap:butt; stroke-linejoin:round; stroke-width:2; stroke-opacity:0.1; fill:none\" points=\"\n",
       "  186.274,508.034 2352.76,508.034 \n",
       "  \"/>\n",
       "<polyline clip-path=\"url(#clip362)\" style=\"stroke:#000000; stroke-linecap:butt; stroke-linejoin:round; stroke-width:2; stroke-opacity:0.1; fill:none\" points=\"\n",
       "  186.274,238.033 2352.76,238.033 \n",
       "  \"/>\n",
       "<polyline clip-path=\"url(#clip360)\" style=\"stroke:#000000; stroke-linecap:butt; stroke-linejoin:round; stroke-width:4; stroke-opacity:1; fill:none\" points=\"\n",
       "  186.274,1486.45 186.274,47.2441 \n",
       "  \"/>\n",
       "<polyline clip-path=\"url(#clip360)\" style=\"stroke:#000000; stroke-linecap:butt; stroke-linejoin:round; stroke-width:4; stroke-opacity:1; fill:none\" points=\"\n",
       "  186.274,1318.04 205.172,1318.04 \n",
       "  \"/>\n",
       "<polyline clip-path=\"url(#clip360)\" style=\"stroke:#000000; stroke-linecap:butt; stroke-linejoin:round; stroke-width:4; stroke-opacity:1; fill:none\" points=\"\n",
       "  186.274,1048.04 205.172,1048.04 \n",
       "  \"/>\n",
       "<polyline clip-path=\"url(#clip360)\" style=\"stroke:#000000; stroke-linecap:butt; stroke-linejoin:round; stroke-width:4; stroke-opacity:1; fill:none\" points=\"\n",
       "  186.274,778.036 205.172,778.036 \n",
       "  \"/>\n",
       "<polyline clip-path=\"url(#clip360)\" style=\"stroke:#000000; stroke-linecap:butt; stroke-linejoin:round; stroke-width:4; stroke-opacity:1; fill:none\" points=\"\n",
       "  186.274,508.034 205.172,508.034 \n",
       "  \"/>\n",
       "<polyline clip-path=\"url(#clip360)\" style=\"stroke:#000000; stroke-linecap:butt; stroke-linejoin:round; stroke-width:4; stroke-opacity:1; fill:none\" points=\"\n",
       "  186.274,238.033 205.172,238.033 \n",
       "  \"/>\n",
       "<path clip-path=\"url(#clip360)\" d=\"M63.9319 1303.84 Q60.3208 1303.84 58.4921 1307.4 Q56.6865 1310.94 56.6865 1318.07 Q56.6865 1325.18 58.4921 1328.74 Q60.3208 1332.29 63.9319 1332.29 Q67.5661 1332.29 69.3717 1328.74 Q71.2004 1325.18 71.2004 1318.07 Q71.2004 1310.94 69.3717 1307.4 Q67.5661 1303.84 63.9319 1303.84 M63.9319 1300.13 Q69.742 1300.13 72.7976 1304.74 Q75.8763 1309.32 75.8763 1318.07 Q75.8763 1326.8 72.7976 1331.41 Q69.742 1335.99 63.9319 1335.99 Q58.1217 1335.99 55.043 1331.41 Q51.9875 1326.8 51.9875 1318.07 Q51.9875 1309.32 55.043 1304.74 Q58.1217 1300.13 63.9319 1300.13 Z\" fill=\"#000000\" fill-rule=\"evenodd\" fill-opacity=\"1\" /><path clip-path=\"url(#clip360)\" d=\"M84.0938 1329.44 L88.978 1329.44 L88.978 1335.32 L84.0938 1335.32 L84.0938 1329.44 Z\" fill=\"#000000\" fill-rule=\"evenodd\" fill-opacity=\"1\" /><path clip-path=\"url(#clip360)\" d=\"M103.191 1331.38 L119.51 1331.38 L119.51 1335.32 L97.566 1335.32 L97.566 1331.38 Q100.228 1328.63 104.811 1324 Q109.418 1319.35 110.598 1318 Q112.844 1315.48 113.723 1313.74 Q114.626 1311.99 114.626 1310.3 Q114.626 1307.54 112.682 1305.81 Q110.76 1304.07 107.658 1304.07 Q105.459 1304.07 103.006 1304.83 Q100.575 1305.6 97.7974 1307.15 L97.7974 1302.43 Q100.621 1301.29 103.075 1300.71 Q105.529 1300.13 107.566 1300.13 Q112.936 1300.13 116.131 1302.82 Q119.325 1305.5 119.325 1309.99 Q119.325 1312.12 118.515 1314.05 Q117.728 1315.94 115.621 1318.54 Q115.043 1319.21 111.941 1322.43 Q108.839 1325.62 103.191 1331.38 Z\" fill=\"#000000\" fill-rule=\"evenodd\" fill-opacity=\"1\" /><path clip-path=\"url(#clip360)\" d=\"M129.371 1300.76 L147.728 1300.76 L147.728 1304.69 L133.654 1304.69 L133.654 1313.17 Q134.672 1312.82 135.691 1312.66 Q136.709 1312.47 137.728 1312.47 Q143.515 1312.47 146.894 1315.64 Q150.274 1318.81 150.274 1324.23 Q150.274 1329.81 146.802 1332.91 Q143.33 1335.99 137.01 1335.99 Q134.834 1335.99 132.566 1335.62 Q130.32 1335.25 127.913 1334.51 L127.913 1329.81 Q129.996 1330.94 132.219 1331.5 Q134.441 1332.05 136.918 1332.05 Q140.922 1332.05 143.26 1329.95 Q145.598 1327.84 145.598 1324.23 Q145.598 1320.62 143.26 1318.51 Q140.922 1316.41 136.918 1316.41 Q135.043 1316.41 133.168 1316.82 Q131.316 1317.24 129.371 1318.12 L129.371 1300.76 Z\" fill=\"#000000\" fill-rule=\"evenodd\" fill-opacity=\"1\" /><path clip-path=\"url(#clip360)\" d=\"M62.9365 1033.84 Q59.3254 1033.84 57.4967 1037.4 Q55.6912 1040.94 55.6912 1048.07 Q55.6912 1055.18 57.4967 1058.74 Q59.3254 1062.28 62.9365 1062.28 Q66.5707 1062.28 68.3763 1058.74 Q70.205 1055.18 70.205 1048.07 Q70.205 1040.94 68.3763 1037.4 Q66.5707 1033.84 62.9365 1033.84 M62.9365 1030.13 Q68.7467 1030.13 71.8022 1034.74 Q74.8809 1039.32 74.8809 1048.07 Q74.8809 1056.8 71.8022 1061.41 Q68.7467 1065.99 62.9365 1065.99 Q57.1264 1065.99 54.0477 1061.41 Q50.9921 1056.8 50.9921 1048.07 Q50.9921 1039.32 54.0477 1034.74 Q57.1264 1030.13 62.9365 1030.13 Z\" fill=\"#000000\" fill-rule=\"evenodd\" fill-opacity=\"1\" /><path clip-path=\"url(#clip360)\" d=\"M83.0984 1059.44 L87.9827 1059.44 L87.9827 1065.32 L83.0984 1065.32 L83.0984 1059.44 Z\" fill=\"#000000\" fill-rule=\"evenodd\" fill-opacity=\"1\" /><path clip-path=\"url(#clip360)\" d=\"M98.2141 1030.76 L116.57 1030.76 L116.57 1034.69 L102.496 1034.69 L102.496 1043.16 Q103.515 1042.82 104.534 1042.66 Q105.552 1042.47 106.571 1042.47 Q112.358 1042.47 115.737 1045.64 Q119.117 1048.81 119.117 1054.23 Q119.117 1059.81 115.645 1062.91 Q112.172 1065.99 105.853 1065.99 Q103.677 1065.99 101.409 1065.62 Q99.1632 1065.25 96.7558 1064.51 L96.7558 1059.81 Q98.8391 1060.94 101.061 1061.5 Q103.284 1062.05 105.76 1062.05 Q109.765 1062.05 112.103 1059.95 Q114.441 1057.84 114.441 1054.23 Q114.441 1050.62 112.103 1048.51 Q109.765 1046.41 105.76 1046.41 Q103.885 1046.41 102.01 1046.82 Q100.159 1047.24 98.2141 1048.12 L98.2141 1030.76 Z\" fill=\"#000000\" fill-rule=\"evenodd\" fill-opacity=\"1\" /><path clip-path=\"url(#clip360)\" d=\"M138.33 1033.84 Q134.719 1033.84 132.89 1037.4 Q131.084 1040.94 131.084 1048.07 Q131.084 1055.18 132.89 1058.74 Q134.719 1062.28 138.33 1062.28 Q141.964 1062.28 143.769 1058.74 Q145.598 1055.18 145.598 1048.07 Q145.598 1040.94 143.769 1037.4 Q141.964 1033.84 138.33 1033.84 M138.33 1030.13 Q144.14 1030.13 147.195 1034.74 Q150.274 1039.32 150.274 1048.07 Q150.274 1056.8 147.195 1061.41 Q144.14 1065.99 138.33 1065.99 Q132.519 1065.99 129.441 1061.41 Q126.385 1056.8 126.385 1048.07 Q126.385 1039.32 129.441 1034.74 Q132.519 1030.13 138.33 1030.13 Z\" fill=\"#000000\" fill-rule=\"evenodd\" fill-opacity=\"1\" /><path clip-path=\"url(#clip360)\" d=\"M63.9319 763.834 Q60.3208 763.834 58.4921 767.399 Q56.6865 770.941 56.6865 778.07 Q56.6865 785.177 58.4921 788.742 Q60.3208 792.283 63.9319 792.283 Q67.5661 792.283 69.3717 788.742 Q71.2004 785.177 71.2004 778.07 Q71.2004 770.941 69.3717 767.399 Q67.5661 763.834 63.9319 763.834 M63.9319 760.131 Q69.742 760.131 72.7976 764.737 Q75.8763 769.32 75.8763 778.07 Q75.8763 786.797 72.7976 791.404 Q69.742 795.987 63.9319 795.987 Q58.1217 795.987 55.043 791.404 Q51.9875 786.797 51.9875 778.07 Q51.9875 769.32 55.043 764.737 Q58.1217 760.131 63.9319 760.131 Z\" fill=\"#000000\" fill-rule=\"evenodd\" fill-opacity=\"1\" /><path clip-path=\"url(#clip360)\" d=\"M84.0938 789.436 L88.978 789.436 L88.978 795.316 L84.0938 795.316 L84.0938 789.436 Z\" fill=\"#000000\" fill-rule=\"evenodd\" fill-opacity=\"1\" /><path clip-path=\"url(#clip360)\" d=\"M97.9826 760.756 L120.205 760.756 L120.205 762.746 L107.658 795.316 L102.774 795.316 L114.58 764.691 L97.9826 764.691 L97.9826 760.756 Z\" fill=\"#000000\" fill-rule=\"evenodd\" fill-opacity=\"1\" /><path clip-path=\"url(#clip360)\" d=\"M129.371 760.756 L147.728 760.756 L147.728 764.691 L133.654 764.691 L133.654 773.163 Q134.672 772.816 135.691 772.654 Q136.709 772.469 137.728 772.469 Q143.515 772.469 146.894 775.64 Q150.274 778.811 150.274 784.228 Q150.274 789.806 146.802 792.908 Q143.33 795.987 137.01 795.987 Q134.834 795.987 132.566 795.617 Q130.32 795.246 127.913 794.505 L127.913 789.806 Q129.996 790.941 132.219 791.496 Q134.441 792.052 136.918 792.052 Q140.922 792.052 143.26 789.945 Q145.598 787.839 145.598 784.228 Q145.598 780.617 143.26 778.51 Q140.922 776.404 136.918 776.404 Q135.043 776.404 133.168 776.82 Q131.316 777.237 129.371 778.117 L129.371 760.756 Z\" fill=\"#000000\" fill-rule=\"evenodd\" fill-opacity=\"1\" /><path clip-path=\"url(#clip360)\" d=\"M53.7467 521.379 L61.3856 521.379 L61.3856 495.013 L53.0754 496.68 L53.0754 492.421 L61.3393 490.754 L66.0152 490.754 L66.0152 521.379 L73.654 521.379 L73.654 525.314 L53.7467 525.314 L53.7467 521.379 Z\" fill=\"#000000\" fill-rule=\"evenodd\" fill-opacity=\"1\" /><path clip-path=\"url(#clip360)\" d=\"M83.0984 519.435 L87.9827 519.435 L87.9827 525.314 L83.0984 525.314 L83.0984 519.435 Z\" fill=\"#000000\" fill-rule=\"evenodd\" fill-opacity=\"1\" /><path clip-path=\"url(#clip360)\" d=\"M108.168 493.833 Q104.557 493.833 102.728 497.398 Q100.922 500.939 100.922 508.069 Q100.922 515.175 102.728 518.74 Q104.557 522.282 108.168 522.282 Q111.802 522.282 113.608 518.74 Q115.436 515.175 115.436 508.069 Q115.436 500.939 113.608 497.398 Q111.802 493.833 108.168 493.833 M108.168 490.129 Q113.978 490.129 117.033 494.736 Q120.112 499.319 120.112 508.069 Q120.112 516.796 117.033 521.402 Q113.978 525.985 108.168 525.985 Q102.358 525.985 99.2789 521.402 Q96.2234 516.796 96.2234 508.069 Q96.2234 499.319 99.2789 494.736 Q102.358 490.129 108.168 490.129 Z\" fill=\"#000000\" fill-rule=\"evenodd\" fill-opacity=\"1\" /><path clip-path=\"url(#clip360)\" d=\"M138.33 493.833 Q134.719 493.833 132.89 497.398 Q131.084 500.939 131.084 508.069 Q131.084 515.175 132.89 518.74 Q134.719 522.282 138.33 522.282 Q141.964 522.282 143.769 518.74 Q145.598 515.175 145.598 508.069 Q145.598 500.939 143.769 497.398 Q141.964 493.833 138.33 493.833 M138.33 490.129 Q144.14 490.129 147.195 494.736 Q150.274 499.319 150.274 508.069 Q150.274 516.796 147.195 521.402 Q144.14 525.985 138.33 525.985 Q132.519 525.985 129.441 521.402 Q126.385 516.796 126.385 508.069 Q126.385 499.319 129.441 494.736 Q132.519 490.129 138.33 490.129 Z\" fill=\"#000000\" fill-rule=\"evenodd\" fill-opacity=\"1\" /><path clip-path=\"url(#clip360)\" d=\"M54.7421 251.377 L62.381 251.377 L62.381 225.012 L54.0708 226.678 L54.0708 222.419 L62.3347 220.753 L67.0106 220.753 L67.0106 251.377 L74.6494 251.377 L74.6494 255.313 L54.7421 255.313 L54.7421 251.377 Z\" fill=\"#000000\" fill-rule=\"evenodd\" fill-opacity=\"1\" /><path clip-path=\"url(#clip360)\" d=\"M84.0938 249.433 L88.978 249.433 L88.978 255.313 L84.0938 255.313 L84.0938 249.433 Z\" fill=\"#000000\" fill-rule=\"evenodd\" fill-opacity=\"1\" /><path clip-path=\"url(#clip360)\" d=\"M103.191 251.377 L119.51 251.377 L119.51 255.313 L97.566 255.313 L97.566 251.377 Q100.228 248.623 104.811 243.993 Q109.418 239.34 110.598 237.998 Q112.844 235.475 113.723 233.739 Q114.626 231.979 114.626 230.29 Q114.626 227.535 112.682 225.799 Q110.76 224.063 107.658 224.063 Q105.459 224.063 103.006 224.827 Q100.575 225.591 97.7974 227.141 L97.7974 222.419 Q100.621 221.285 103.075 220.706 Q105.529 220.128 107.566 220.128 Q112.936 220.128 116.131 222.813 Q119.325 225.498 119.325 229.989 Q119.325 232.118 118.515 234.04 Q117.728 235.938 115.621 238.53 Q115.043 239.202 111.941 242.419 Q108.839 245.614 103.191 251.377 Z\" fill=\"#000000\" fill-rule=\"evenodd\" fill-opacity=\"1\" /><path clip-path=\"url(#clip360)\" d=\"M129.371 220.753 L147.728 220.753 L147.728 224.688 L133.654 224.688 L133.654 233.16 Q134.672 232.813 135.691 232.651 Q136.709 232.466 137.728 232.466 Q143.515 232.466 146.894 235.637 Q150.274 238.808 150.274 244.225 Q150.274 249.803 146.802 252.905 Q143.33 255.984 137.01 255.984 Q134.834 255.984 132.566 255.614 Q130.32 255.243 127.913 254.502 L127.913 249.803 Q129.996 250.938 132.219 251.493 Q134.441 252.049 136.918 252.049 Q140.922 252.049 143.26 249.942 Q145.598 247.836 145.598 244.225 Q145.598 240.614 143.26 238.507 Q140.922 236.401 136.918 236.401 Q135.043 236.401 133.168 236.817 Q131.316 237.234 129.371 238.114 L129.371 220.753 Z\" fill=\"#000000\" fill-rule=\"evenodd\" fill-opacity=\"1\" /><circle clip-path=\"url(#clip362)\" cx=\"247.59\" cy=\"87.9763\" r=\"14\" fill=\"#009af9\" fill-rule=\"evenodd\" fill-opacity=\"1\" stroke=\"#000000\" stroke-opacity=\"1\" stroke-width=\"3.2\"/>\n",
       "<circle clip-path=\"url(#clip362)\" cx=\"268.234\" cy=\"429.526\" r=\"14\" fill=\"#009af9\" fill-rule=\"evenodd\" fill-opacity=\"1\" stroke=\"#000000\" stroke-opacity=\"1\" stroke-width=\"3.2\"/>\n",
       "<circle clip-path=\"url(#clip362)\" cx=\"288.879\" cy=\"609.719\" r=\"14\" fill=\"#009af9\" fill-rule=\"evenodd\" fill-opacity=\"1\" stroke=\"#000000\" stroke-opacity=\"1\" stroke-width=\"3.2\"/>\n",
       "<circle clip-path=\"url(#clip362)\" cx=\"309.524\" cy=\"827.885\" r=\"14\" fill=\"#009af9\" fill-rule=\"evenodd\" fill-opacity=\"1\" stroke=\"#000000\" stroke-opacity=\"1\" stroke-width=\"3.2\"/>\n",
       "<circle clip-path=\"url(#clip362)\" cx=\"330.169\" cy=\"879.568\" r=\"14\" fill=\"#009af9\" fill-rule=\"evenodd\" fill-opacity=\"1\" stroke=\"#000000\" stroke-opacity=\"1\" stroke-width=\"3.2\"/>\n",
       "<circle clip-path=\"url(#clip362)\" cx=\"350.814\" cy=\"984.26\" r=\"14\" fill=\"#009af9\" fill-rule=\"evenodd\" fill-opacity=\"1\" stroke=\"#000000\" stroke-opacity=\"1\" stroke-width=\"3.2\"/>\n",
       "<circle clip-path=\"url(#clip362)\" cx=\"371.459\" cy=\"1102.81\" r=\"14\" fill=\"#009af9\" fill-rule=\"evenodd\" fill-opacity=\"1\" stroke=\"#000000\" stroke-opacity=\"1\" stroke-width=\"3.2\"/>\n",
       "<circle clip-path=\"url(#clip362)\" cx=\"392.104\" cy=\"1112.83\" r=\"14\" fill=\"#009af9\" fill-rule=\"evenodd\" fill-opacity=\"1\" stroke=\"#000000\" stroke-opacity=\"1\" stroke-width=\"3.2\"/>\n",
       "<circle clip-path=\"url(#clip362)\" cx=\"412.749\" cy=\"1123.62\" r=\"14\" fill=\"#009af9\" fill-rule=\"evenodd\" fill-opacity=\"1\" stroke=\"#000000\" stroke-opacity=\"1\" stroke-width=\"3.2\"/>\n",
       "<circle clip-path=\"url(#clip362)\" cx=\"433.394\" cy=\"1170.68\" r=\"14\" fill=\"#009af9\" fill-rule=\"evenodd\" fill-opacity=\"1\" stroke=\"#000000\" stroke-opacity=\"1\" stroke-width=\"3.2\"/>\n",
       "<circle clip-path=\"url(#clip362)\" cx=\"454.039\" cy=\"1216.23\" r=\"14\" fill=\"#009af9\" fill-rule=\"evenodd\" fill-opacity=\"1\" stroke=\"#000000\" stroke-opacity=\"1\" stroke-width=\"3.2\"/>\n",
       "<circle clip-path=\"url(#clip362)\" cx=\"474.684\" cy=\"1215.45\" r=\"14\" fill=\"#009af9\" fill-rule=\"evenodd\" fill-opacity=\"1\" stroke=\"#000000\" stroke-opacity=\"1\" stroke-width=\"3.2\"/>\n",
       "<circle clip-path=\"url(#clip362)\" cx=\"495.329\" cy=\"1186.74\" r=\"14\" fill=\"#009af9\" fill-rule=\"evenodd\" fill-opacity=\"1\" stroke=\"#000000\" stroke-opacity=\"1\" stroke-width=\"3.2\"/>\n",
       "<circle clip-path=\"url(#clip362)\" cx=\"515.974\" cy=\"1184.74\" r=\"14\" fill=\"#009af9\" fill-rule=\"evenodd\" fill-opacity=\"1\" stroke=\"#000000\" stroke-opacity=\"1\" stroke-width=\"3.2\"/>\n",
       "<circle clip-path=\"url(#clip362)\" cx=\"536.619\" cy=\"1199.71\" r=\"14\" fill=\"#009af9\" fill-rule=\"evenodd\" fill-opacity=\"1\" stroke=\"#000000\" stroke-opacity=\"1\" stroke-width=\"3.2\"/>\n",
       "<circle clip-path=\"url(#clip362)\" cx=\"557.264\" cy=\"1230.03\" r=\"14\" fill=\"#009af9\" fill-rule=\"evenodd\" fill-opacity=\"1\" stroke=\"#000000\" stroke-opacity=\"1\" stroke-width=\"3.2\"/>\n",
       "<circle clip-path=\"url(#clip362)\" cx=\"577.909\" cy=\"1254.85\" r=\"14\" fill=\"#009af9\" fill-rule=\"evenodd\" fill-opacity=\"1\" stroke=\"#000000\" stroke-opacity=\"1\" stroke-width=\"3.2\"/>\n",
       "<circle clip-path=\"url(#clip362)\" cx=\"598.554\" cy=\"1262.15\" r=\"14\" fill=\"#009af9\" fill-rule=\"evenodd\" fill-opacity=\"1\" stroke=\"#000000\" stroke-opacity=\"1\" stroke-width=\"3.2\"/>\n",
       "<circle clip-path=\"url(#clip362)\" cx=\"619.199\" cy=\"1272.53\" r=\"14\" fill=\"#009af9\" fill-rule=\"evenodd\" fill-opacity=\"1\" stroke=\"#000000\" stroke-opacity=\"1\" stroke-width=\"3.2\"/>\n",
       "<circle clip-path=\"url(#clip362)\" cx=\"639.844\" cy=\"1243.27\" r=\"14\" fill=\"#009af9\" fill-rule=\"evenodd\" fill-opacity=\"1\" stroke=\"#000000\" stroke-opacity=\"1\" stroke-width=\"3.2\"/>\n",
       "<circle clip-path=\"url(#clip362)\" cx=\"660.489\" cy=\"1264.72\" r=\"14\" fill=\"#009af9\" fill-rule=\"evenodd\" fill-opacity=\"1\" stroke=\"#000000\" stroke-opacity=\"1\" stroke-width=\"3.2\"/>\n",
       "<circle clip-path=\"url(#clip362)\" cx=\"681.134\" cy=\"1281.13\" r=\"14\" fill=\"#009af9\" fill-rule=\"evenodd\" fill-opacity=\"1\" stroke=\"#000000\" stroke-opacity=\"1\" stroke-width=\"3.2\"/>\n",
       "<circle clip-path=\"url(#clip362)\" cx=\"701.779\" cy=\"1277.46\" r=\"14\" fill=\"#009af9\" fill-rule=\"evenodd\" fill-opacity=\"1\" stroke=\"#000000\" stroke-opacity=\"1\" stroke-width=\"3.2\"/>\n",
       "<circle clip-path=\"url(#clip362)\" cx=\"722.424\" cy=\"1283.94\" r=\"14\" fill=\"#009af9\" fill-rule=\"evenodd\" fill-opacity=\"1\" stroke=\"#000000\" stroke-opacity=\"1\" stroke-width=\"3.2\"/>\n",
       "<circle clip-path=\"url(#clip362)\" cx=\"743.069\" cy=\"1288.62\" r=\"14\" fill=\"#009af9\" fill-rule=\"evenodd\" fill-opacity=\"1\" stroke=\"#000000\" stroke-opacity=\"1\" stroke-width=\"3.2\"/>\n",
       "<circle clip-path=\"url(#clip362)\" cx=\"763.713\" cy=\"1301.68\" r=\"14\" fill=\"#009af9\" fill-rule=\"evenodd\" fill-opacity=\"1\" stroke=\"#000000\" stroke-opacity=\"1\" stroke-width=\"3.2\"/>\n",
       "<circle clip-path=\"url(#clip362)\" cx=\"784.358\" cy=\"1305.38\" r=\"14\" fill=\"#009af9\" fill-rule=\"evenodd\" fill-opacity=\"1\" stroke=\"#000000\" stroke-opacity=\"1\" stroke-width=\"3.2\"/>\n",
       "<circle clip-path=\"url(#clip362)\" cx=\"805.003\" cy=\"1319.09\" r=\"14\" fill=\"#009af9\" fill-rule=\"evenodd\" fill-opacity=\"1\" stroke=\"#000000\" stroke-opacity=\"1\" stroke-width=\"3.2\"/>\n",
       "<circle clip-path=\"url(#clip362)\" cx=\"825.648\" cy=\"1325.8\" r=\"14\" fill=\"#009af9\" fill-rule=\"evenodd\" fill-opacity=\"1\" stroke=\"#000000\" stroke-opacity=\"1\" stroke-width=\"3.2\"/>\n",
       "<circle clip-path=\"url(#clip362)\" cx=\"846.293\" cy=\"1327.69\" r=\"14\" fill=\"#009af9\" fill-rule=\"evenodd\" fill-opacity=\"1\" stroke=\"#000000\" stroke-opacity=\"1\" stroke-width=\"3.2\"/>\n",
       "<circle clip-path=\"url(#clip362)\" cx=\"866.938\" cy=\"1337.41\" r=\"14\" fill=\"#009af9\" fill-rule=\"evenodd\" fill-opacity=\"1\" stroke=\"#000000\" stroke-opacity=\"1\" stroke-width=\"3.2\"/>\n",
       "<circle clip-path=\"url(#clip362)\" cx=\"887.583\" cy=\"1339.99\" r=\"14\" fill=\"#009af9\" fill-rule=\"evenodd\" fill-opacity=\"1\" stroke=\"#000000\" stroke-opacity=\"1\" stroke-width=\"3.2\"/>\n",
       "<circle clip-path=\"url(#clip362)\" cx=\"908.228\" cy=\"1347.78\" r=\"14\" fill=\"#009af9\" fill-rule=\"evenodd\" fill-opacity=\"1\" stroke=\"#000000\" stroke-opacity=\"1\" stroke-width=\"3.2\"/>\n",
       "<circle clip-path=\"url(#clip362)\" cx=\"928.873\" cy=\"1347.07\" r=\"14\" fill=\"#009af9\" fill-rule=\"evenodd\" fill-opacity=\"1\" stroke=\"#000000\" stroke-opacity=\"1\" stroke-width=\"3.2\"/>\n",
       "<circle clip-path=\"url(#clip362)\" cx=\"949.518\" cy=\"1348.25\" r=\"14\" fill=\"#009af9\" fill-rule=\"evenodd\" fill-opacity=\"1\" stroke=\"#000000\" stroke-opacity=\"1\" stroke-width=\"3.2\"/>\n",
       "<circle clip-path=\"url(#clip362)\" cx=\"970.163\" cy=\"1357.03\" r=\"14\" fill=\"#009af9\" fill-rule=\"evenodd\" fill-opacity=\"1\" stroke=\"#000000\" stroke-opacity=\"1\" stroke-width=\"3.2\"/>\n",
       "<circle clip-path=\"url(#clip362)\" cx=\"990.808\" cy=\"1362.46\" r=\"14\" fill=\"#009af9\" fill-rule=\"evenodd\" fill-opacity=\"1\" stroke=\"#000000\" stroke-opacity=\"1\" stroke-width=\"3.2\"/>\n",
       "<circle clip-path=\"url(#clip362)\" cx=\"1011.45\" cy=\"1367.37\" r=\"14\" fill=\"#009af9\" fill-rule=\"evenodd\" fill-opacity=\"1\" stroke=\"#000000\" stroke-opacity=\"1\" stroke-width=\"3.2\"/>\n",
       "<circle clip-path=\"url(#clip362)\" cx=\"1032.1\" cy=\"1370.1\" r=\"14\" fill=\"#009af9\" fill-rule=\"evenodd\" fill-opacity=\"1\" stroke=\"#000000\" stroke-opacity=\"1\" stroke-width=\"3.2\"/>\n",
       "<circle clip-path=\"url(#clip362)\" cx=\"1052.74\" cy=\"1367.78\" r=\"14\" fill=\"#009af9\" fill-rule=\"evenodd\" fill-opacity=\"1\" stroke=\"#000000\" stroke-opacity=\"1\" stroke-width=\"3.2\"/>\n",
       "<circle clip-path=\"url(#clip362)\" cx=\"1073.39\" cy=\"1368.39\" r=\"14\" fill=\"#009af9\" fill-rule=\"evenodd\" fill-opacity=\"1\" stroke=\"#000000\" stroke-opacity=\"1\" stroke-width=\"3.2\"/>\n",
       "<circle clip-path=\"url(#clip362)\" cx=\"1094.03\" cy=\"1373.84\" r=\"14\" fill=\"#009af9\" fill-rule=\"evenodd\" fill-opacity=\"1\" stroke=\"#000000\" stroke-opacity=\"1\" stroke-width=\"3.2\"/>\n",
       "<circle clip-path=\"url(#clip362)\" cx=\"1114.68\" cy=\"1373.73\" r=\"14\" fill=\"#009af9\" fill-rule=\"evenodd\" fill-opacity=\"1\" stroke=\"#000000\" stroke-opacity=\"1\" stroke-width=\"3.2\"/>\n",
       "<circle clip-path=\"url(#clip362)\" cx=\"1135.32\" cy=\"1368.93\" r=\"14\" fill=\"#009af9\" fill-rule=\"evenodd\" fill-opacity=\"1\" stroke=\"#000000\" stroke-opacity=\"1\" stroke-width=\"3.2\"/>\n",
       "<circle clip-path=\"url(#clip362)\" cx=\"1155.97\" cy=\"1376.89\" r=\"14\" fill=\"#009af9\" fill-rule=\"evenodd\" fill-opacity=\"1\" stroke=\"#000000\" stroke-opacity=\"1\" stroke-width=\"3.2\"/>\n",
       "<circle clip-path=\"url(#clip362)\" cx=\"1176.61\" cy=\"1377.41\" r=\"14\" fill=\"#009af9\" fill-rule=\"evenodd\" fill-opacity=\"1\" stroke=\"#000000\" stroke-opacity=\"1\" stroke-width=\"3.2\"/>\n",
       "<circle clip-path=\"url(#clip362)\" cx=\"1197.26\" cy=\"1373.36\" r=\"14\" fill=\"#009af9\" fill-rule=\"evenodd\" fill-opacity=\"1\" stroke=\"#000000\" stroke-opacity=\"1\" stroke-width=\"3.2\"/>\n",
       "<circle clip-path=\"url(#clip362)\" cx=\"1217.9\" cy=\"1379.35\" r=\"14\" fill=\"#009af9\" fill-rule=\"evenodd\" fill-opacity=\"1\" stroke=\"#000000\" stroke-opacity=\"1\" stroke-width=\"3.2\"/>\n",
       "<circle clip-path=\"url(#clip362)\" cx=\"1238.55\" cy=\"1381.8\" r=\"14\" fill=\"#009af9\" fill-rule=\"evenodd\" fill-opacity=\"1\" stroke=\"#000000\" stroke-opacity=\"1\" stroke-width=\"3.2\"/>\n",
       "<circle clip-path=\"url(#clip362)\" cx=\"1259.19\" cy=\"1385.94\" r=\"14\" fill=\"#009af9\" fill-rule=\"evenodd\" fill-opacity=\"1\" stroke=\"#000000\" stroke-opacity=\"1\" stroke-width=\"3.2\"/>\n",
       "<circle clip-path=\"url(#clip362)\" cx=\"1279.84\" cy=\"1389.12\" r=\"14\" fill=\"#009af9\" fill-rule=\"evenodd\" fill-opacity=\"1\" stroke=\"#000000\" stroke-opacity=\"1\" stroke-width=\"3.2\"/>\n",
       "<circle clip-path=\"url(#clip362)\" cx=\"1300.48\" cy=\"1392.78\" r=\"14\" fill=\"#009af9\" fill-rule=\"evenodd\" fill-opacity=\"1\" stroke=\"#000000\" stroke-opacity=\"1\" stroke-width=\"3.2\"/>\n",
       "<circle clip-path=\"url(#clip362)\" cx=\"1321.13\" cy=\"1392.74\" r=\"14\" fill=\"#009af9\" fill-rule=\"evenodd\" fill-opacity=\"1\" stroke=\"#000000\" stroke-opacity=\"1\" stroke-width=\"3.2\"/>\n",
       "<circle clip-path=\"url(#clip362)\" cx=\"1341.77\" cy=\"1397.4\" r=\"14\" fill=\"#009af9\" fill-rule=\"evenodd\" fill-opacity=\"1\" stroke=\"#000000\" stroke-opacity=\"1\" stroke-width=\"3.2\"/>\n",
       "<circle clip-path=\"url(#clip362)\" cx=\"1362.42\" cy=\"1394.73\" r=\"14\" fill=\"#009af9\" fill-rule=\"evenodd\" fill-opacity=\"1\" stroke=\"#000000\" stroke-opacity=\"1\" stroke-width=\"3.2\"/>\n",
       "<circle clip-path=\"url(#clip362)\" cx=\"1383.06\" cy=\"1395.9\" r=\"14\" fill=\"#009af9\" fill-rule=\"evenodd\" fill-opacity=\"1\" stroke=\"#000000\" stroke-opacity=\"1\" stroke-width=\"3.2\"/>\n",
       "<circle clip-path=\"url(#clip362)\" cx=\"1403.71\" cy=\"1387.66\" r=\"14\" fill=\"#009af9\" fill-rule=\"evenodd\" fill-opacity=\"1\" stroke=\"#000000\" stroke-opacity=\"1\" stroke-width=\"3.2\"/>\n",
       "<circle clip-path=\"url(#clip362)\" cx=\"1424.35\" cy=\"1389.58\" r=\"14\" fill=\"#009af9\" fill-rule=\"evenodd\" fill-opacity=\"1\" stroke=\"#000000\" stroke-opacity=\"1\" stroke-width=\"3.2\"/>\n",
       "<circle clip-path=\"url(#clip362)\" cx=\"1445\" cy=\"1395.11\" r=\"14\" fill=\"#009af9\" fill-rule=\"evenodd\" fill-opacity=\"1\" stroke=\"#000000\" stroke-opacity=\"1\" stroke-width=\"3.2\"/>\n",
       "<circle clip-path=\"url(#clip362)\" cx=\"1465.64\" cy=\"1391.54\" r=\"14\" fill=\"#009af9\" fill-rule=\"evenodd\" fill-opacity=\"1\" stroke=\"#000000\" stroke-opacity=\"1\" stroke-width=\"3.2\"/>\n",
       "<circle clip-path=\"url(#clip362)\" cx=\"1486.29\" cy=\"1395.03\" r=\"14\" fill=\"#009af9\" fill-rule=\"evenodd\" fill-opacity=\"1\" stroke=\"#000000\" stroke-opacity=\"1\" stroke-width=\"3.2\"/>\n",
       "<circle clip-path=\"url(#clip362)\" cx=\"1506.93\" cy=\"1401.71\" r=\"14\" fill=\"#009af9\" fill-rule=\"evenodd\" fill-opacity=\"1\" stroke=\"#000000\" stroke-opacity=\"1\" stroke-width=\"3.2\"/>\n",
       "<circle clip-path=\"url(#clip362)\" cx=\"1527.58\" cy=\"1405.47\" r=\"14\" fill=\"#009af9\" fill-rule=\"evenodd\" fill-opacity=\"1\" stroke=\"#000000\" stroke-opacity=\"1\" stroke-width=\"3.2\"/>\n",
       "<circle clip-path=\"url(#clip362)\" cx=\"1548.22\" cy=\"1406.09\" r=\"14\" fill=\"#009af9\" fill-rule=\"evenodd\" fill-opacity=\"1\" stroke=\"#000000\" stroke-opacity=\"1\" stroke-width=\"3.2\"/>\n",
       "<circle clip-path=\"url(#clip362)\" cx=\"1568.87\" cy=\"1408.2\" r=\"14\" fill=\"#009af9\" fill-rule=\"evenodd\" fill-opacity=\"1\" stroke=\"#000000\" stroke-opacity=\"1\" stroke-width=\"3.2\"/>\n",
       "<circle clip-path=\"url(#clip362)\" cx=\"1589.51\" cy=\"1409.81\" r=\"14\" fill=\"#009af9\" fill-rule=\"evenodd\" fill-opacity=\"1\" stroke=\"#000000\" stroke-opacity=\"1\" stroke-width=\"3.2\"/>\n",
       "<circle clip-path=\"url(#clip362)\" cx=\"1610.16\" cy=\"1409.33\" r=\"14\" fill=\"#009af9\" fill-rule=\"evenodd\" fill-opacity=\"1\" stroke=\"#000000\" stroke-opacity=\"1\" stroke-width=\"3.2\"/>\n",
       "<circle clip-path=\"url(#clip362)\" cx=\"1630.8\" cy=\"1412.4\" r=\"14\" fill=\"#009af9\" fill-rule=\"evenodd\" fill-opacity=\"1\" stroke=\"#000000\" stroke-opacity=\"1\" stroke-width=\"3.2\"/>\n",
       "<circle clip-path=\"url(#clip362)\" cx=\"1651.45\" cy=\"1404.22\" r=\"14\" fill=\"#009af9\" fill-rule=\"evenodd\" fill-opacity=\"1\" stroke=\"#000000\" stroke-opacity=\"1\" stroke-width=\"3.2\"/>\n",
       "<circle clip-path=\"url(#clip362)\" cx=\"1672.09\" cy=\"1408.88\" r=\"14\" fill=\"#009af9\" fill-rule=\"evenodd\" fill-opacity=\"1\" stroke=\"#000000\" stroke-opacity=\"1\" stroke-width=\"3.2\"/>\n",
       "<circle clip-path=\"url(#clip362)\" cx=\"1692.74\" cy=\"1412.06\" r=\"14\" fill=\"#009af9\" fill-rule=\"evenodd\" fill-opacity=\"1\" stroke=\"#000000\" stroke-opacity=\"1\" stroke-width=\"3.2\"/>\n",
       "<circle clip-path=\"url(#clip362)\" cx=\"1713.38\" cy=\"1416.16\" r=\"14\" fill=\"#009af9\" fill-rule=\"evenodd\" fill-opacity=\"1\" stroke=\"#000000\" stroke-opacity=\"1\" stroke-width=\"3.2\"/>\n",
       "<circle clip-path=\"url(#clip362)\" cx=\"1734.03\" cy=\"1418.54\" r=\"14\" fill=\"#009af9\" fill-rule=\"evenodd\" fill-opacity=\"1\" stroke=\"#000000\" stroke-opacity=\"1\" stroke-width=\"3.2\"/>\n",
       "<circle clip-path=\"url(#clip362)\" cx=\"1754.67\" cy=\"1418.58\" r=\"14\" fill=\"#009af9\" fill-rule=\"evenodd\" fill-opacity=\"1\" stroke=\"#000000\" stroke-opacity=\"1\" stroke-width=\"3.2\"/>\n",
       "<circle clip-path=\"url(#clip362)\" cx=\"1775.32\" cy=\"1421.73\" r=\"14\" fill=\"#009af9\" fill-rule=\"evenodd\" fill-opacity=\"1\" stroke=\"#000000\" stroke-opacity=\"1\" stroke-width=\"3.2\"/>\n",
       "<circle clip-path=\"url(#clip362)\" cx=\"1795.96\" cy=\"1423.37\" r=\"14\" fill=\"#009af9\" fill-rule=\"evenodd\" fill-opacity=\"1\" stroke=\"#000000\" stroke-opacity=\"1\" stroke-width=\"3.2\"/>\n",
       "<circle clip-path=\"url(#clip362)\" cx=\"1816.61\" cy=\"1422.83\" r=\"14\" fill=\"#009af9\" fill-rule=\"evenodd\" fill-opacity=\"1\" stroke=\"#000000\" stroke-opacity=\"1\" stroke-width=\"3.2\"/>\n",
       "<circle clip-path=\"url(#clip362)\" cx=\"1837.25\" cy=\"1423.58\" r=\"14\" fill=\"#009af9\" fill-rule=\"evenodd\" fill-opacity=\"1\" stroke=\"#000000\" stroke-opacity=\"1\" stroke-width=\"3.2\"/>\n",
       "<circle clip-path=\"url(#clip362)\" cx=\"1857.9\" cy=\"1426.83\" r=\"14\" fill=\"#009af9\" fill-rule=\"evenodd\" fill-opacity=\"1\" stroke=\"#000000\" stroke-opacity=\"1\" stroke-width=\"3.2\"/>\n",
       "<circle clip-path=\"url(#clip362)\" cx=\"1878.54\" cy=\"1429\" r=\"14\" fill=\"#009af9\" fill-rule=\"evenodd\" fill-opacity=\"1\" stroke=\"#000000\" stroke-opacity=\"1\" stroke-width=\"3.2\"/>\n",
       "<circle clip-path=\"url(#clip362)\" cx=\"1899.19\" cy=\"1426.53\" r=\"14\" fill=\"#009af9\" fill-rule=\"evenodd\" fill-opacity=\"1\" stroke=\"#000000\" stroke-opacity=\"1\" stroke-width=\"3.2\"/>\n",
       "<circle clip-path=\"url(#clip362)\" cx=\"1919.83\" cy=\"1429.65\" r=\"14\" fill=\"#009af9\" fill-rule=\"evenodd\" fill-opacity=\"1\" stroke=\"#000000\" stroke-opacity=\"1\" stroke-width=\"3.2\"/>\n",
       "<circle clip-path=\"url(#clip362)\" cx=\"1940.48\" cy=\"1431.95\" r=\"14\" fill=\"#009af9\" fill-rule=\"evenodd\" fill-opacity=\"1\" stroke=\"#000000\" stroke-opacity=\"1\" stroke-width=\"3.2\"/>\n",
       "<circle clip-path=\"url(#clip362)\" cx=\"1961.12\" cy=\"1433.38\" r=\"14\" fill=\"#009af9\" fill-rule=\"evenodd\" fill-opacity=\"1\" stroke=\"#000000\" stroke-opacity=\"1\" stroke-width=\"3.2\"/>\n",
       "<circle clip-path=\"url(#clip362)\" cx=\"1981.77\" cy=\"1432.29\" r=\"14\" fill=\"#009af9\" fill-rule=\"evenodd\" fill-opacity=\"1\" stroke=\"#000000\" stroke-opacity=\"1\" stroke-width=\"3.2\"/>\n",
       "<circle clip-path=\"url(#clip362)\" cx=\"2002.41\" cy=\"1436.12\" r=\"14\" fill=\"#009af9\" fill-rule=\"evenodd\" fill-opacity=\"1\" stroke=\"#000000\" stroke-opacity=\"1\" stroke-width=\"3.2\"/>\n",
       "<circle clip-path=\"url(#clip362)\" cx=\"2023.06\" cy=\"1437.54\" r=\"14\" fill=\"#009af9\" fill-rule=\"evenodd\" fill-opacity=\"1\" stroke=\"#000000\" stroke-opacity=\"1\" stroke-width=\"3.2\"/>\n",
       "<circle clip-path=\"url(#clip362)\" cx=\"2043.7\" cy=\"1440.62\" r=\"14\" fill=\"#009af9\" fill-rule=\"evenodd\" fill-opacity=\"1\" stroke=\"#000000\" stroke-opacity=\"1\" stroke-width=\"3.2\"/>\n",
       "<circle clip-path=\"url(#clip362)\" cx=\"2064.35\" cy=\"1439.34\" r=\"14\" fill=\"#009af9\" fill-rule=\"evenodd\" fill-opacity=\"1\" stroke=\"#000000\" stroke-opacity=\"1\" stroke-width=\"3.2\"/>\n",
       "<circle clip-path=\"url(#clip362)\" cx=\"2084.99\" cy=\"1440.98\" r=\"14\" fill=\"#009af9\" fill-rule=\"evenodd\" fill-opacity=\"1\" stroke=\"#000000\" stroke-opacity=\"1\" stroke-width=\"3.2\"/>\n",
       "<circle clip-path=\"url(#clip362)\" cx=\"2105.64\" cy=\"1441.4\" r=\"14\" fill=\"#009af9\" fill-rule=\"evenodd\" fill-opacity=\"1\" stroke=\"#000000\" stroke-opacity=\"1\" stroke-width=\"3.2\"/>\n",
       "<circle clip-path=\"url(#clip362)\" cx=\"2126.28\" cy=\"1441.05\" r=\"14\" fill=\"#009af9\" fill-rule=\"evenodd\" fill-opacity=\"1\" stroke=\"#000000\" stroke-opacity=\"1\" stroke-width=\"3.2\"/>\n",
       "<circle clip-path=\"url(#clip362)\" cx=\"2146.93\" cy=\"1441.45\" r=\"14\" fill=\"#009af9\" fill-rule=\"evenodd\" fill-opacity=\"1\" stroke=\"#000000\" stroke-opacity=\"1\" stroke-width=\"3.2\"/>\n",
       "<circle clip-path=\"url(#clip362)\" cx=\"2167.57\" cy=\"1437.72\" r=\"14\" fill=\"#009af9\" fill-rule=\"evenodd\" fill-opacity=\"1\" stroke=\"#000000\" stroke-opacity=\"1\" stroke-width=\"3.2\"/>\n",
       "<circle clip-path=\"url(#clip362)\" cx=\"2188.22\" cy=\"1436.32\" r=\"14\" fill=\"#009af9\" fill-rule=\"evenodd\" fill-opacity=\"1\" stroke=\"#000000\" stroke-opacity=\"1\" stroke-width=\"3.2\"/>\n",
       "<circle clip-path=\"url(#clip362)\" cx=\"2208.86\" cy=\"1436.93\" r=\"14\" fill=\"#009af9\" fill-rule=\"evenodd\" fill-opacity=\"1\" stroke=\"#000000\" stroke-opacity=\"1\" stroke-width=\"3.2\"/>\n",
       "<circle clip-path=\"url(#clip362)\" cx=\"2229.51\" cy=\"1439.14\" r=\"14\" fill=\"#009af9\" fill-rule=\"evenodd\" fill-opacity=\"1\" stroke=\"#000000\" stroke-opacity=\"1\" stroke-width=\"3.2\"/>\n",
       "<circle clip-path=\"url(#clip362)\" cx=\"2250.15\" cy=\"1441.27\" r=\"14\" fill=\"#009af9\" fill-rule=\"evenodd\" fill-opacity=\"1\" stroke=\"#000000\" stroke-opacity=\"1\" stroke-width=\"3.2\"/>\n",
       "<circle clip-path=\"url(#clip362)\" cx=\"2270.8\" cy=\"1442.59\" r=\"14\" fill=\"#009af9\" fill-rule=\"evenodd\" fill-opacity=\"1\" stroke=\"#000000\" stroke-opacity=\"1\" stroke-width=\"3.2\"/>\n",
       "<circle clip-path=\"url(#clip362)\" cx=\"2291.44\" cy=\"1445.72\" r=\"14\" fill=\"#009af9\" fill-rule=\"evenodd\" fill-opacity=\"1\" stroke=\"#000000\" stroke-opacity=\"1\" stroke-width=\"3.2\"/>\n",
       "<path clip-path=\"url(#clip360)\" d=\"\n",
       "M1987.39 198.898 L2280.54 198.898 L2280.54 95.2176 L1987.39 95.2176  Z\n",
       "  \" fill=\"#ffffff\" fill-rule=\"evenodd\" fill-opacity=\"1\"/>\n",
       "<polyline clip-path=\"url(#clip360)\" style=\"stroke:#000000; stroke-linecap:butt; stroke-linejoin:round; stroke-width:4; stroke-opacity:1; fill:none\" points=\"\n",
       "  1987.39,198.898 2280.54,198.898 2280.54,95.2176 1987.39,95.2176 1987.39,198.898 \n",
       "  \"/>\n",
       "<circle clip-path=\"url(#clip360)\" cx=\"2083.68\" cy=\"147.058\" r=\"23\" fill=\"#009af9\" fill-rule=\"evenodd\" fill-opacity=\"1\" stroke=\"#000000\" stroke-opacity=\"1\" stroke-width=\"5.12\"/>\n",
       "<path clip-path=\"url(#clip360)\" d=\"M2193.81 166.745 Q2192 171.375 2190.29 172.787 Q2188.58 174.199 2185.71 174.199 L2182.3 174.199 L2182.3 170.634 L2184.8 170.634 Q2186.56 170.634 2187.53 169.8 Q2188.51 168.967 2189.69 165.865 L2190.45 163.921 L2179.97 138.412 L2184.48 138.412 L2192.58 158.689 L2200.68 138.412 L2205.2 138.412 L2193.81 166.745 Z\" fill=\"#000000\" fill-rule=\"evenodd\" fill-opacity=\"1\" /><path clip-path=\"url(#clip360)\" d=\"M2212.49 160.402 L2220.13 160.402 L2220.13 134.037 L2211.82 135.703 L2211.82 131.444 L2220.08 129.778 L2224.76 129.778 L2224.76 160.402 L2232.4 160.402 L2232.4 164.338 L2212.49 164.338 L2212.49 160.402 Z\" fill=\"#000000\" fill-rule=\"evenodd\" fill-opacity=\"1\" /></svg>\n"
      ]
     },
     "execution_count": 149,
     "metadata": {},
     "output_type": "execute_result"
    }
   ],
   "source": [
    "scatter(10:10:1000, n->v(X[1:n], teor))"
   ]
  },
  {
   "cell_type": "markdown",
   "metadata": {},
   "source": [
    "# Zad 4"
   ]
  },
  {
   "cell_type": "code",
   "execution_count": 174,
   "metadata": {},
   "outputs": [
    {
     "data": {
      "text/plain": [
       "0"
      ]
     },
     "execution_count": 174,
     "metadata": {},
     "output_type": "execute_result"
    }
   ],
   "source": [
    "θ=3\n",
    "σ=2\n",
    "μ=0"
   ]
  },
  {
   "cell_type": "code",
   "execution_count": 176,
   "metadata": {},
   "outputs": [],
   "source": [
    "X=N(n=1e4+1, μ=μ, σ=σ);"
   ]
  },
  {
   "cell_type": "code",
   "execution_count": 192,
   "metadata": {},
   "outputs": [],
   "source": [
    "Y=X[2:end].+θ.*X[1:end-1];"
   ]
  },
  {
   "cell_type": "code",
   "execution_count": 193,
   "metadata": {},
   "outputs": [
    {
     "data": {
      "text/plain": [
       "#39 (generic function with 1 method)"
      ]
     },
     "execution_count": 193,
     "metadata": {},
     "output_type": "execute_result"
    }
   ],
   "source": [
    "γ=Γ(Y)"
   ]
  },
  {
   "cell_type": "code",
   "execution_count": 194,
   "metadata": {},
   "outputs": [
    {
     "data": {
      "text/plain": [
       "teor (generic function with 1 method)"
      ]
     },
     "execution_count": 194,
     "metadata": {},
     "output_type": "execute_result"
    }
   ],
   "source": [
    "teor(h)= h==0 ? σ^2*(1+θ^2) : (h==1 ? σ^2*θ : 0)"
   ]
  },
  {
   "cell_type": "code",
   "execution_count": 195,
   "metadata": {},
   "outputs": [
    {
     "data": {
      "image/svg+xml": [
       "<?xml version=\"1.0\" encoding=\"utf-8\"?>\n",
       "<svg xmlns=\"http://www.w3.org/2000/svg\" xmlns:xlink=\"http://www.w3.org/1999/xlink\" width=\"600\" height=\"400\" viewBox=\"0 0 2400 1600\">\n",
       "<defs>\n",
       "  <clipPath id=\"clip600\">\n",
       "    <rect x=\"0\" y=\"0\" width=\"2400\" height=\"1600\"/>\n",
       "  </clipPath>\n",
       "</defs>\n",
       "<path clip-path=\"url(#clip600)\" d=\"\n",
       "M0 1600 L2400 1600 L2400 0 L0 0  Z\n",
       "  \" fill=\"#ffffff\" fill-rule=\"evenodd\" fill-opacity=\"1\"/>\n",
       "<defs>\n",
       "  <clipPath id=\"clip601\">\n",
       "    <rect x=\"480\" y=\"0\" width=\"1681\" height=\"1600\"/>\n",
       "  </clipPath>\n",
       "</defs>\n",
       "<path clip-path=\"url(#clip600)\" d=\"\n",
       "M141.853 1486.45 L2352.76 1486.45 L2352.76 47.2441 L141.853 47.2441  Z\n",
       "  \" fill=\"#ffffff\" fill-rule=\"evenodd\" fill-opacity=\"1\"/>\n",
       "<defs>\n",
       "  <clipPath id=\"clip602\">\n",
       "    <rect x=\"141\" y=\"47\" width=\"2212\" height=\"1440\"/>\n",
       "  </clipPath>\n",
       "</defs>\n",
       "<polyline clip-path=\"url(#clip602)\" style=\"stroke:#000000; stroke-linecap:butt; stroke-linejoin:round; stroke-width:2; stroke-opacity:0.1; fill:none\" points=\"\n",
       "  204.426,1486.45 204.426,47.2441 \n",
       "  \"/>\n",
       "<polyline clip-path=\"url(#clip602)\" style=\"stroke:#000000; stroke-linecap:butt; stroke-linejoin:round; stroke-width:2; stroke-opacity:0.1; fill:none\" points=\"\n",
       "  725.865,1486.45 725.865,47.2441 \n",
       "  \"/>\n",
       "<polyline clip-path=\"url(#clip602)\" style=\"stroke:#000000; stroke-linecap:butt; stroke-linejoin:round; stroke-width:2; stroke-opacity:0.1; fill:none\" points=\"\n",
       "  1247.3,1486.45 1247.3,47.2441 \n",
       "  \"/>\n",
       "<polyline clip-path=\"url(#clip602)\" style=\"stroke:#000000; stroke-linecap:butt; stroke-linejoin:round; stroke-width:2; stroke-opacity:0.1; fill:none\" points=\"\n",
       "  1768.74,1486.45 1768.74,47.2441 \n",
       "  \"/>\n",
       "<polyline clip-path=\"url(#clip602)\" style=\"stroke:#000000; stroke-linecap:butt; stroke-linejoin:round; stroke-width:2; stroke-opacity:0.1; fill:none\" points=\"\n",
       "  2290.18,1486.45 2290.18,47.2441 \n",
       "  \"/>\n",
       "<polyline clip-path=\"url(#clip600)\" style=\"stroke:#000000; stroke-linecap:butt; stroke-linejoin:round; stroke-width:4; stroke-opacity:1; fill:none\" points=\"\n",
       "  141.853,1486.45 2352.76,1486.45 \n",
       "  \"/>\n",
       "<polyline clip-path=\"url(#clip600)\" style=\"stroke:#000000; stroke-linecap:butt; stroke-linejoin:round; stroke-width:4; stroke-opacity:1; fill:none\" points=\"\n",
       "  204.426,1486.45 204.426,1467.55 \n",
       "  \"/>\n",
       "<polyline clip-path=\"url(#clip600)\" style=\"stroke:#000000; stroke-linecap:butt; stroke-linejoin:round; stroke-width:4; stroke-opacity:1; fill:none\" points=\"\n",
       "  725.865,1486.45 725.865,1467.55 \n",
       "  \"/>\n",
       "<polyline clip-path=\"url(#clip600)\" style=\"stroke:#000000; stroke-linecap:butt; stroke-linejoin:round; stroke-width:4; stroke-opacity:1; fill:none\" points=\"\n",
       "  1247.3,1486.45 1247.3,1467.55 \n",
       "  \"/>\n",
       "<polyline clip-path=\"url(#clip600)\" style=\"stroke:#000000; stroke-linecap:butt; stroke-linejoin:round; stroke-width:4; stroke-opacity:1; fill:none\" points=\"\n",
       "  1768.74,1486.45 1768.74,1467.55 \n",
       "  \"/>\n",
       "<polyline clip-path=\"url(#clip600)\" style=\"stroke:#000000; stroke-linecap:butt; stroke-linejoin:round; stroke-width:4; stroke-opacity:1; fill:none\" points=\"\n",
       "  2290.18,1486.45 2290.18,1467.55 \n",
       "  \"/>\n",
       "<path clip-path=\"url(#clip600)\" d=\"M181.81 1517.37 Q178.199 1517.37 176.37 1520.93 Q174.565 1524.47 174.565 1531.6 Q174.565 1538.71 176.37 1542.27 Q178.199 1545.82 181.81 1545.82 Q185.444 1545.82 187.25 1542.27 Q189.079 1538.71 189.079 1531.6 Q189.079 1524.47 187.25 1520.93 Q185.444 1517.37 181.81 1517.37 M181.81 1513.66 Q187.62 1513.66 190.676 1518.27 Q193.754 1522.85 193.754 1531.6 Q193.754 1540.33 190.676 1544.94 Q187.62 1549.52 181.81 1549.52 Q176 1549.52 172.921 1544.94 Q169.866 1540.33 169.866 1531.6 Q169.866 1522.85 172.921 1518.27 Q176 1513.66 181.81 1513.66 Z\" fill=\"#000000\" fill-rule=\"evenodd\" fill-opacity=\"1\" /><path clip-path=\"url(#clip600)\" d=\"M201.972 1542.97 L206.856 1542.97 L206.856 1548.85 L201.972 1548.85 L201.972 1542.97 Z\" fill=\"#000000\" fill-rule=\"evenodd\" fill-opacity=\"1\" /><path clip-path=\"url(#clip600)\" d=\"M227.041 1517.37 Q223.43 1517.37 221.602 1520.93 Q219.796 1524.47 219.796 1531.6 Q219.796 1538.71 221.602 1542.27 Q223.43 1545.82 227.041 1545.82 Q230.676 1545.82 232.481 1542.27 Q234.31 1538.71 234.31 1531.6 Q234.31 1524.47 232.481 1520.93 Q230.676 1517.37 227.041 1517.37 M227.041 1513.66 Q232.851 1513.66 235.907 1518.27 Q238.986 1522.85 238.986 1531.6 Q238.986 1540.33 235.907 1544.94 Q232.851 1549.52 227.041 1549.52 Q221.231 1549.52 218.152 1544.94 Q215.097 1540.33 215.097 1531.6 Q215.097 1522.85 218.152 1518.27 Q221.231 1513.66 227.041 1513.66 Z\" fill=\"#000000\" fill-rule=\"evenodd\" fill-opacity=\"1\" /><path clip-path=\"url(#clip600)\" d=\"M697.601 1544.91 L713.921 1544.91 L713.921 1548.85 L691.976 1548.85 L691.976 1544.91 Q694.638 1542.16 699.222 1537.53 Q703.828 1532.88 705.009 1531.53 Q707.254 1529.01 708.134 1527.27 Q709.036 1525.51 709.036 1523.82 Q709.036 1521.07 707.092 1519.33 Q705.171 1517.6 702.069 1517.6 Q699.87 1517.6 697.416 1518.36 Q694.986 1519.13 692.208 1520.68 L692.208 1515.95 Q695.032 1514.82 697.486 1514.24 Q699.939 1513.66 701.976 1513.66 Q707.347 1513.66 710.541 1516.35 Q713.735 1519.03 713.735 1523.52 Q713.735 1525.65 712.925 1527.57 Q712.138 1529.47 710.032 1532.07 Q709.453 1532.74 706.351 1535.95 Q703.249 1539.15 697.601 1544.91 Z\" fill=\"#000000\" fill-rule=\"evenodd\" fill-opacity=\"1\" /><path clip-path=\"url(#clip600)\" d=\"M723.735 1542.97 L728.62 1542.97 L728.62 1548.85 L723.735 1548.85 L723.735 1542.97 Z\" fill=\"#000000\" fill-rule=\"evenodd\" fill-opacity=\"1\" /><path clip-path=\"url(#clip600)\" d=\"M738.851 1514.29 L757.207 1514.29 L757.207 1518.22 L743.133 1518.22 L743.133 1526.7 Q744.152 1526.35 745.17 1526.19 Q746.189 1526 747.208 1526 Q752.995 1526 756.374 1529.17 Q759.754 1532.34 759.754 1537.76 Q759.754 1543.34 756.282 1546.44 Q752.809 1549.52 746.49 1549.52 Q744.314 1549.52 742.046 1549.15 Q739.8 1548.78 737.393 1548.04 L737.393 1543.34 Q739.476 1544.47 741.698 1545.03 Q743.921 1545.58 746.397 1545.58 Q750.402 1545.58 752.74 1543.48 Q755.078 1541.37 755.078 1537.76 Q755.078 1534.15 752.74 1532.04 Q750.402 1529.94 746.397 1529.94 Q744.522 1529.94 742.647 1530.35 Q740.796 1530.77 738.851 1531.65 L738.851 1514.29 Z\" fill=\"#000000\" fill-rule=\"evenodd\" fill-opacity=\"1\" /><path clip-path=\"url(#clip600)\" d=\"M1214.47 1514.29 L1232.83 1514.29 L1232.83 1518.22 L1218.75 1518.22 L1218.75 1526.7 Q1219.77 1526.35 1220.79 1526.19 Q1221.81 1526 1222.83 1526 Q1228.61 1526 1231.99 1529.17 Q1235.37 1532.34 1235.37 1537.76 Q1235.37 1543.34 1231.9 1546.44 Q1228.43 1549.52 1222.11 1549.52 Q1219.93 1549.52 1217.66 1549.15 Q1215.42 1548.78 1213.01 1548.04 L1213.01 1543.34 Q1215.09 1544.47 1217.32 1545.03 Q1219.54 1545.58 1222.02 1545.58 Q1226.02 1545.58 1228.36 1543.48 Q1230.7 1541.37 1230.7 1537.76 Q1230.7 1534.15 1228.36 1532.04 Q1226.02 1529.94 1222.02 1529.94 Q1220.14 1529.94 1218.27 1530.35 Q1216.41 1530.77 1214.47 1531.65 L1214.47 1514.29 Z\" fill=\"#000000\" fill-rule=\"evenodd\" fill-opacity=\"1\" /><path clip-path=\"url(#clip600)\" d=\"M1244.58 1542.97 L1249.47 1542.97 L1249.47 1548.85 L1244.58 1548.85 L1244.58 1542.97 Z\" fill=\"#000000\" fill-rule=\"evenodd\" fill-opacity=\"1\" /><path clip-path=\"url(#clip600)\" d=\"M1269.65 1517.37 Q1266.04 1517.37 1264.21 1520.93 Q1262.41 1524.47 1262.41 1531.6 Q1262.41 1538.71 1264.21 1542.27 Q1266.04 1545.82 1269.65 1545.82 Q1273.29 1545.82 1275.09 1542.27 Q1276.92 1538.71 1276.92 1531.6 Q1276.92 1524.47 1275.09 1520.93 Q1273.29 1517.37 1269.65 1517.37 M1269.65 1513.66 Q1275.46 1513.66 1278.52 1518.27 Q1281.6 1522.85 1281.6 1531.6 Q1281.6 1540.33 1278.52 1544.94 Q1275.46 1549.52 1269.65 1549.52 Q1263.84 1549.52 1260.77 1544.94 Q1257.71 1540.33 1257.71 1531.6 Q1257.71 1522.85 1260.77 1518.27 Q1263.84 1513.66 1269.65 1513.66 Z\" fill=\"#000000\" fill-rule=\"evenodd\" fill-opacity=\"1\" /><path clip-path=\"url(#clip600)\" d=\"M1735.06 1514.29 L1757.29 1514.29 L1757.29 1516.28 L1744.74 1548.85 L1739.86 1548.85 L1751.66 1518.22 L1735.06 1518.22 L1735.06 1514.29 Z\" fill=\"#000000\" fill-rule=\"evenodd\" fill-opacity=\"1\" /><path clip-path=\"url(#clip600)\" d=\"M1766.41 1542.97 L1771.29 1542.97 L1771.29 1548.85 L1766.41 1548.85 L1766.41 1542.97 Z\" fill=\"#000000\" fill-rule=\"evenodd\" fill-opacity=\"1\" /><path clip-path=\"url(#clip600)\" d=\"M1781.52 1514.29 L1799.88 1514.29 L1799.88 1518.22 L1785.8 1518.22 L1785.8 1526.7 Q1786.82 1526.35 1787.84 1526.19 Q1788.86 1526 1789.88 1526 Q1795.66 1526 1799.04 1529.17 Q1802.42 1532.34 1802.42 1537.76 Q1802.42 1543.34 1798.95 1546.44 Q1795.48 1549.52 1789.16 1549.52 Q1786.98 1549.52 1784.72 1549.15 Q1782.47 1548.78 1780.06 1548.04 L1780.06 1543.34 Q1782.15 1544.47 1784.37 1545.03 Q1786.59 1545.58 1789.07 1545.58 Q1793.07 1545.58 1795.41 1543.48 Q1797.75 1541.37 1797.75 1537.76 Q1797.75 1534.15 1795.41 1532.04 Q1793.07 1529.94 1789.07 1529.94 Q1787.19 1529.94 1785.32 1530.35 Q1783.47 1530.77 1781.52 1531.65 L1781.52 1514.29 Z\" fill=\"#000000\" fill-rule=\"evenodd\" fill-opacity=\"1\" /><path clip-path=\"url(#clip600)\" d=\"M2242.26 1544.91 L2249.89 1544.91 L2249.89 1518.55 L2241.58 1520.21 L2241.58 1515.95 L2249.85 1514.29 L2254.52 1514.29 L2254.52 1544.91 L2262.16 1544.91 L2262.16 1548.85 L2242.26 1548.85 L2242.26 1544.91 Z\" fill=\"#000000\" fill-rule=\"evenodd\" fill-opacity=\"1\" /><path clip-path=\"url(#clip600)\" d=\"M2281.61 1517.37 Q2278 1517.37 2276.17 1520.93 Q2274.36 1524.47 2274.36 1531.6 Q2274.36 1538.71 2276.17 1542.27 Q2278 1545.82 2281.61 1545.82 Q2285.24 1545.82 2287.05 1542.27 Q2288.88 1538.71 2288.88 1531.6 Q2288.88 1524.47 2287.05 1520.93 Q2285.24 1517.37 2281.61 1517.37 M2281.61 1513.66 Q2287.42 1513.66 2290.47 1518.27 Q2293.55 1522.85 2293.55 1531.6 Q2293.55 1540.33 2290.47 1544.94 Q2287.42 1549.52 2281.61 1549.52 Q2275.8 1549.52 2272.72 1544.94 Q2269.66 1540.33 2269.66 1531.6 Q2269.66 1522.85 2272.72 1518.27 Q2275.8 1513.66 2281.61 1513.66 Z\" fill=\"#000000\" fill-rule=\"evenodd\" fill-opacity=\"1\" /><path clip-path=\"url(#clip600)\" d=\"M2301.77 1542.97 L2306.65 1542.97 L2306.65 1548.85 L2301.77 1548.85 L2301.77 1542.97 Z\" fill=\"#000000\" fill-rule=\"evenodd\" fill-opacity=\"1\" /><path clip-path=\"url(#clip600)\" d=\"M2326.84 1517.37 Q2323.23 1517.37 2321.4 1520.93 Q2319.59 1524.47 2319.59 1531.6 Q2319.59 1538.71 2321.4 1542.27 Q2323.23 1545.82 2326.84 1545.82 Q2330.47 1545.82 2332.28 1542.27 Q2334.11 1538.71 2334.11 1531.6 Q2334.11 1524.47 2332.28 1520.93 Q2330.47 1517.37 2326.84 1517.37 M2326.84 1513.66 Q2332.65 1513.66 2335.7 1518.27 Q2338.78 1522.85 2338.78 1531.6 Q2338.78 1540.33 2335.7 1544.94 Q2332.65 1549.52 2326.84 1549.52 Q2321.03 1549.52 2317.95 1544.94 Q2314.89 1540.33 2314.89 1531.6 Q2314.89 1522.85 2317.95 1518.27 Q2321.03 1513.66 2326.84 1513.66 Z\" fill=\"#000000\" fill-rule=\"evenodd\" fill-opacity=\"1\" /><polyline clip-path=\"url(#clip602)\" style=\"stroke:#000000; stroke-linecap:butt; stroke-linejoin:round; stroke-width:2; stroke-opacity:0.1; fill:none\" points=\"\n",
       "  141.853,1436.21 2352.76,1436.21 \n",
       "  \"/>\n",
       "<polyline clip-path=\"url(#clip602)\" style=\"stroke:#000000; stroke-linecap:butt; stroke-linejoin:round; stroke-width:2; stroke-opacity:0.1; fill:none\" points=\"\n",
       "  141.853,1099.15 2352.76,1099.15 \n",
       "  \"/>\n",
       "<polyline clip-path=\"url(#clip602)\" style=\"stroke:#000000; stroke-linecap:butt; stroke-linejoin:round; stroke-width:2; stroke-opacity:0.1; fill:none\" points=\"\n",
       "  141.853,762.091 2352.76,762.091 \n",
       "  \"/>\n",
       "<polyline clip-path=\"url(#clip602)\" style=\"stroke:#000000; stroke-linecap:butt; stroke-linejoin:round; stroke-width:2; stroke-opacity:0.1; fill:none\" points=\"\n",
       "  141.853,425.034 2352.76,425.034 \n",
       "  \"/>\n",
       "<polyline clip-path=\"url(#clip602)\" style=\"stroke:#000000; stroke-linecap:butt; stroke-linejoin:round; stroke-width:2; stroke-opacity:0.1; fill:none\" points=\"\n",
       "  141.853,87.9763 2352.76,87.9763 \n",
       "  \"/>\n",
       "<polyline clip-path=\"url(#clip600)\" style=\"stroke:#000000; stroke-linecap:butt; stroke-linejoin:round; stroke-width:4; stroke-opacity:1; fill:none\" points=\"\n",
       "  141.853,1486.45 141.853,47.2441 \n",
       "  \"/>\n",
       "<polyline clip-path=\"url(#clip600)\" style=\"stroke:#000000; stroke-linecap:butt; stroke-linejoin:round; stroke-width:4; stroke-opacity:1; fill:none\" points=\"\n",
       "  141.853,1436.21 160.751,1436.21 \n",
       "  \"/>\n",
       "<polyline clip-path=\"url(#clip600)\" style=\"stroke:#000000; stroke-linecap:butt; stroke-linejoin:round; stroke-width:4; stroke-opacity:1; fill:none\" points=\"\n",
       "  141.853,1099.15 160.751,1099.15 \n",
       "  \"/>\n",
       "<polyline clip-path=\"url(#clip600)\" style=\"stroke:#000000; stroke-linecap:butt; stroke-linejoin:round; stroke-width:4; stroke-opacity:1; fill:none\" points=\"\n",
       "  141.853,762.091 160.751,762.091 \n",
       "  \"/>\n",
       "<polyline clip-path=\"url(#clip600)\" style=\"stroke:#000000; stroke-linecap:butt; stroke-linejoin:round; stroke-width:4; stroke-opacity:1; fill:none\" points=\"\n",
       "  141.853,425.034 160.751,425.034 \n",
       "  \"/>\n",
       "<polyline clip-path=\"url(#clip600)\" style=\"stroke:#000000; stroke-linecap:butt; stroke-linejoin:round; stroke-width:4; stroke-opacity:1; fill:none\" points=\"\n",
       "  141.853,87.9763 160.751,87.9763 \n",
       "  \"/>\n",
       "<path clip-path=\"url(#clip600)\" d=\"M93.9086 1422.01 Q90.2975 1422.01 88.4688 1425.57 Q86.6632 1429.11 86.6632 1436.24 Q86.6632 1443.35 88.4688 1446.91 Q90.2975 1450.45 93.9086 1450.45 Q97.5428 1450.45 99.3483 1446.91 Q101.177 1443.35 101.177 1436.24 Q101.177 1429.11 99.3483 1425.57 Q97.5428 1422.01 93.9086 1422.01 M93.9086 1418.3 Q99.7187 1418.3 102.774 1422.91 Q105.853 1427.49 105.853 1436.24 Q105.853 1444.97 102.774 1449.57 Q99.7187 1454.16 93.9086 1454.16 Q88.0984 1454.16 85.0197 1449.57 Q81.9642 1444.97 81.9642 1436.24 Q81.9642 1427.49 85.0197 1422.91 Q88.0984 1418.3 93.9086 1418.3 Z\" fill=\"#000000\" fill-rule=\"evenodd\" fill-opacity=\"1\" /><path clip-path=\"url(#clip600)\" d=\"M54.5569 1112.49 L62.1958 1112.49 L62.1958 1086.13 L53.8856 1087.79 L53.8856 1083.54 L62.1495 1081.87 L66.8254 1081.87 L66.8254 1112.49 L74.4642 1112.49 L74.4642 1116.43 L54.5569 1116.43 L54.5569 1112.49 Z\" fill=\"#000000\" fill-rule=\"evenodd\" fill-opacity=\"1\" /><path clip-path=\"url(#clip600)\" d=\"M93.9086 1084.95 Q90.2975 1084.95 88.4688 1088.51 Q86.6632 1092.05 86.6632 1099.18 Q86.6632 1106.29 88.4688 1109.85 Q90.2975 1113.4 93.9086 1113.4 Q97.5428 1113.4 99.3483 1109.85 Q101.177 1106.29 101.177 1099.18 Q101.177 1092.05 99.3483 1088.51 Q97.5428 1084.95 93.9086 1084.95 M93.9086 1081.24 Q99.7187 1081.24 102.774 1085.85 Q105.853 1090.43 105.853 1099.18 Q105.853 1107.91 102.774 1112.52 Q99.7187 1117.1 93.9086 1117.1 Q88.0984 1117.1 85.0197 1112.52 Q81.9642 1107.91 81.9642 1099.18 Q81.9642 1090.43 85.0197 1085.85 Q88.0984 1081.24 93.9086 1081.24 Z\" fill=\"#000000\" fill-rule=\"evenodd\" fill-opacity=\"1\" /><path clip-path=\"url(#clip600)\" d=\"M57.7745 775.436 L74.0939 775.436 L74.0939 779.371 L52.1495 779.371 L52.1495 775.436 Q54.8115 772.682 59.3949 768.052 Q64.0013 763.399 65.1819 762.057 Q67.4272 759.533 68.3068 757.797 Q69.2096 756.038 69.2096 754.348 Q69.2096 751.594 67.2652 749.858 Q65.3439 748.122 62.2421 748.122 Q60.043 748.122 57.5893 748.885 Q55.1588 749.649 52.381 751.2 L52.381 746.478 Q55.2051 745.344 57.6588 744.765 Q60.1124 744.186 62.1495 744.186 Q67.5198 744.186 70.7142 746.872 Q73.9087 749.557 73.9087 754.047 Q73.9087 756.177 73.0985 758.098 Q72.3115 759.996 70.205 762.589 Q69.6263 763.26 66.5245 766.478 Q63.4226 769.672 57.7745 775.436 Z\" fill=\"#000000\" fill-rule=\"evenodd\" fill-opacity=\"1\" /><path clip-path=\"url(#clip600)\" d=\"M93.9086 747.89 Q90.2975 747.89 88.4688 751.455 Q86.6632 754.996 86.6632 762.126 Q86.6632 769.233 88.4688 772.797 Q90.2975 776.339 93.9086 776.339 Q97.5428 776.339 99.3483 772.797 Q101.177 769.233 101.177 762.126 Q101.177 754.996 99.3483 751.455 Q97.5428 747.89 93.9086 747.89 M93.9086 744.186 Q99.7187 744.186 102.774 748.793 Q105.853 753.376 105.853 762.126 Q105.853 770.853 102.774 775.459 Q99.7187 780.043 93.9086 780.043 Q88.0984 780.043 85.0197 775.459 Q81.9642 770.853 81.9642 762.126 Q81.9642 753.376 85.0197 748.793 Q88.0984 744.186 93.9086 744.186 Z\" fill=\"#000000\" fill-rule=\"evenodd\" fill-opacity=\"1\" /><path clip-path=\"url(#clip600)\" d=\"M67.9133 423.68 Q71.2698 424.397 73.1448 426.666 Q75.0429 428.934 75.0429 432.268 Q75.0429 437.383 71.5244 440.184 Q68.0059 442.985 61.5245 442.985 Q59.3486 442.985 57.0338 442.545 Q54.7421 442.129 52.2884 441.272 L52.2884 436.758 Q54.2328 437.893 56.5477 438.471 Q58.8625 439.05 61.3856 439.05 Q65.7837 439.05 68.0754 437.314 Q70.3902 435.578 70.3902 432.268 Q70.3902 429.212 68.2374 427.499 Q66.1078 425.763 62.2884 425.763 L58.2606 425.763 L58.2606 421.92 L62.4735 421.92 Q65.9226 421.92 67.7513 420.555 Q69.58 419.166 69.58 416.573 Q69.58 413.911 67.6819 412.499 Q65.8069 411.064 62.2884 411.064 Q60.3671 411.064 58.168 411.481 Q55.969 411.897 53.3301 412.777 L53.3301 408.61 Q55.9921 407.87 58.3069 407.499 Q60.6449 407.129 62.705 407.129 Q68.0291 407.129 71.1309 409.559 Q74.2327 411.967 74.2327 416.087 Q74.2327 418.957 72.5892 420.948 Q70.9457 422.916 67.9133 423.68 Z\" fill=\"#000000\" fill-rule=\"evenodd\" fill-opacity=\"1\" /><path clip-path=\"url(#clip600)\" d=\"M93.9086 410.833 Q90.2975 410.833 88.4688 414.397 Q86.6632 417.939 86.6632 425.069 Q86.6632 432.175 88.4688 435.74 Q90.2975 439.281 93.9086 439.281 Q97.5428 439.281 99.3483 435.74 Q101.177 432.175 101.177 425.069 Q101.177 417.939 99.3483 414.397 Q97.5428 410.833 93.9086 410.833 M93.9086 407.129 Q99.7187 407.129 102.774 411.735 Q105.853 416.319 105.853 425.069 Q105.853 433.795 102.774 438.402 Q99.7187 442.985 93.9086 442.985 Q88.0984 442.985 85.0197 438.402 Q81.9642 433.795 81.9642 425.069 Q81.9642 416.319 85.0197 411.735 Q88.0984 407.129 93.9086 407.129 Z\" fill=\"#000000\" fill-rule=\"evenodd\" fill-opacity=\"1\" /><path clip-path=\"url(#clip600)\" d=\"M66.5939 74.7703 L54.7884 93.2193 L66.5939 93.2193 L66.5939 74.7703 M65.367 70.6963 L71.2466 70.6963 L71.2466 93.2193 L76.1772 93.2193 L76.1772 97.1082 L71.2466 97.1082 L71.2466 105.256 L66.5939 105.256 L66.5939 97.1082 L50.9921 97.1082 L50.9921 92.5943 L65.367 70.6963 Z\" fill=\"#000000\" fill-rule=\"evenodd\" fill-opacity=\"1\" /><path clip-path=\"url(#clip600)\" d=\"M93.9086 73.775 Q90.2975 73.775 88.4688 77.3398 Q86.6632 80.8814 86.6632 88.011 Q86.6632 95.1174 88.4688 98.6822 Q90.2975 102.224 93.9086 102.224 Q97.5428 102.224 99.3483 98.6822 Q101.177 95.1174 101.177 88.011 Q101.177 80.8814 99.3483 77.3398 Q97.5428 73.775 93.9086 73.775 M93.9086 70.0713 Q99.7187 70.0713 102.774 74.6777 Q105.853 79.261 105.853 88.011 Q105.853 96.7378 102.774 101.344 Q99.7187 105.928 93.9086 105.928 Q88.0984 105.928 85.0197 101.344 Q81.9642 96.7378 81.9642 88.011 Q81.9642 79.261 85.0197 74.6777 Q88.0984 70.0713 93.9086 70.0713 Z\" fill=\"#000000\" fill-rule=\"evenodd\" fill-opacity=\"1\" /><circle clip-path=\"url(#clip602)\" cx=\"204.426\" cy=\"87.9763\" r=\"14\" fill=\"#009af9\" fill-rule=\"evenodd\" fill-opacity=\"1\" stroke=\"#000000\" stroke-opacity=\"1\" stroke-width=\"3.2\"/>\n",
       "<circle clip-path=\"url(#clip602)\" cx=\"413.001\" cy=\"1031.74\" r=\"14\" fill=\"#009af9\" fill-rule=\"evenodd\" fill-opacity=\"1\" stroke=\"#000000\" stroke-opacity=\"1\" stroke-width=\"3.2\"/>\n",
       "<circle clip-path=\"url(#clip602)\" cx=\"621.577\" cy=\"1436.21\" r=\"14\" fill=\"#009af9\" fill-rule=\"evenodd\" fill-opacity=\"1\" stroke=\"#000000\" stroke-opacity=\"1\" stroke-width=\"3.2\"/>\n",
       "<circle clip-path=\"url(#clip602)\" cx=\"830.153\" cy=\"1436.21\" r=\"14\" fill=\"#009af9\" fill-rule=\"evenodd\" fill-opacity=\"1\" stroke=\"#000000\" stroke-opacity=\"1\" stroke-width=\"3.2\"/>\n",
       "<circle clip-path=\"url(#clip602)\" cx=\"1038.73\" cy=\"1436.21\" r=\"14\" fill=\"#009af9\" fill-rule=\"evenodd\" fill-opacity=\"1\" stroke=\"#000000\" stroke-opacity=\"1\" stroke-width=\"3.2\"/>\n",
       "<circle clip-path=\"url(#clip602)\" cx=\"1247.3\" cy=\"1436.21\" r=\"14\" fill=\"#009af9\" fill-rule=\"evenodd\" fill-opacity=\"1\" stroke=\"#000000\" stroke-opacity=\"1\" stroke-width=\"3.2\"/>\n",
       "<circle clip-path=\"url(#clip602)\" cx=\"1455.88\" cy=\"1436.21\" r=\"14\" fill=\"#009af9\" fill-rule=\"evenodd\" fill-opacity=\"1\" stroke=\"#000000\" stroke-opacity=\"1\" stroke-width=\"3.2\"/>\n",
       "<circle clip-path=\"url(#clip602)\" cx=\"1664.46\" cy=\"1436.21\" r=\"14\" fill=\"#009af9\" fill-rule=\"evenodd\" fill-opacity=\"1\" stroke=\"#000000\" stroke-opacity=\"1\" stroke-width=\"3.2\"/>\n",
       "<circle clip-path=\"url(#clip602)\" cx=\"1873.03\" cy=\"1436.21\" r=\"14\" fill=\"#009af9\" fill-rule=\"evenodd\" fill-opacity=\"1\" stroke=\"#000000\" stroke-opacity=\"1\" stroke-width=\"3.2\"/>\n",
       "<circle clip-path=\"url(#clip602)\" cx=\"2081.61\" cy=\"1436.21\" r=\"14\" fill=\"#009af9\" fill-rule=\"evenodd\" fill-opacity=\"1\" stroke=\"#000000\" stroke-opacity=\"1\" stroke-width=\"3.2\"/>\n",
       "<circle clip-path=\"url(#clip602)\" cx=\"2290.18\" cy=\"1436.21\" r=\"14\" fill=\"#009af9\" fill-rule=\"evenodd\" fill-opacity=\"1\" stroke=\"#000000\" stroke-opacity=\"1\" stroke-width=\"3.2\"/>\n",
       "<circle clip-path=\"url(#clip602)\" cx=\"204.426\" cy=\"98.5188\" r=\"14\" fill=\"#e26f46\" fill-rule=\"evenodd\" fill-opacity=\"1\" stroke=\"#000000\" stroke-opacity=\"1\" stroke-width=\"3.2\"/>\n",
       "<circle clip-path=\"url(#clip602)\" cx=\"413.001\" cy=\"1046.41\" r=\"14\" fill=\"#e26f46\" fill-rule=\"evenodd\" fill-opacity=\"1\" stroke=\"#000000\" stroke-opacity=\"1\" stroke-width=\"3.2\"/>\n",
       "<circle clip-path=\"url(#clip602)\" cx=\"621.577\" cy=\"1432.33\" r=\"14\" fill=\"#e26f46\" fill-rule=\"evenodd\" fill-opacity=\"1\" stroke=\"#000000\" stroke-opacity=\"1\" stroke-width=\"3.2\"/>\n",
       "<circle clip-path=\"url(#clip602)\" cx=\"830.153\" cy=\"1431.84\" r=\"14\" fill=\"#e26f46\" fill-rule=\"evenodd\" fill-opacity=\"1\" stroke=\"#000000\" stroke-opacity=\"1\" stroke-width=\"3.2\"/>\n",
       "<circle clip-path=\"url(#clip602)\" cx=\"1038.73\" cy=\"1427.2\" r=\"14\" fill=\"#e26f46\" fill-rule=\"evenodd\" fill-opacity=\"1\" stroke=\"#000000\" stroke-opacity=\"1\" stroke-width=\"3.2\"/>\n",
       "<circle clip-path=\"url(#clip602)\" cx=\"1247.3\" cy=\"1435.15\" r=\"14\" fill=\"#e26f46\" fill-rule=\"evenodd\" fill-opacity=\"1\" stroke=\"#000000\" stroke-opacity=\"1\" stroke-width=\"3.2\"/>\n",
       "<circle clip-path=\"url(#clip602)\" cx=\"1455.88\" cy=\"1426.3\" r=\"14\" fill=\"#e26f46\" fill-rule=\"evenodd\" fill-opacity=\"1\" stroke=\"#000000\" stroke-opacity=\"1\" stroke-width=\"3.2\"/>\n",
       "<circle clip-path=\"url(#clip602)\" cx=\"1664.46\" cy=\"1423.46\" r=\"14\" fill=\"#e26f46\" fill-rule=\"evenodd\" fill-opacity=\"1\" stroke=\"#000000\" stroke-opacity=\"1\" stroke-width=\"3.2\"/>\n",
       "<circle clip-path=\"url(#clip602)\" cx=\"1873.03\" cy=\"1445.72\" r=\"14\" fill=\"#e26f46\" fill-rule=\"evenodd\" fill-opacity=\"1\" stroke=\"#000000\" stroke-opacity=\"1\" stroke-width=\"3.2\"/>\n",
       "<circle clip-path=\"url(#clip602)\" cx=\"2081.61\" cy=\"1438.25\" r=\"14\" fill=\"#e26f46\" fill-rule=\"evenodd\" fill-opacity=\"1\" stroke=\"#000000\" stroke-opacity=\"1\" stroke-width=\"3.2\"/>\n",
       "<circle clip-path=\"url(#clip602)\" cx=\"2290.18\" cy=\"1437.23\" r=\"14\" fill=\"#e26f46\" fill-rule=\"evenodd\" fill-opacity=\"1\" stroke=\"#000000\" stroke-opacity=\"1\" stroke-width=\"3.2\"/>\n",
       "<path clip-path=\"url(#clip600)\" d=\"\n",
       "M1980.97 250.738 L2279.06 250.738 L2279.06 95.2176 L1980.97 95.2176  Z\n",
       "  \" fill=\"#ffffff\" fill-rule=\"evenodd\" fill-opacity=\"1\"/>\n",
       "<polyline clip-path=\"url(#clip600)\" style=\"stroke:#000000; stroke-linecap:butt; stroke-linejoin:round; stroke-width:4; stroke-opacity:1; fill:none\" points=\"\n",
       "  1980.97,250.738 2279.06,250.738 2279.06,95.2176 1980.97,95.2176 1980.97,250.738 \n",
       "  \"/>\n",
       "<circle clip-path=\"url(#clip600)\" cx=\"2079.24\" cy=\"147.058\" r=\"23\" fill=\"#009af9\" fill-rule=\"evenodd\" fill-opacity=\"1\" stroke=\"#000000\" stroke-opacity=\"1\" stroke-width=\"5.12\"/>\n",
       "<path clip-path=\"url(#clip600)\" d=\"M2191.34 166.745 Q2189.53 171.375 2187.82 172.787 Q2186.11 174.199 2183.24 174.199 L2179.84 174.199 L2179.84 170.634 L2182.34 170.634 Q2184.09 170.634 2185.07 169.8 Q2186.04 168.967 2187.22 165.865 L2187.98 163.921 L2177.5 138.412 L2182.01 138.412 L2190.11 158.689 L2198.22 138.412 L2202.73 138.412 L2191.34 166.745 Z\" fill=\"#000000\" fill-rule=\"evenodd\" fill-opacity=\"1\" /><path clip-path=\"url(#clip600)\" d=\"M2210.02 160.402 L2217.66 160.402 L2217.66 134.037 L2209.35 135.703 L2209.35 131.444 L2217.61 129.778 L2222.29 129.778 L2222.29 160.402 L2229.93 160.402 L2229.93 164.338 L2210.02 164.338 L2210.02 160.402 Z\" fill=\"#000000\" fill-rule=\"evenodd\" fill-opacity=\"1\" /><circle clip-path=\"url(#clip600)\" cx=\"2079.24\" cy=\"198.898\" r=\"23\" fill=\"#e26f46\" fill-rule=\"evenodd\" fill-opacity=\"1\" stroke=\"#000000\" stroke-opacity=\"1\" stroke-width=\"5.12\"/>\n",
       "<path clip-path=\"url(#clip600)\" d=\"M2191.34 218.585 Q2189.53 223.215 2187.82 224.627 Q2186.11 226.039 2183.24 226.039 L2179.84 226.039 L2179.84 222.474 L2182.34 222.474 Q2184.09 222.474 2185.07 221.64 Q2186.04 220.807 2187.22 217.705 L2187.98 215.761 L2177.5 190.252 L2182.01 190.252 L2190.11 210.529 L2198.22 190.252 L2202.73 190.252 L2191.34 218.585 Z\" fill=\"#000000\" fill-rule=\"evenodd\" fill-opacity=\"1\" /><path clip-path=\"url(#clip600)\" d=\"M2213.24 212.242 L2229.56 212.242 L2229.56 216.178 L2207.61 216.178 L2207.61 212.242 Q2210.28 209.488 2214.86 204.858 Q2219.47 200.205 2220.65 198.863 Q2222.89 196.34 2223.77 194.604 Q2224.67 192.844 2224.67 191.155 Q2224.67 188.4 2222.73 186.664 Q2220.81 184.928 2217.71 184.928 Q2215.51 184.928 2213.05 185.692 Q2210.62 186.455 2207.84 188.006 L2207.84 183.284 Q2210.67 182.15 2213.12 181.571 Q2215.58 180.993 2217.61 180.993 Q2222.98 180.993 2226.18 183.678 Q2229.37 186.363 2229.37 190.854 Q2229.37 192.983 2228.56 194.905 Q2227.78 196.803 2225.67 199.395 Q2225.09 200.067 2221.99 203.284 Q2218.89 206.479 2213.24 212.242 Z\" fill=\"#000000\" fill-rule=\"evenodd\" fill-opacity=\"1\" /></svg>\n"
      ]
     },
     "execution_count": 195,
     "metadata": {},
     "output_type": "execute_result"
    }
   ],
   "source": [
    "scatter(0:10, teor)\n",
    "scatter!(0:10, γ)"
   ]
  },
  {
   "cell_type": "markdown",
   "metadata": {},
   "source": [
    "# Zad 5"
   ]
  },
  {
   "cell_type": "code",
   "execution_count": 206,
   "metadata": {},
   "outputs": [
    {
     "data": {
      "text/plain": [
       "1000"
      ]
     },
     "execution_count": 206,
     "metadata": {},
     "output_type": "execute_result"
    }
   ],
   "source": [
    "θ=3\n",
    "σ=1\n",
    "μ=0\n",
    "a=1/3\n",
    "p=1/7\n",
    "n=Int(1e3)"
   ]
  },
  {
   "cell_type": "code",
   "execution_count": 207,
   "metadata": {},
   "outputs": [],
   "source": [
    "X=N(n=n+1, μ=μ, σ=σ);"
   ]
  },
  {
   "cell_type": "code",
   "execution_count": 208,
   "metadata": {},
   "outputs": [],
   "source": [
    "Y=X[2:end].+θ.*X[1:end-1].+[i<1-p ? 0 : i<1-p/2 ? a : -a for i in rand(n)];"
   ]
  },
  {
   "cell_type": "code",
   "execution_count": null,
   "metadata": {},
   "outputs": [],
   "source": [
    "γ=Γ(Y)"
   ]
  },
  {
   "cell_type": "code",
   "execution_count": null,
   "metadata": {},
   "outputs": [],
   "source": []
  },
  {
   "cell_type": "code",
   "execution_count": null,
   "metadata": {},
   "outputs": [],
   "source": []
  }
 ],
 "metadata": {
  "kernelspec": {
   "display_name": "Julia 1.7.2",
   "language": "julia",
   "name": "julia-1.7"
  },
  "language_info": {
   "file_extension": ".jl",
   "mimetype": "application/julia",
   "name": "julia",
   "version": "1.7.2"
  },
  "toc": {
   "base_numbering": 1,
   "nav_menu": {},
   "number_sections": true,
   "sideBar": true,
   "skip_h1_title": false,
   "title_cell": "Table of Contents",
   "title_sidebar": "Contents",
   "toc_cell": false,
   "toc_position": {},
   "toc_section_display": true,
   "toc_window_display": false
  }
 },
 "nbformat": 4,
 "nbformat_minor": 4
}
